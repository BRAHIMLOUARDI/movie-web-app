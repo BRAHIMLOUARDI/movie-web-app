{
  "cells": [
    {
      "cell_type": "markdown",
      "metadata": {
        "id": "view-in-github",
        "colab_type": "text"
      },
      "source": [
        "<a href=\"https://colab.research.google.com/github/BRAHIMLOUARDI/movie-web-app/blob/main/Welcome_To_Colaboratory1.ipynb\" target=\"_parent\"><img src=\"https://colab.research.google.com/assets/colab-badge.svg\" alt=\"Open In Colab\"/></a>"
      ]
    },
    {
      "cell_type": "code",
      "source": [
        "!pip install -q keras"
      ],
      "metadata": {
        "id": "M5itfG-q7XAe"
      },
      "execution_count": 2,
      "outputs": []
    },
    {
      "cell_type": "code",
      "source": [
        "# import string\n",
        "# import numpy as np\n",
        "\n",
        "# from keras.preprocessing.text import Tokenizer\n",
        "# from keras.preprocessing.sequence import pad_sequences\n",
        "# from keras.models import Model,Sequential\n",
        "# from keras.layers import LSTM, Input, TimeDistributed, Dense, Activation, RepeatVector, Embedding\n",
        "# from tensorflow.keras.optimizers import Adam\n",
        "# from keras.losses import sparse_categorical_crossentropy\n",
        "\n",
        "# Path to translation filekk\n",
        "path_to_data = 'fra_eng_sc.txt'\n",
        "\n",
        "# Read file\n",
        "translation_file = open(path_to_data,\"r\", encoding='utf-8') \n",
        "raw_data = translation_file.read()\n",
        "translation_file.close()\n",
        "\n",
        "# Parse data\n",
        "raw_data = raw_data.split('\\n')\n",
        "pairs = [sentence.split('\\t') for sentence in  raw_data]\n",
        "# pairs=pairs[0:len(pairs)]\n",
        "\n"
      ],
      "metadata": {
        "id": "dl2gDN6AeCsh"
      },
      "execution_count": 32,
      "outputs": []
    },
    {
      "cell_type": "code",
      "source": [
        "x=0\n",
        "for index,pair in enumerate(pairs):\n",
        "  print(pair[1])\n",
        "  x=index\n",
        "  print(x)\n",
        "\n",
        "print(pairs[58270])\n"
      ],
      "metadata": {
        "id": "XZFwdFT427Z7"
      },
      "execution_count": null,
      "outputs": []
    },
    {
      "cell_type": "code",
      "source": [
        "!unzip  fra-eng.zip"
      ],
      "metadata": {
        "colab": {
          "base_uri": "https://localhost:8080/"
        },
        "id": "lotUyi_pb7cb",
        "outputId": "aebbffca-3315-4395-ab53-372fc284eb76"
      },
      "execution_count": 2,
      "outputs": [
        {
          "output_type": "stream",
          "name": "stdout",
          "text": [
            "Archive:  fra-eng.zip\n",
            "  inflating: _about.txt              \n",
            "  inflating: fra.txt                 \n"
          ]
        }
      ]
    },
    {
      "cell_type": "code",
      "source": [
        "def smart_find(haystack, needle):\n",
        "    if haystack.startswith(needle+\" \"):\n",
        "        return True\n",
        "    if haystack.endswith(\" \"+needle):\n",
        "        return True\n",
        "    if haystack.find(\" \"+needle+\" \") != -1:\n",
        "        return True\n",
        "    return False"
      ],
      "metadata": {
        "id": "cUqrjg0YWKOJ"
      },
      "execution_count": 4,
      "outputs": []
    },
    {
      "cell_type": "code",
      "source": [
        "def clean_sentence(sentence):\n",
        "    # Lower case the sentence\n",
        "    lower_case_sent = sentence.lower()\n",
        "    # Strip punctuation\n",
        "    string_punctuation = \"?\" + \"¡\" + '¿'+\".\"+\"!\" ;\n",
        "    clean_sentence = lower_case_sent.translate(str.maketrans('', '', string_punctuation))\n",
        "   \n",
        "    return clean_sentence"
      ],
      "metadata": {
        "id": "kppzLb79oYWj"
      },
      "execution_count": 7,
      "outputs": []
    },
    {
      "cell_type": "code",
      "source": [
        "from Book1 import words \n",
        "raw_data1=raw_data[0:60000]\n",
        "raw_data2=[]\n",
        "cout=0\n",
        "for index,raw in enumerate(raw_data1):\n",
        "  word_in_raw=False\n",
        "  for word in words:\n",
        "    clean_raw=clean_sentence(raw)\n",
        "    if smart_find(clean_raw,word['English']) and not smart_find(clean_raw,word['French']):\n",
        "      print(index)\n",
        "      print('\\n')\n",
        "      print(word)\n",
        "      print('\\n')\n",
        "      print(clean_raw)\n",
        "      print('\\n')\n",
        "      print('---------')\n",
        "      \n",
        "      word_in_raw=True\n",
        "  if not word_in_raw :\n",
        "    cout=cout+1\n",
        "    raw_data2.append(raw)\n",
        "\n",
        "\n"
      ],
      "metadata": {
        "id": "oPXP-IDWQlTU"
      },
      "execution_count": null,
      "outputs": []
    },
    {
      "cell_type": "code",
      "source": [
        "raw_data3=raw_data[0:len(raw_data)]\n",
        "\n",
        "# for word in words:\n",
        "#   z=word['English']+'\\t'+word['French']\n",
        "#   raw_data3.append(z)\n",
        "\n",
        "\n",
        "\n"
      ],
      "metadata": {
        "id": "RnJFYkARoymQ"
      },
      "execution_count": 106,
      "outputs": []
    },
    {
      "cell_type": "code",
      "source": [
        "for word in words:\n",
        "  z=word['English']+'\\t'+word['French']\n",
        "  raw_data3.append(z)"
      ],
      "metadata": {
        "id": "ZM0bCyC90j7-"
      },
      "execution_count": 108,
      "outputs": []
    },
    {
      "cell_type": "code",
      "source": [
        "# from Book1 import words \n",
        "# words2=words\n",
        "# x=words1[1]['English']\n",
        "# print(x.split('\\/'))\n",
        "for word in words1:\n",
        "  word['English']=word['English'][0]\n",
        "  word['French']=word['French'][0]\n",
        "  word['Arabic']=word['Arabic'][0]\n"
      ],
      "metadata": {
        "id": "_oADz2m2vw4J"
      },
      "execution_count": 92,
      "outputs": []
    },
    {
      "cell_type": "code",
      "source": [
        "for index, word in enumerate(words1):\n",
        "   if 'Hardy-Weinberg principle'==word['English']:\n",
        "       print(index)\n",
        "       print(word)"
      ],
      "metadata": {
        "id": "i-ruVr6dxGhO"
      },
      "execution_count": null,
      "outputs": []
    },
    {
      "cell_type": "code",
      "source": [
        ""
      ],
      "metadata": {
        "id": "nRPTTGSTzn-1"
      },
      "execution_count": null,
      "outputs": []
    },
    {
      "cell_type": "code",
      "source": [
        "with open('fra_eng_sc.txt', 'w') as f:\n",
        "    for raw in raw_data3:\n",
        "        f.write(\"%s\\n\" % raw)"
      ],
      "metadata": {
        "id": "QjJFSpsKnDCb"
      },
      "execution_count": 109,
      "outputs": []
    },
    {
      "cell_type": "markdown",
      "source": [
        ""
      ],
      "metadata": {
        "id": "0RzVbQFovath"
      }
    },
    {
      "cell_type": "code",
      "source": [
        "print(len(words))"
      ],
      "metadata": {
        "colab": {
          "base_uri": "https://localhost:8080/"
        },
        "id": "uPIP_qY8new5",
        "outputId": "0ea13473-498f-47a8-d63e-fb7330784ea5"
      },
      "execution_count": 71,
      "outputs": [
        {
          "output_type": "stream",
          "name": "stdout",
          "text": [
            "1445\n"
          ]
        }
      ]
    },
    {
      "cell_type": "code",
      "source": [
        "def tokenize(sentences):\n",
        "    # Create tokenizer\n",
        "    text_tokenizer = Tokenizer()\n",
        "    # Fit texts\n",
        "    text_tokenizer.fit_on_texts(sentences)\n",
        "    return text_tokenizer.texts_to_sequences(sentences), text_tokenizer"
      ],
      "metadata": {
        "id": "FlMW2oEBpK1-"
      },
      "execution_count": 8,
      "outputs": []
    },
    {
      "cell_type": "code",
      "source": [
        "\n",
        "english_sentences = [clean_sentence(pair[0]) for pair in pairs]\n",
        "french_sentences = [clean_sentence(pair[1]) for pair in pairs]\n",
        "\n",
        "# Tokenize words\n",
        "fra_text_tokenized, fra_text_tokenizer = tokenize(french_sentences)\n",
        "eng_text_tokenized, eng_text_tokenizer = tokenize(english_sentences)\n",
        "\n",
        "print('Maximum length french sentence: {}'.format(len(max(fra_text_tokenized,key=len))))\n",
        "print('Maximum length english sentence: {}'.format(len(max(eng_text_tokenized,key=len))))\n",
        "\n",
        "\n",
        "# Check language length\n",
        "french_vocab = len(fra_text_tokenizer.word_index) + 1\n",
        "english_vocab = len(eng_text_tokenizer.word_index) + 1\n",
        "print(\"french vocabulary is of {} unique words\".format(french_vocab))\n",
        "print(\"English vocabulary is of {} unique words\".format(english_vocab))"
      ],
      "metadata": {
        "id": "FJd49T6VpQtn",
        "outputId": "88043659-cb15-43e7-f75e-5495bd0b00d3",
        "colab": {
          "base_uri": "https://localhost:8080/"
        }
      },
      "execution_count": 36,
      "outputs": [
        {
          "output_type": "stream",
          "name": "stdout",
          "text": [
            "Maximum length french sentence: 14\n",
            "Maximum length english sentence: 8\n",
            "french vocabulary is of 15076 unique words\n",
            "English vocabulary is of 7537 unique words\n"
          ]
        }
      ]
    },
    {
      "cell_type": "code",
      "source": [
        "print(french_sentences[50000])"
      ],
      "metadata": {
        "id": "8uoEeXxoQ5BU",
        "outputId": "5ccd4871-447f-44b0-dc8a-85f4fdc73422",
        "colab": {
          "base_uri": "https://localhost:8080/"
        }
      },
      "execution_count": null,
      "outputs": [
        {
          "output_type": "stream",
          "name": "stdout",
          "text": [
            "n'est-ce pas agaçant\n"
          ]
        }
      ]
    },
    {
      "cell_type": "code",
      "source": [
        "max_french_len = int(len(max(fra_text_tokenized,key=len)))\n",
        "max_english_len = int(len(max(eng_text_tokenized,key=len)))\n",
        "\n",
        "fra_pad_sentence = pad_sequences(fra_text_tokenized,15, padding = \"post\")\n",
        "eng_pad_sentence = pad_sequences(eng_text_tokenized,15, padding = \"post\")\n",
        "\n",
        "\n",
        "\n",
        "\n",
        "fra_pad_sentence = fra_pad_sentence.reshape(*fra_pad_sentence.shape, 1)\n",
        "eng_pad_sentence = eng_pad_sentence.reshape(*eng_pad_sentence.shape, 1)"
      ],
      "metadata": {
        "id": "g6LIc2DpqRUl"
      },
      "execution_count": 37,
      "outputs": []
    },
    {
      "cell_type": "code",
      "source": [
        "input_sequence = Input(shape=(15,))\n",
        "embedding = Embedding(input_dim=french_vocab, output_dim=128,)(input_sequence)"
      ],
      "metadata": {
        "id": "mWBT4WhOutoR"
      },
      "execution_count": 38,
      "outputs": []
    },
    {
      "cell_type": "code",
      "source": [
        "encoder = LSTM(64, return_sequences=False)(embedding)\n",
        "r_vec = RepeatVector(15)(encoder)\n",
        "decoder = LSTM(64, return_sequences=True, dropout=0.2)(r_vec)\n",
        "logits = TimeDistributed(Dense(english_vocab))(decoder)\n"
      ],
      "metadata": {
        "id": "YFefu6Nf4hDa"
      },
      "execution_count": 39,
      "outputs": []
    },
    {
      "cell_type": "code",
      "source": [
        "enc_dec_model = Model(input_sequence, Activation('softmax')(logits))\n",
        "enc_dec_model.compile(loss=sparse_categorical_crossentropy,\n",
        "              optimizer=Adam(1e-3),\n",
        "              metrics=['accuracy'])\n",
        "enc_dec_model.summary()"
      ],
      "metadata": {
        "id": "EdayUG1V4kUn",
        "outputId": "0f06a310-1aa5-4682-bb97-8a326a253dea",
        "colab": {
          "base_uri": "https://localhost:8080/"
        }
      },
      "execution_count": 40,
      "outputs": [
        {
          "output_type": "stream",
          "name": "stdout",
          "text": [
            "Model: \"model\"\n",
            "_________________________________________________________________\n",
            " Layer (type)                Output Shape              Param #   \n",
            "=================================================================\n",
            " input_1 (InputLayer)        [(None, 15)]              0         \n",
            "                                                                 \n",
            " embedding (Embedding)       (None, 15, 128)           1929728   \n",
            "                                                                 \n",
            " lstm (LSTM)                 (None, 64)                49408     \n",
            "                                                                 \n",
            " repeat_vector (RepeatVector  (None, 15, 64)           0         \n",
            " )                                                               \n",
            "                                                                 \n",
            " lstm_1 (LSTM)               (None, 15, 64)            33024     \n",
            "                                                                 \n",
            " time_distributed (TimeDistr  (None, 15, 7537)         489905    \n",
            " ibuted)                                                         \n",
            "                                                                 \n",
            " activation (Activation)     (None, 15, 7537)          0         \n",
            "                                                                 \n",
            "=================================================================\n",
            "Total params: 2,502,065\n",
            "Trainable params: 2,502,065\n",
            "Non-trainable params: 0\n",
            "_________________________________________________________________\n"
          ]
        }
      ]
    },
    {
      "cell_type": "code",
      "source": [
        "BATCH_SIZE = 32\n",
        "STEPS_PER_EPOCH = len(fra_pad_sentence) / BATCH_SIZE\n",
        "SAVE_PERIOD = 10\n",
        "\n",
        "\n",
        "from keras.callbacks import ModelCheckpoint\n",
        "checkpoint = ModelCheckpoint(\"model/weights1.{epoch:02d}.hdf5\", monitor='loss', verbose=1,\n",
        "    save_best_only=True, mode='auto', save_freq=int(SAVE_PERIOD * STEPS_PER_EPOCH))"
      ],
      "metadata": {
        "id": "wwSe7dqOgZfC"
      },
      "execution_count": null,
      "outputs": []
    },
    {
      "cell_type": "code",
      "source": [
        "print(int(SAVE_PERIOD * STEPS_PER_EPOCH))"
      ],
      "metadata": {
        "id": "XOQs3jVWVCcM",
        "outputId": "69d3a65f-4284-43e3-82d2-440ccc10bed7",
        "colab": {
          "base_uri": "https://localhost:8080/"
        }
      },
      "execution_count": null,
      "outputs": [
        {
          "output_type": "stream",
          "name": "stdout",
          "text": [
            "20000\n"
          ]
        }
      ]
    },
    {
      "cell_type": "code",
      "source": [
        "model_results = enc_dec_model.fit(fra_pad_sentence, eng_pad_sentence, batch_size=32, epochs=100)\n"
      ],
      "metadata": {
        "id": "-n0L3m3h4rAn",
        "outputId": "aa405d1d-6e13-4528-9851-2d33e2c9af14",
        "colab": {
          "base_uri": "https://localhost:8080/"
        }
      },
      "execution_count": 41,
      "outputs": [
        {
          "output_type": "stream",
          "name": "stdout",
          "text": [
            "Epoch 1/100\n",
            "1867/1867 [==============================] - 25s 9ms/step - loss: 1.7875 - accuracy: 0.7626\n",
            "Epoch 2/100\n",
            "1867/1867 [==============================] - 18s 9ms/step - loss: 1.5558 - accuracy: 0.7661\n",
            "Epoch 3/100\n",
            "1867/1867 [==============================] - 17s 9ms/step - loss: 1.5432 - accuracy: 0.7662\n",
            "Epoch 4/100\n",
            "1867/1867 [==============================] - 18s 9ms/step - loss: 1.4528 - accuracy: 0.7758\n",
            "Epoch 5/100\n",
            "1867/1867 [==============================] - 18s 10ms/step - loss: 1.3137 - accuracy: 0.7901\n",
            "Epoch 6/100\n",
            "1867/1867 [==============================] - 17s 9ms/step - loss: 1.1749 - accuracy: 0.8066\n",
            "Epoch 7/100\n",
            "1867/1867 [==============================] - 18s 9ms/step - loss: 1.0697 - accuracy: 0.8200\n",
            "Epoch 8/100\n",
            "1867/1867 [==============================] - 18s 9ms/step - loss: 0.9906 - accuracy: 0.8287\n",
            "Epoch 9/100\n",
            "1867/1867 [==============================] - 18s 9ms/step - loss: 0.9256 - accuracy: 0.8355\n",
            "Epoch 10/100\n",
            "1867/1867 [==============================] - 18s 9ms/step - loss: 0.8705 - accuracy: 0.8410\n",
            "Epoch 11/100\n",
            "1867/1867 [==============================] - 17s 9ms/step - loss: 0.8233 - accuracy: 0.8459\n",
            "Epoch 12/100\n",
            "1867/1867 [==============================] - 17s 9ms/step - loss: 0.7808 - accuracy: 0.8504\n",
            "Epoch 13/100\n",
            "1867/1867 [==============================] - 17s 9ms/step - loss: 0.7417 - accuracy: 0.8548\n",
            "Epoch 14/100\n",
            "1867/1867 [==============================] - 17s 9ms/step - loss: 0.7063 - accuracy: 0.8590\n",
            "Epoch 15/100\n",
            "1867/1867 [==============================] - 17s 9ms/step - loss: 0.6726 - accuracy: 0.8629\n",
            "Epoch 16/100\n",
            "1867/1867 [==============================] - 17s 9ms/step - loss: 0.6408 - accuracy: 0.8673\n",
            "Epoch 17/100\n",
            "1867/1867 [==============================] - 17s 9ms/step - loss: 0.6116 - accuracy: 0.8712\n",
            "Epoch 18/100\n",
            "1867/1867 [==============================] - 17s 9ms/step - loss: 0.5843 - accuracy: 0.8751\n",
            "Epoch 19/100\n",
            "1867/1867 [==============================] - 17s 9ms/step - loss: 0.5592 - accuracy: 0.8787\n",
            "Epoch 20/100\n",
            "1867/1867 [==============================] - 17s 9ms/step - loss: 0.5364 - accuracy: 0.8825\n",
            "Epoch 21/100\n",
            "1867/1867 [==============================] - 17s 9ms/step - loss: 0.5138 - accuracy: 0.8858\n",
            "Epoch 22/100\n",
            "1867/1867 [==============================] - 17s 9ms/step - loss: 0.4940 - accuracy: 0.8893\n",
            "Epoch 23/100\n",
            "1867/1867 [==============================] - 17s 9ms/step - loss: 0.4747 - accuracy: 0.8923\n",
            "Epoch 24/100\n",
            "1867/1867 [==============================] - 17s 9ms/step - loss: 0.4584 - accuracy: 0.8952\n",
            "Epoch 25/100\n",
            "1867/1867 [==============================] - 17s 9ms/step - loss: 0.4410 - accuracy: 0.8985\n",
            "Epoch 26/100\n",
            "1867/1867 [==============================] - 17s 9ms/step - loss: 0.4261 - accuracy: 0.9011\n",
            "Epoch 27/100\n",
            "1867/1867 [==============================] - 18s 9ms/step - loss: 0.4118 - accuracy: 0.9036\n",
            "Epoch 28/100\n",
            "1867/1867 [==============================] - 17s 9ms/step - loss: 0.3987 - accuracy: 0.9063\n",
            "Epoch 29/100\n",
            "1867/1867 [==============================] - 17s 9ms/step - loss: 0.3862 - accuracy: 0.9087\n",
            "Epoch 30/100\n",
            "1867/1867 [==============================] - 17s 9ms/step - loss: 0.3753 - accuracy: 0.9105\n",
            "Epoch 31/100\n",
            "1867/1867 [==============================] - 17s 9ms/step - loss: 0.3641 - accuracy: 0.9130\n",
            "Epoch 32/100\n",
            "1867/1867 [==============================] - 17s 9ms/step - loss: 0.3532 - accuracy: 0.9150\n",
            "Epoch 33/100\n",
            "1867/1867 [==============================] - 17s 9ms/step - loss: 0.3443 - accuracy: 0.9166\n",
            "Epoch 34/100\n",
            "1867/1867 [==============================] - 17s 9ms/step - loss: 0.3356 - accuracy: 0.9185\n",
            "Epoch 35/100\n",
            "1867/1867 [==============================] - 17s 9ms/step - loss: 0.3271 - accuracy: 0.9200\n",
            "Epoch 36/100\n",
            "1867/1867 [==============================] - 17s 9ms/step - loss: 0.3194 - accuracy: 0.9214\n",
            "Epoch 37/100\n",
            "1867/1867 [==============================] - 17s 9ms/step - loss: 0.3119 - accuracy: 0.9232\n",
            "Epoch 38/100\n",
            "1867/1867 [==============================] - 17s 9ms/step - loss: 0.3054 - accuracy: 0.9243\n",
            "Epoch 39/100\n",
            "1867/1867 [==============================] - 17s 9ms/step - loss: 0.2982 - accuracy: 0.9259\n",
            "Epoch 40/100\n",
            "1867/1867 [==============================] - 17s 9ms/step - loss: 0.2924 - accuracy: 0.9269\n",
            "Epoch 41/100\n",
            "1867/1867 [==============================] - 17s 9ms/step - loss: 0.2859 - accuracy: 0.9281\n",
            "Epoch 42/100\n",
            "1867/1867 [==============================] - 17s 9ms/step - loss: 0.2812 - accuracy: 0.9292\n",
            "Epoch 43/100\n",
            "1867/1867 [==============================] - 17s 9ms/step - loss: 0.2748 - accuracy: 0.9305\n",
            "Epoch 44/100\n",
            "1867/1867 [==============================] - 17s 9ms/step - loss: 0.2702 - accuracy: 0.9316\n",
            "Epoch 45/100\n",
            "1867/1867 [==============================] - 18s 9ms/step - loss: 0.2655 - accuracy: 0.9322\n",
            "Epoch 46/100\n",
            "1867/1867 [==============================] - 17s 9ms/step - loss: 0.2610 - accuracy: 0.9334\n",
            "Epoch 47/100\n",
            "1867/1867 [==============================] - 17s 9ms/step - loss: 0.2561 - accuracy: 0.9344\n",
            "Epoch 48/100\n",
            "1867/1867 [==============================] - 17s 9ms/step - loss: 0.2521 - accuracy: 0.9352\n",
            "Epoch 49/100\n",
            "1867/1867 [==============================] - 17s 9ms/step - loss: 0.2493 - accuracy: 0.9356\n",
            "Epoch 50/100\n",
            "1867/1867 [==============================] - 17s 9ms/step - loss: 0.2442 - accuracy: 0.9368\n",
            "Epoch 51/100\n",
            "1867/1867 [==============================] - 17s 9ms/step - loss: 0.2414 - accuracy: 0.9372\n",
            "Epoch 52/100\n",
            "1867/1867 [==============================] - 17s 9ms/step - loss: 0.2370 - accuracy: 0.9384\n",
            "Epoch 53/100\n",
            "1867/1867 [==============================] - 17s 9ms/step - loss: 0.2332 - accuracy: 0.9388\n",
            "Epoch 54/100\n",
            "1867/1867 [==============================] - 17s 9ms/step - loss: 0.2305 - accuracy: 0.9396\n",
            "Epoch 55/100\n",
            "1867/1867 [==============================] - 17s 9ms/step - loss: 0.2270 - accuracy: 0.9402\n",
            "Epoch 56/100\n",
            "1867/1867 [==============================] - 17s 9ms/step - loss: 0.2244 - accuracy: 0.9407\n",
            "Epoch 57/100\n",
            "1867/1867 [==============================] - 17s 9ms/step - loss: 0.2210 - accuracy: 0.9416\n",
            "Epoch 58/100\n",
            "1867/1867 [==============================] - 17s 9ms/step - loss: 0.2186 - accuracy: 0.9422\n",
            "Epoch 59/100\n",
            "1867/1867 [==============================] - 17s 9ms/step - loss: 0.2159 - accuracy: 0.9427\n",
            "Epoch 60/100\n",
            "1867/1867 [==============================] - 17s 9ms/step - loss: 0.2133 - accuracy: 0.9432\n",
            "Epoch 61/100\n",
            "1867/1867 [==============================] - 17s 9ms/step - loss: 0.2104 - accuracy: 0.9437\n",
            "Epoch 62/100\n",
            "1867/1867 [==============================] - 17s 9ms/step - loss: 0.2079 - accuracy: 0.9443\n",
            "Epoch 63/100\n",
            "1867/1867 [==============================] - 17s 9ms/step - loss: 0.2058 - accuracy: 0.9449\n",
            "Epoch 64/100\n",
            "1867/1867 [==============================] - 17s 9ms/step - loss: 0.2036 - accuracy: 0.9452\n",
            "Epoch 65/100\n",
            "1867/1867 [==============================] - 17s 9ms/step - loss: 0.2016 - accuracy: 0.9458\n",
            "Epoch 66/100\n",
            "1867/1867 [==============================] - 17s 9ms/step - loss: 0.1994 - accuracy: 0.9461\n",
            "Epoch 67/100\n",
            "1867/1867 [==============================] - 17s 9ms/step - loss: 0.1973 - accuracy: 0.9467\n",
            "Epoch 68/100\n",
            "1867/1867 [==============================] - 17s 9ms/step - loss: 0.1957 - accuracy: 0.9469\n",
            "Epoch 69/100\n",
            "1867/1867 [==============================] - 17s 9ms/step - loss: 0.1938 - accuracy: 0.9472\n",
            "Epoch 70/100\n",
            "1867/1867 [==============================] - 17s 9ms/step - loss: 0.1912 - accuracy: 0.9477\n",
            "Epoch 71/100\n",
            "1867/1867 [==============================] - 17s 9ms/step - loss: 0.1895 - accuracy: 0.9483\n",
            "Epoch 72/100\n",
            "1867/1867 [==============================] - 17s 9ms/step - loss: 0.1885 - accuracy: 0.9484\n",
            "Epoch 73/100\n",
            "1867/1867 [==============================] - 17s 9ms/step - loss: 0.1862 - accuracy: 0.9491\n",
            "Epoch 74/100\n",
            "1867/1867 [==============================] - 17s 9ms/step - loss: 0.1844 - accuracy: 0.9491\n",
            "Epoch 75/100\n",
            "1867/1867 [==============================] - 17s 9ms/step - loss: 0.1823 - accuracy: 0.9498\n",
            "Epoch 76/100\n",
            "1867/1867 [==============================] - 17s 9ms/step - loss: 0.1816 - accuracy: 0.9498\n",
            "Epoch 77/100\n",
            "1867/1867 [==============================] - 17s 9ms/step - loss: 0.1797 - accuracy: 0.9503\n",
            "Epoch 78/100\n",
            "1867/1867 [==============================] - 17s 9ms/step - loss: 0.1780 - accuracy: 0.9507\n",
            "Epoch 79/100\n",
            "1867/1867 [==============================] - 17s 9ms/step - loss: 0.1764 - accuracy: 0.9513\n",
            "Epoch 80/100\n",
            "1867/1867 [==============================] - 18s 9ms/step - loss: 0.1759 - accuracy: 0.9511\n",
            "Epoch 81/100\n",
            "1867/1867 [==============================] - 18s 9ms/step - loss: 0.1740 - accuracy: 0.9515\n",
            "Epoch 82/100\n",
            "1867/1867 [==============================] - 17s 9ms/step - loss: 0.1726 - accuracy: 0.9517\n",
            "Epoch 83/100\n",
            "1867/1867 [==============================] - 17s 9ms/step - loss: 0.1712 - accuracy: 0.9522\n",
            "Epoch 84/100\n",
            "1867/1867 [==============================] - 17s 9ms/step - loss: 0.1704 - accuracy: 0.9522\n",
            "Epoch 85/100\n",
            "1867/1867 [==============================] - 17s 9ms/step - loss: 0.1686 - accuracy: 0.9527\n",
            "Epoch 86/100\n",
            "1867/1867 [==============================] - 17s 9ms/step - loss: 0.1674 - accuracy: 0.9528\n",
            "Epoch 87/100\n",
            "1867/1867 [==============================] - 17s 9ms/step - loss: 0.1657 - accuracy: 0.9532\n",
            "Epoch 88/100\n",
            "1867/1867 [==============================] - 17s 9ms/step - loss: 0.1661 - accuracy: 0.9532\n",
            "Epoch 89/100\n",
            "1867/1867 [==============================] - 17s 9ms/step - loss: 0.1644 - accuracy: 0.9539\n",
            "Epoch 90/100\n",
            "1867/1867 [==============================] - 17s 9ms/step - loss: 0.1628 - accuracy: 0.9540\n",
            "Epoch 91/100\n",
            "1867/1867 [==============================] - 17s 9ms/step - loss: 0.1614 - accuracy: 0.9543\n",
            "Epoch 92/100\n",
            "1867/1867 [==============================] - 17s 9ms/step - loss: 0.1605 - accuracy: 0.9546\n",
            "Epoch 93/100\n",
            "1867/1867 [==============================] - 17s 9ms/step - loss: 0.1594 - accuracy: 0.9547\n",
            "Epoch 94/100\n",
            "1867/1867 [==============================] - 17s 9ms/step - loss: 0.1592 - accuracy: 0.9548\n",
            "Epoch 95/100\n",
            "1867/1867 [==============================] - 17s 9ms/step - loss: 0.1572 - accuracy: 0.9554\n",
            "Epoch 96/100\n",
            "1867/1867 [==============================] - 17s 9ms/step - loss: 0.1565 - accuracy: 0.9555\n",
            "Epoch 97/100\n",
            "1867/1867 [==============================] - 17s 9ms/step - loss: 0.1561 - accuracy: 0.9555\n",
            "Epoch 98/100\n",
            "1867/1867 [==============================] - 17s 9ms/step - loss: 0.1550 - accuracy: 0.9558\n",
            "Epoch 99/100\n",
            "1867/1867 [==============================] - 17s 9ms/step - loss: 0.1540 - accuracy: 0.9559\n",
            "Epoch 100/100\n",
            "1867/1867 [==============================] - 17s 9ms/step - loss: 0.1533 - accuracy: 0.9559\n"
          ]
        }
      ]
    },
    {
      "cell_type": "code",
      "source": [
        "enc_dec_model.save('my_model_v3.h5')\n",
        "\n",
        "\n",
        "\n",
        "from google.colab import files\n",
        "files.download('/content/my_model_v3.h5')"
      ],
      "metadata": {
        "id": "oXIV3Yne_LRk",
        "colab": {
          "base_uri": "https://localhost:8080/",
          "height": 17
        },
        "outputId": "be2b81d8-4001-4d76-b338-9a1bef0cbfba"
      },
      "execution_count": 42,
      "outputs": [
        {
          "output_type": "display_data",
          "data": {
            "text/plain": [
              "<IPython.core.display.Javascript object>"
            ],
            "application/javascript": [
              "\n",
              "    async function download(id, filename, size) {\n",
              "      if (!google.colab.kernel.accessAllowed) {\n",
              "        return;\n",
              "      }\n",
              "      const div = document.createElement('div');\n",
              "      const label = document.createElement('label');\n",
              "      label.textContent = `Downloading \"${filename}\": `;\n",
              "      div.appendChild(label);\n",
              "      const progress = document.createElement('progress');\n",
              "      progress.max = size;\n",
              "      div.appendChild(progress);\n",
              "      document.body.appendChild(div);\n",
              "\n",
              "      const buffers = [];\n",
              "      let downloaded = 0;\n",
              "\n",
              "      const channel = await google.colab.kernel.comms.open(id);\n",
              "      // Send a message to notify the kernel that we're ready.\n",
              "      channel.send({})\n",
              "\n",
              "      for await (const message of channel.messages) {\n",
              "        // Send a message to notify the kernel that we're ready.\n",
              "        channel.send({})\n",
              "        if (message.buffers) {\n",
              "          for (const buffer of message.buffers) {\n",
              "            buffers.push(buffer);\n",
              "            downloaded += buffer.byteLength;\n",
              "            progress.value = downloaded;\n",
              "          }\n",
              "        }\n",
              "      }\n",
              "      const blob = new Blob(buffers, {type: 'application/binary'});\n",
              "      const a = document.createElement('a');\n",
              "      a.href = window.URL.createObjectURL(blob);\n",
              "      a.download = filename;\n",
              "      div.appendChild(a);\n",
              "      a.click();\n",
              "      div.remove();\n",
              "    }\n",
              "  "
            ]
          },
          "metadata": {}
        },
        {
          "output_type": "display_data",
          "data": {
            "text/plain": [
              "<IPython.core.display.Javascript object>"
            ],
            "application/javascript": [
              "download(\"download_b028b9a5-e35e-4f63-b59b-cece9df0444e\", \"my_model_v3.h5\", 30078548)"
            ]
          },
          "metadata": {}
        }
      ]
    },
    {
      "cell_type": "code",
      "source": [
        "# import tensorflow as tf\n",
        "# new_enc_dec_model = tf.keras.models.load_model('my_model.h5')\n",
        "\n"
      ],
      "metadata": {
        "id": "gyK75ot6DBSO"
      },
      "execution_count": null,
      "outputs": []
    },
    {
      "cell_type": "code",
      "source": [
        "x=[\"taux d'avancement final d'une réaction chimique\"]\n",
        "y=fra_text_tokenizer.texts_to_sequences(x)\n",
        "z=pad_sequences(y, 15, padding = \"post\")\n",
        "\n",
        "# print(y)\n",
        "z=np.reshape(z,(1,15,1))\n",
        "\n",
        "def logits_to_sentence(logits, tokenizer):\n",
        "\n",
        "    index_to_words = {idx: word for word, idx in tokenizer.word_index.items()}\n",
        "    index_to_words[0] = '' \n",
        "\n",
        "    return ' '.join([index_to_words[prediction] for prediction in np.argmax(logits, 1)])\n",
        "\n",
        "index = 8000\n",
        "# print(\"The english sentence is: {}\".format(english_sentences[index]))\n",
        "print(\"The french sentence is: {}\".format(x[0]))\n",
        "print('The predicted sentence is :')\n",
        "print(logits_to_sentence(enc_dec_model.predict(z)[0], eng_text_tokenizer))\n"
      ],
      "metadata": {
        "id": "0BnIzzcgBQp9",
        "colab": {
          "base_uri": "https://localhost:8080/"
        },
        "outputId": "8886a80b-0769-4aa7-d660-01dcaf003b12"
      },
      "execution_count": 49,
      "outputs": [
        {
          "output_type": "stream",
          "name": "stdout",
          "text": [
            "The french sentence is: taux d'avancement final d'une réaction chimique\n",
            "The predicted sentence is :\n",
            "rate final progress of reaction reaction         \n"
          ]
        }
      ]
    },
    {
      "cell_type": "code",
      "source": [
        " # Lower case the sentence\n",
        "lower_case_sent = \"N'est-ce pas agaçan¡t!.\".lower()\n",
        "print(lower_case_sent)\n",
        "# Strip punctuation\n",
        "string_punctuation = \"?\" + \"¡\" + '¿'+\".\"+\"!\" ;\n",
        "print(string_punctuation)\n",
        "\n",
        "clean_sentence = lower_case_sent.translate(str.maketrans('', '', string_punctuation))\n",
        "print(clean_sentence)\n",
        "print(string.punctuation)"
      ],
      "metadata": {
        "id": "Dm2sdUPqNKn5",
        "outputId": "fce65579-c1a9-4ead-833d-4b4065dff0ca",
        "colab": {
          "base_uri": "https://localhost:8080/"
        }
      },
      "execution_count": null,
      "outputs": [
        {
          "output_type": "stream",
          "name": "stdout",
          "text": [
            "n'est-ce pas agaçan¡t!.\n",
            "?¡¿.!\n",
            "n'est-ce pas agaçant\n",
            "!\"#$%&'()*+,-./:;<=>?@[\\]^_`{|}~\n"
          ]
        }
      ]
    },
    {
      "cell_type": "markdown",
      "source": [
        "exp"
      ],
      "metadata": {
        "id": "FhU3HTDwE84a"
      }
    },
    {
      "cell_type": "code",
      "source": [
        "#exp\n",
        "\n",
        "input_sequence1 = Input(shape=(12,))\n",
        "embedding1 = Embedding(input_dim=7188, output_dim=128,)(input_sequence1)\n",
        "\n",
        "model1 = Model(inputs=input_sequence1 , outputs=embedding1, name=\"mnist_model\")\n",
        "model1.compile('rmsprop', 'mse')\n",
        "\n",
        "\n",
        "input_data = np.array([[1,2,4,5,18,0,0,0,4,10,12,13]])\n",
        "\n",
        "output_array = model1.predict(input_data)\n",
        "print(output_array[0][0])\n"
      ],
      "metadata": {
        "id": "gG7fqULtFbYh",
        "colab": {
          "base_uri": "https://localhost:8080/"
        },
        "outputId": "f6ea4442-a98e-42c7-fbb4-a6c57947ffdb"
      },
      "execution_count": null,
      "outputs": [
        {
          "output_type": "stream",
          "name": "stdout",
          "text": [
            "[ 0.02034706  0.02248744 -0.03376602 -0.01687739 -0.03728447 -0.00209639\n",
            " -0.00100971 -0.02335948  0.00595356  0.02687982  0.03717594  0.02074369\n",
            " -0.04843444 -0.00176772 -0.00239968 -0.04342381  0.02203074  0.00309337\n",
            "  0.00114974  0.04493412 -0.00245256 -0.017037   -0.04806034 -0.02295033\n",
            "  0.04644542 -0.02189548  0.04477992  0.03860844  0.0291361   0.03252422\n",
            "  0.02577506  0.0369927  -0.01474409  0.02011487  0.04395882  0.03625769\n",
            "  0.02296979 -0.00022303 -0.04299204 -0.00083683 -0.00481214  0.03876538\n",
            " -0.04163405 -0.00957751 -0.00837046 -0.03523744  0.03373507 -0.02530587\n",
            " -0.00866864  0.02286681  0.00869872 -0.01245948  0.04525365  0.01941318\n",
            "  0.04451017 -0.04003798 -0.02288283 -0.00895053 -0.03188037  0.02156677\n",
            "  0.01939699 -0.04546351  0.03530386  0.02994759  0.04775039  0.03900445\n",
            "  0.01326055 -0.00981707 -0.04240481 -0.021184   -0.04985572 -0.02521235\n",
            " -0.01867831  0.0159093   0.0180388  -0.02206373  0.04946562  0.04724665\n",
            "  0.03032454 -0.02553148 -0.01261898  0.02932639 -0.04354575  0.00617129\n",
            " -0.00743484  0.01205033  0.0024846  -0.03001519 -0.02633498  0.0162527\n",
            " -0.00525845 -0.02076573  0.03166122 -0.01610708  0.01638556  0.01804887\n",
            " -0.01896322  0.03384682 -0.03988228 -0.0165561   0.03787562  0.01399088\n",
            "  0.0018952  -0.02536255  0.03765402  0.00289423 -0.01857696  0.03095707\n",
            "  0.02990565  0.02580969 -0.03034955 -0.0494328   0.04096893  0.01858762\n",
            " -0.00272441 -0.01419313 -0.01162473  0.01048559 -0.04574838  0.01753955\n",
            " -0.02902519 -0.0236369   0.03435551  0.04572638  0.03581027 -0.01010926\n",
            "  0.01747232  0.00916332]\n"
          ]
        }
      ]
    },
    {
      "cell_type": "code",
      "source": [
        "# for layer in model1.layers: print(layer.get_config(), layer.get_weights())\n",
        "#print(model1.layers[1].get_weights()[0].shape)"
      ],
      "metadata": {
        "id": "7ORwFcrrMpGC",
        "outputId": "053316d8-ff23-4644-99f0-a4272301fc0b",
        "colab": {
          "base_uri": "https://localhost:8080/"
        }
      },
      "execution_count": null,
      "outputs": [
        {
          "output_type": "stream",
          "name": "stdout",
          "text": [
            "(7188, 128)\n"
          ]
        }
      ]
    },
    {
      "cell_type": "code",
      "source": [
        "#exp\n",
        "lstm = LSTM(64, return_sequences=False)(embedding1)\n",
        "\n",
        "lstmrepeatvector = RepeatVector(6)(lstm)\n",
        "lstmdecoder = LSTM(64, return_sequences=True, dropout=0.2)(lstmrepeatvector)\n",
        "lstmlogits = TimeDistributed(Dense(3733))(lstmdecoder)\n",
        "modellstm = Model(inputs=input_sequence1 , outputs=lstmlogits, name=\"mnist_model\")"
      ],
      "metadata": {
        "id": "9QNmJKs9OCzK"
      },
      "execution_count": null,
      "outputs": []
    },
    {
      "cell_type": "code",
      "source": [
        "#exp\n",
        "modellstm.compile('rmsprop', 'mse')\n"
      ],
      "metadata": {
        "id": "rCPcJ5O3Oxak"
      },
      "execution_count": null,
      "outputs": []
    },
    {
      "cell_type": "code",
      "source": [
        "modellstm.save('my_model_v21.h5')\n",
        "!pip install tensorflowjs\n",
        "import tensorflowjs as tfjs\n",
        "tfjs.converters.save_keras_model(modellstm, 'model')\n",
        "!zip -r model.zip model"
      ],
      "metadata": {
        "id": "d93Ch6DEqvIh"
      },
      "execution_count": null,
      "outputs": []
    },
    {
      "cell_type": "code",
      "source": [
        "#EXP\n",
        "output_array = modellstm.predict(input_data)\n",
        "reshape_out=np.reshape(output_array[0][0],(3733,-1))\n",
        "print(reshape_out.shape)\n"
      ],
      "metadata": {
        "id": "D8j0gze5PCVv",
        "outputId": "88d57099-80f2-4978-e552-f21199dd89b4",
        "colab": {
          "base_uri": "https://localhost:8080/"
        }
      },
      "execution_count": null,
      "outputs": [
        {
          "output_type": "stream",
          "name": "stdout",
          "text": [
            "(3733, 1)\n"
          ]
        }
      ]
    },
    {
      "cell_type": "code",
      "source": [
        "# list_of_lists = [[1,2,3],[4,5,6],[7,8,9]]\n",
        "\n",
        "# import csv\n",
        "\n",
        "# with open(\"out.csv\", \"w\") as f:\n",
        "#     wr = csv.writer(f)\n",
        "   \n",
        "#     wr.writerows(exppairs)\n",
        "\n",
        "exppairs=pairs[0:10]\n",
        "file = open(\"sample.py\", \"w+\")\n",
        "\n",
        "# Saving the array in a text file\n",
        "for pair in exppairs :\n",
        "   file.write(str(pair))\n",
        "file.close()\n"
      ],
      "metadata": {
        "id": "FB4y8Vg9BsKW"
      },
      "execution_count": null,
      "outputs": []
    },
    {
      "cell_type": "code",
      "source": [
        "# modelexp = tf.sequential();\n",
        "# modelexp.add(tf.layers.dense({ units: 1, inputShape: [1] }));"
      ],
      "metadata": {
        "id": "b360uLwwsh9t"
      },
      "execution_count": null,
      "outputs": []
    },
    {
      "cell_type": "code",
      "source": [
        "import tensorflow as tf\n",
        "import keras as keras\n",
        "modelexp = Sequential()\n",
        "# modelexp.add(Input(shape=(1,)))\n",
        "modelexp.add(Dense(1,input_dim=1))\n",
        "\n",
        "modelexp.compile(optimizer='sgd', loss=tf.keras.losses.MeanSquaredError( name=\"mean_squared_error\"),metrics=['accuracy'])\n",
        "xs = np.array([1, 2, 3, 4, 5, 6, 7, 8, 9, 10, 11, 12]);\n",
        "xs=np.reshape(xs,(12,1))\n",
        "ys = np.array([1, 4, 6, 8, 10, 12, 14, 16, 18, 20, 22, 24]);\n",
        "ys=np.reshape(ys,(12,1))\n",
        "modelexp.fit(xs, ys,epochs=3000, batch_size=12 )\n",
        "x1=np.array([40])\n",
        "x1=np.reshape(x1,(1,1))\n",
        "print(x1.shape);\n",
        "print(modelexp.predict(x1))"
      ],
      "metadata": {
        "id": "1RmiBNgJtFjN"
      },
      "execution_count": null,
      "outputs": []
    },
    {
      "cell_type": "code",
      "source": [
        "modelexp.save('my_model_v21.h5')\n",
        "!pip install tensorflowjs\n",
        "import tensorflowjs as tfjs\n",
        "tfjs.converters.save_keras_model(modelexp, 'model1')\n",
        "!zip -r model.zip model"
      ],
      "metadata": {
        "id": "JlGRNR544pE8"
      },
      "execution_count": null,
      "outputs": []
    },
    {
      "cell_type": "code",
      "source": [
        "%tensorflow_version 2.x\n",
        "import tensorflow as tf\n",
        "device_name = tf.test.gpu_device_name()\n",
        "if device_name != '/device:GPU:0':\n",
        "  raise SystemError('GPU device not found')\n",
        "print('Found GPU at: {}'.format(device_name))"
      ],
      "metadata": {
        "id": "MzNQyr1r6HLA",
        "outputId": "45826c08-47bb-40c3-b8df-fcb07ceed59b",
        "colab": {
          "base_uri": "https://localhost:8080/"
        }
      },
      "execution_count": null,
      "outputs": [
        {
          "output_type": "stream",
          "name": "stdout",
          "text": [
            "Found GPU at: /device:GPU:0\n"
          ]
        }
      ]
    },
    {
      "cell_type": "code",
      "source": [
        "import tensorflow as tf\n",
        "import keras as keras\n",
        "modelexp = Sequential()\n",
        "# modelexp.add(Input(shape=(1,)))\n",
        "modelexp.add(Dense(1,input_dim=1))\n",
        "\n",
        "modelexp.compile(optimizer='sgd', loss=tf.keras.losses.MeanSquaredError( name=\"mean_squared_error\"),metrics=['accuracy'])\n",
        "xs = np.array([1, 2, 3, 4, 5, 6, 7, 8, 9, 10, 11, 12]);\n",
        "xs=np.reshape(xs,(12,1))\n",
        "ys = np.array([1, 4, 6, 8, 10, 12, 14, 16, 18, 20, 22, 24]);\n",
        "ys=np.reshape(ys,(12,1))\n",
        "modelexp.fit(xs, ys,epochs=300, batch_size=1 )\n",
        "x1=np.array([40])\n",
        "x1=np.reshape(x1,(1,1))\n",
        "print(x1.shape);\n",
        "print(modelexp.predict(x1))"
      ],
      "metadata": {
        "id": "1piD7e4r7cBr",
        "outputId": "4bea9caf-33b8-4b96-bc59-2c0d7bf08805",
        "colab": {
          "base_uri": "https://localhost:8080/"
        }
      },
      "execution_count": null,
      "outputs": [
        {
          "output_type": "stream",
          "name": "stdout",
          "text": [
            "Epoch 1/300\n",
            "12/12 [==============================] - 2s 3ms/step - loss: 22.6488 - accuracy: 0.0833 \n",
            "Epoch 2/300\n",
            "12/12 [==============================] - 0s 2ms/step - loss: 0.2788 - accuracy: 0.0833\n",
            "Epoch 3/300\n",
            "12/12 [==============================] - 0s 4ms/step - loss: 0.2171 - accuracy: 0.0833\n",
            "Epoch 4/300\n",
            "12/12 [==============================] - 0s 3ms/step - loss: 0.2407 - accuracy: 0.0833\n",
            "Epoch 5/300\n",
            "12/12 [==============================] - 0s 4ms/step - loss: 0.2351 - accuracy: 0.0833\n",
            "Epoch 6/300\n",
            "12/12 [==============================] - 0s 4ms/step - loss: 0.2086 - accuracy: 0.0833\n",
            "Epoch 7/300\n",
            "12/12 [==============================] - 0s 4ms/step - loss: 0.1788 - accuracy: 0.0833\n",
            "Epoch 8/300\n",
            "12/12 [==============================] - 0s 3ms/step - loss: 0.3320 - accuracy: 0.0833\n",
            "Epoch 9/300\n",
            "12/12 [==============================] - 0s 4ms/step - loss: 0.2088 - accuracy: 0.0833    \n",
            "Epoch 10/300\n",
            "12/12 [==============================] - 0s 8ms/step - loss: 0.1592 - accuracy: 0.0833\n",
            "Epoch 11/300\n",
            "12/12 [==============================] - 0s 4ms/step - loss: 0.1242 - accuracy: 0.0833\n",
            "Epoch 12/300\n",
            "12/12 [==============================] - 0s 4ms/step - loss: 0.1181 - accuracy: 0.0833\n",
            "Epoch 13/300\n",
            "12/12 [==============================] - 0s 4ms/step - loss: 0.1063 - accuracy: 0.0833    \n",
            "Epoch 14/300\n",
            "12/12 [==============================] - 0s 3ms/step - loss: 0.1773 - accuracy: 0.0833\n",
            "Epoch 15/300\n",
            "12/12 [==============================] - 0s 4ms/step - loss: 0.1031 - accuracy: 0.0833    \n",
            "Epoch 16/300\n",
            "12/12 [==============================] - 0s 4ms/step - loss: 0.1047 - accuracy: 0.0833    \n",
            "Epoch 17/300\n",
            "12/12 [==============================] - 0s 4ms/step - loss: 0.0905 - accuracy: 0.0833    \n",
            "Epoch 18/300\n",
            "12/12 [==============================] - 0s 3ms/step - loss: 0.0875 - accuracy: 0.0833\n",
            "Epoch 19/300\n",
            "12/12 [==============================] - 0s 3ms/step - loss: 0.1167 - accuracy: 0.0833    \n",
            "Epoch 20/300\n",
            "12/12 [==============================] - 0s 3ms/step - loss: 0.0831 - accuracy: 0.0833    \n",
            "Epoch 21/300\n",
            "12/12 [==============================] - 0s 3ms/step - loss: 0.0829 - accuracy: 0.0833    \n",
            "Epoch 22/300\n",
            "12/12 [==============================] - 0s 3ms/step - loss: 0.0796 - accuracy: 0.0833\n",
            "Epoch 23/300\n",
            "12/12 [==============================] - 0s 2ms/step - loss: 0.0813 - accuracy: 0.0833    \n",
            "Epoch 24/300\n",
            "12/12 [==============================] - 0s 2ms/step - loss: 0.0843 - accuracy: 0.0833    \n",
            "Epoch 25/300\n",
            "12/12 [==============================] - 0s 3ms/step - loss: 0.0782 - accuracy: 0.0833\n",
            "Epoch 26/300\n",
            "12/12 [==============================] - 0s 2ms/step - loss: 0.0741 - accuracy: 0.0833\n",
            "Epoch 27/300\n",
            "12/12 [==============================] - 0s 2ms/step - loss: 0.0757 - accuracy: 0.0833\n",
            "Epoch 28/300\n",
            "12/12 [==============================] - 0s 2ms/step - loss: 0.0752 - accuracy: 0.0833\n",
            "Epoch 29/300\n",
            "12/12 [==============================] - 0s 3ms/step - loss: 0.0747 - accuracy: 0.0833\n",
            "Epoch 30/300\n",
            "12/12 [==============================] - 0s 3ms/step - loss: 0.0773 - accuracy: 0.0833\n",
            "Epoch 31/300\n",
            "12/12 [==============================] - 0s 3ms/step - loss: 0.0763 - accuracy: 0.0833\n",
            "Epoch 32/300\n",
            "12/12 [==============================] - 0s 2ms/step - loss: 0.0710 - accuracy: 0.0833\n",
            "Epoch 33/300\n",
            "12/12 [==============================] - 0s 2ms/step - loss: 0.0685 - accuracy: 0.0833\n",
            "Epoch 34/300\n",
            "12/12 [==============================] - 0s 3ms/step - loss: 0.0900 - accuracy: 0.0833\n",
            "Epoch 35/300\n",
            "12/12 [==============================] - 0s 2ms/step - loss: 0.0700 - accuracy: 0.0833\n",
            "Epoch 36/300\n",
            "12/12 [==============================] - 0s 2ms/step - loss: 0.0796 - accuracy: 0.0833\n",
            "Epoch 37/300\n",
            "12/12 [==============================] - 0s 2ms/step - loss: 0.0867 - accuracy: 0.0833\n",
            "Epoch 38/300\n",
            "12/12 [==============================] - 0s 2ms/step - loss: 0.0727 - accuracy: 0.0833\n",
            "Epoch 39/300\n",
            "12/12 [==============================] - 0s 2ms/step - loss: 0.0649 - accuracy: 0.0833\n",
            "Epoch 40/300\n",
            "12/12 [==============================] - 0s 3ms/step - loss: 0.0838 - accuracy: 0.0833\n",
            "Epoch 41/300\n",
            "12/12 [==============================] - 0s 3ms/step - loss: 0.0649 - accuracy: 0.0833\n",
            "Epoch 42/300\n",
            "12/12 [==============================] - 0s 3ms/step - loss: 0.0743 - accuracy: 0.0833\n",
            "Epoch 43/300\n",
            "12/12 [==============================] - 0s 2ms/step - loss: 0.0792 - accuracy: 0.0833\n",
            "Epoch 44/300\n",
            "12/12 [==============================] - 0s 3ms/step - loss: 0.0795 - accuracy: 0.0833\n",
            "Epoch 45/300\n",
            "12/12 [==============================] - 0s 3ms/step - loss: 0.0833 - accuracy: 0.0833\n",
            "Epoch 46/300\n",
            "12/12 [==============================] - 0s 2ms/step - loss: 0.0692 - accuracy: 0.0833\n",
            "Epoch 47/300\n",
            "12/12 [==============================] - 0s 3ms/step - loss: 0.0961 - accuracy: 0.0833\n",
            "Epoch 48/300\n",
            "12/12 [==============================] - 0s 2ms/step - loss: 0.0724 - accuracy: 0.0833\n",
            "Epoch 49/300\n",
            "12/12 [==============================] - 0s 3ms/step - loss: 0.0748 - accuracy: 0.0833\n",
            "Epoch 50/300\n",
            "12/12 [==============================] - 0s 3ms/step - loss: 0.0939 - accuracy: 0.0833    \n",
            "Epoch 51/300\n",
            "12/12 [==============================] - 0s 2ms/step - loss: 0.1760 - accuracy: 0.0833\n",
            "Epoch 52/300\n",
            "12/12 [==============================] - 0s 2ms/step - loss: 0.0929 - accuracy: 0.0833    \n",
            "Epoch 53/300\n",
            "12/12 [==============================] - 0s 2ms/step - loss: 0.1333 - accuracy: 0.0833\n",
            "Epoch 54/300\n",
            "12/12 [==============================] - 0s 3ms/step - loss: 0.0909 - accuracy: 0.0833\n",
            "Epoch 55/300\n",
            "12/12 [==============================] - 0s 3ms/step - loss: 0.0791 - accuracy: 0.0833\n",
            "Epoch 56/300\n",
            "12/12 [==============================] - 0s 2ms/step - loss: 0.2503 - accuracy: 0.0833\n",
            "Epoch 57/300\n",
            "12/12 [==============================] - 0s 2ms/step - loss: 0.0806 - accuracy: 0.0833\n",
            "Epoch 58/300\n",
            "12/12 [==============================] - 0s 3ms/step - loss: 0.0775 - accuracy: 0.0833\n",
            "Epoch 59/300\n",
            "12/12 [==============================] - 0s 3ms/step - loss: 0.0957 - accuracy: 0.0833\n",
            "Epoch 60/300\n",
            "12/12 [==============================] - 0s 2ms/step - loss: 0.0829 - accuracy: 0.0833\n",
            "Epoch 61/300\n",
            "12/12 [==============================] - 0s 3ms/step - loss: 0.0799 - accuracy: 0.0833\n",
            "Epoch 62/300\n",
            "12/12 [==============================] - 0s 3ms/step - loss: 0.1118 - accuracy: 0.0833\n",
            "Epoch 63/300\n",
            "12/12 [==============================] - 0s 2ms/step - loss: 0.1263 - accuracy: 0.0833\n",
            "Epoch 64/300\n",
            "12/12 [==============================] - 0s 3ms/step - loss: 0.0736 - accuracy: 0.0833\n",
            "Epoch 65/300\n",
            "12/12 [==============================] - 0s 3ms/step - loss: 0.1564 - accuracy: 0.0833\n",
            "Epoch 66/300\n",
            "12/12 [==============================] - 0s 2ms/step - loss: 0.0717 - accuracy: 0.0833\n",
            "Epoch 67/300\n",
            "12/12 [==============================] - 0s 3ms/step - loss: 0.0698 - accuracy: 0.0833\n",
            "Epoch 68/300\n",
            "12/12 [==============================] - 0s 3ms/step - loss: 0.1391 - accuracy: 0.0833\n",
            "Epoch 69/300\n",
            "12/12 [==============================] - 0s 2ms/step - loss: 0.0737 - accuracy: 0.0833\n",
            "Epoch 70/300\n",
            "12/12 [==============================] - 0s 3ms/step - loss: 0.0822 - accuracy: 0.0833\n",
            "Epoch 71/300\n",
            "12/12 [==============================] - 0s 3ms/step - loss: 0.0968 - accuracy: 0.0833\n",
            "Epoch 72/300\n",
            "12/12 [==============================] - 0s 3ms/step - loss: 0.0983 - accuracy: 0.0833\n",
            "Epoch 73/300\n",
            "12/12 [==============================] - 0s 3ms/step - loss: 0.0786 - accuracy: 0.0833\n",
            "Epoch 74/300\n",
            "12/12 [==============================] - 0s 2ms/step - loss: 0.1215 - accuracy: 0.0833\n",
            "Epoch 75/300\n",
            "12/12 [==============================] - 0s 2ms/step - loss: 0.0783 - accuracy: 0.0833\n",
            "Epoch 76/300\n",
            "12/12 [==============================] - 0s 3ms/step - loss: 0.0792 - accuracy: 0.0833\n",
            "Epoch 77/300\n",
            "12/12 [==============================] - 0s 3ms/step - loss: 0.1038 - accuracy: 0.0833\n",
            "Epoch 78/300\n",
            "12/12 [==============================] - 0s 3ms/step - loss: 0.0705 - accuracy: 0.0833\n",
            "Epoch 79/300\n",
            "12/12 [==============================] - 0s 3ms/step - loss: 0.0842 - accuracy: 0.0833\n",
            "Epoch 80/300\n",
            "12/12 [==============================] - 0s 3ms/step - loss: 0.0793 - accuracy: 0.0833\n",
            "Epoch 81/300\n",
            "12/12 [==============================] - 0s 3ms/step - loss: 0.0668 - accuracy: 0.0833\n",
            "Epoch 82/300\n",
            "12/12 [==============================] - 0s 2ms/step - loss: 0.0693 - accuracy: 0.0833\n",
            "Epoch 83/300\n",
            "12/12 [==============================] - 0s 3ms/step - loss: 0.0704 - accuracy: 0.0833\n",
            "Epoch 84/300\n",
            "12/12 [==============================] - 0s 3ms/step - loss: 0.0645 - accuracy: 0.0833\n",
            "Epoch 85/300\n",
            "12/12 [==============================] - 0s 3ms/step - loss: 0.0821 - accuracy: 0.0833\n",
            "Epoch 86/300\n",
            "12/12 [==============================] - 0s 2ms/step - loss: 0.0781 - accuracy: 0.0833\n",
            "Epoch 87/300\n",
            "12/12 [==============================] - 0s 3ms/step - loss: 0.0853 - accuracy: 0.0833\n",
            "Epoch 88/300\n",
            "12/12 [==============================] - 0s 3ms/step - loss: 0.0825 - accuracy: 0.0833\n",
            "Epoch 89/300\n",
            "12/12 [==============================] - 0s 2ms/step - loss: 0.0654 - accuracy: 0.0833\n",
            "Epoch 90/300\n",
            "12/12 [==============================] - 0s 2ms/step - loss: 0.0761 - accuracy: 0.0833\n",
            "Epoch 91/300\n",
            "12/12 [==============================] - 0s 3ms/step - loss: 0.0737 - accuracy: 0.0833\n",
            "Epoch 92/300\n",
            "12/12 [==============================] - 0s 2ms/step - loss: 0.0865 - accuracy: 0.0833\n",
            "Epoch 93/300\n",
            "12/12 [==============================] - 0s 2ms/step - loss: 0.1740 - accuracy: 0.0833\n",
            "Epoch 94/300\n",
            "12/12 [==============================] - 0s 3ms/step - loss: 0.1379 - accuracy: 0.0833\n",
            "Epoch 95/300\n",
            "12/12 [==============================] - 0s 3ms/step - loss: 0.0907 - accuracy: 0.0833\n",
            "Epoch 96/300\n",
            "12/12 [==============================] - 0s 3ms/step - loss: 0.0708 - accuracy: 0.0833\n",
            "Epoch 97/300\n",
            "12/12 [==============================] - 0s 3ms/step - loss: 0.1182 - accuracy: 0.0833\n",
            "Epoch 98/300\n",
            "12/12 [==============================] - 0s 3ms/step - loss: 0.0823 - accuracy: 0.0833\n",
            "Epoch 99/300\n",
            "12/12 [==============================] - 0s 3ms/step - loss: 0.0919 - accuracy: 0.0833\n",
            "Epoch 100/300\n",
            "12/12 [==============================] - 0s 3ms/step - loss: 0.0947 - accuracy: 0.0833\n",
            "Epoch 101/300\n",
            "12/12 [==============================] - 0s 3ms/step - loss: 0.0774 - accuracy: 0.0833\n",
            "Epoch 102/300\n",
            "12/12 [==============================] - 0s 3ms/step - loss: 0.1112 - accuracy: 0.0833\n",
            "Epoch 103/300\n",
            "12/12 [==============================] - 0s 3ms/step - loss: 0.0846 - accuracy: 0.0833\n",
            "Epoch 104/300\n",
            "12/12 [==============================] - 0s 3ms/step - loss: 0.1195 - accuracy: 0.0833\n",
            "Epoch 105/300\n",
            "12/12 [==============================] - 0s 3ms/step - loss: 0.0638 - accuracy: 0.0833\n",
            "Epoch 106/300\n",
            "12/12 [==============================] - 0s 2ms/step - loss: 0.0811 - accuracy: 0.0833\n",
            "Epoch 107/300\n",
            "12/12 [==============================] - 0s 3ms/step - loss: 0.1092 - accuracy: 0.0833\n",
            "Epoch 108/300\n",
            "12/12 [==============================] - 0s 3ms/step - loss: 0.1544 - accuracy: 0.0833\n",
            "Epoch 109/300\n",
            "12/12 [==============================] - 0s 3ms/step - loss: 0.0718 - accuracy: 0.0833\n",
            "Epoch 110/300\n",
            "12/12 [==============================] - 0s 3ms/step - loss: 0.0797 - accuracy: 0.0833    \n",
            "Epoch 111/300\n",
            "12/12 [==============================] - 0s 2ms/step - loss: 0.0625 - accuracy: 0.0833\n",
            "Epoch 112/300\n",
            "12/12 [==============================] - 0s 3ms/step - loss: 0.0925 - accuracy: 0.0833\n",
            "Epoch 113/300\n",
            "12/12 [==============================] - 0s 3ms/step - loss: 0.1009 - accuracy: 0.0833\n",
            "Epoch 114/300\n",
            "12/12 [==============================] - 0s 3ms/step - loss: 0.1407 - accuracy: 0.0833\n",
            "Epoch 115/300\n",
            "12/12 [==============================] - 0s 3ms/step - loss: 0.0789 - accuracy: 0.0833\n",
            "Epoch 116/300\n",
            "12/12 [==============================] - 0s 3ms/step - loss: 0.1003 - accuracy: 0.0833\n",
            "Epoch 117/300\n",
            "12/12 [==============================] - 0s 3ms/step - loss: 0.1285 - accuracy: 0.0833\n",
            "Epoch 118/300\n",
            "12/12 [==============================] - 0s 3ms/step - loss: 0.0837 - accuracy: 0.0833\n",
            "Epoch 119/300\n",
            "12/12 [==============================] - 0s 3ms/step - loss: 0.0812 - accuracy: 0.0833\n",
            "Epoch 120/300\n",
            "12/12 [==============================] - 0s 3ms/step - loss: 0.0732 - accuracy: 0.0833\n",
            "Epoch 121/300\n",
            "12/12 [==============================] - 0s 3ms/step - loss: 0.0719 - accuracy: 0.0833\n",
            "Epoch 122/300\n",
            "12/12 [==============================] - 0s 3ms/step - loss: 0.0837 - accuracy: 0.0833\n",
            "Epoch 123/300\n",
            "12/12 [==============================] - 0s 3ms/step - loss: 0.0696 - accuracy: 0.0833\n",
            "Epoch 124/300\n",
            "12/12 [==============================] - 0s 3ms/step - loss: 0.1096 - accuracy: 0.0833\n",
            "Epoch 125/300\n",
            "12/12 [==============================] - 0s 2ms/step - loss: 0.0995 - accuracy: 0.0833\n",
            "Epoch 126/300\n",
            "12/12 [==============================] - 0s 3ms/step - loss: 0.0814 - accuracy: 0.0833\n",
            "Epoch 127/300\n",
            "12/12 [==============================] - 0s 3ms/step - loss: 0.0986 - accuracy: 0.0833\n",
            "Epoch 128/300\n",
            "12/12 [==============================] - 0s 3ms/step - loss: 0.1138 - accuracy: 0.0833\n",
            "Epoch 129/300\n",
            "12/12 [==============================] - 0s 3ms/step - loss: 0.0964 - accuracy: 0.0833\n",
            "Epoch 130/300\n",
            "12/12 [==============================] - 0s 3ms/step - loss: 0.1289 - accuracy: 0.0833\n",
            "Epoch 131/300\n",
            "12/12 [==============================] - 0s 3ms/step - loss: 0.1151 - accuracy: 0.0833\n",
            "Epoch 132/300\n",
            "12/12 [==============================] - 0s 3ms/step - loss: 0.0846 - accuracy: 0.0833\n",
            "Epoch 133/300\n",
            "12/12 [==============================] - 0s 2ms/step - loss: 0.0637 - accuracy: 0.0833\n",
            "Epoch 134/300\n",
            "12/12 [==============================] - 0s 3ms/step - loss: 0.1054 - accuracy: 0.0833\n",
            "Epoch 135/300\n",
            "12/12 [==============================] - 0s 2ms/step - loss: 0.0647 - accuracy: 0.0833\n",
            "Epoch 136/300\n",
            "12/12 [==============================] - 0s 3ms/step - loss: 0.2088 - accuracy: 0.0833\n",
            "Epoch 137/300\n",
            "12/12 [==============================] - 0s 3ms/step - loss: 0.1072 - accuracy: 0.0833\n",
            "Epoch 138/300\n",
            "12/12 [==============================] - 0s 3ms/step - loss: 0.0766 - accuracy: 0.0833\n",
            "Epoch 139/300\n",
            "12/12 [==============================] - 0s 3ms/step - loss: 0.0940 - accuracy: 0.0833    \n",
            "Epoch 140/300\n",
            "12/12 [==============================] - 0s 3ms/step - loss: 0.0732 - accuracy: 0.0833\n",
            "Epoch 141/300\n",
            "12/12 [==============================] - 0s 3ms/step - loss: 0.0602 - accuracy: 0.0833\n",
            "Epoch 142/300\n",
            "12/12 [==============================] - 0s 3ms/step - loss: 0.0795 - accuracy: 0.0833\n",
            "Epoch 143/300\n",
            "12/12 [==============================] - 0s 3ms/step - loss: 0.0800 - accuracy: 0.0833\n",
            "Epoch 144/300\n",
            "12/12 [==============================] - 0s 3ms/step - loss: 0.1095 - accuracy: 0.0833\n",
            "Epoch 145/300\n",
            "12/12 [==============================] - 0s 3ms/step - loss: 0.0774 - accuracy: 0.0833    \n",
            "Epoch 146/300\n",
            "12/12 [==============================] - 0s 3ms/step - loss: 0.0781 - accuracy: 0.0833\n",
            "Epoch 147/300\n",
            "12/12 [==============================] - 0s 3ms/step - loss: 0.0802 - accuracy: 0.0833\n",
            "Epoch 148/300\n",
            "12/12 [==============================] - 0s 3ms/step - loss: 0.0771 - accuracy: 0.0833\n",
            "Epoch 149/300\n",
            "12/12 [==============================] - 0s 3ms/step - loss: 0.0626 - accuracy: 0.0833\n",
            "Epoch 150/300\n",
            "12/12 [==============================] - 0s 3ms/step - loss: 0.0914 - accuracy: 0.0833\n",
            "Epoch 151/300\n",
            "12/12 [==============================] - 0s 3ms/step - loss: 0.0618 - accuracy: 0.0833    \n",
            "Epoch 152/300\n",
            "12/12 [==============================] - 0s 3ms/step - loss: 0.0871 - accuracy: 0.0833\n",
            "Epoch 153/300\n",
            "12/12 [==============================] - 0s 3ms/step - loss: 0.0634 - accuracy: 0.0833\n",
            "Epoch 154/300\n",
            "12/12 [==============================] - 0s 3ms/step - loss: 0.0754 - accuracy: 0.0833\n",
            "Epoch 155/300\n",
            "12/12 [==============================] - 0s 3ms/step - loss: 0.0789 - accuracy: 0.0833\n",
            "Epoch 156/300\n",
            "12/12 [==============================] - 0s 3ms/step - loss: 0.2734 - accuracy: 0.0833\n",
            "Epoch 157/300\n",
            "12/12 [==============================] - 0s 3ms/step - loss: 0.0662 - accuracy: 0.0833\n",
            "Epoch 158/300\n",
            "12/12 [==============================] - 0s 3ms/step - loss: 0.0985 - accuracy: 0.0833\n",
            "Epoch 159/300\n",
            "12/12 [==============================] - 0s 3ms/step - loss: 0.1152 - accuracy: 0.0833\n",
            "Epoch 160/300\n",
            "12/12 [==============================] - 0s 3ms/step - loss: 0.0980 - accuracy: 0.0833\n",
            "Epoch 161/300\n",
            "12/12 [==============================] - 0s 3ms/step - loss: 0.0866 - accuracy: 0.0833\n",
            "Epoch 162/300\n",
            "12/12 [==============================] - 0s 3ms/step - loss: 0.3255 - accuracy: 0.0833\n",
            "Epoch 163/300\n",
            "12/12 [==============================] - 0s 3ms/step - loss: 0.0706 - accuracy: 0.0833\n",
            "Epoch 164/300\n",
            "12/12 [==============================] - 0s 3ms/step - loss: 0.1488 - accuracy: 0.0833\n",
            "Epoch 165/300\n",
            "12/12 [==============================] - 0s 3ms/step - loss: 0.1055 - accuracy: 0.0833\n",
            "Epoch 166/300\n",
            "12/12 [==============================] - 0s 3ms/step - loss: 0.1004 - accuracy: 0.0833\n",
            "Epoch 167/300\n",
            "12/12 [==============================] - 0s 3ms/step - loss: 0.0819 - accuracy: 0.0833    \n",
            "Epoch 168/300\n",
            "12/12 [==============================] - 0s 3ms/step - loss: 0.1349 - accuracy: 0.0833\n",
            "Epoch 169/300\n",
            "12/12 [==============================] - 0s 3ms/step - loss: 0.1416 - accuracy: 0.0833\n",
            "Epoch 170/300\n",
            "12/12 [==============================] - 0s 3ms/step - loss: 0.2317 - accuracy: 0.0833\n",
            "Epoch 171/300\n",
            "12/12 [==============================] - 0s 3ms/step - loss: 0.1311 - accuracy: 0.0833\n",
            "Epoch 172/300\n",
            "12/12 [==============================] - 0s 4ms/step - loss: 0.1127 - accuracy: 0.0833\n",
            "Epoch 173/300\n",
            "12/12 [==============================] - 0s 3ms/step - loss: 0.1080 - accuracy: 0.0833\n",
            "Epoch 174/300\n",
            "12/12 [==============================] - 0s 3ms/step - loss: 0.1575 - accuracy: 0.0833\n",
            "Epoch 175/300\n",
            "12/12 [==============================] - 0s 3ms/step - loss: 0.0973 - accuracy: 0.0833\n",
            "Epoch 176/300\n",
            "12/12 [==============================] - 0s 3ms/step - loss: 0.0921 - accuracy: 0.0833\n",
            "Epoch 177/300\n",
            "12/12 [==============================] - 0s 3ms/step - loss: 0.0955 - accuracy: 0.0833\n",
            "Epoch 178/300\n",
            "12/12 [==============================] - 0s 3ms/step - loss: 0.0704 - accuracy: 0.0833\n",
            "Epoch 179/300\n",
            "12/12 [==============================] - 0s 3ms/step - loss: 0.1350 - accuracy: 0.0833\n",
            "Epoch 180/300\n",
            "12/12 [==============================] - 0s 3ms/step - loss: 0.0914 - accuracy: 0.0833\n",
            "Epoch 181/300\n",
            "12/12 [==============================] - 0s 3ms/step - loss: 0.0767 - accuracy: 0.0833\n",
            "Epoch 182/300\n",
            "12/12 [==============================] - 0s 3ms/step - loss: 0.0780 - accuracy: 0.0833\n",
            "Epoch 183/300\n",
            "12/12 [==============================] - 0s 3ms/step - loss: 0.1011 - accuracy: 0.0833\n",
            "Epoch 184/300\n",
            "12/12 [==============================] - 0s 3ms/step - loss: 0.0998 - accuracy: 0.0833\n",
            "Epoch 185/300\n",
            "12/12 [==============================] - 0s 3ms/step - loss: 0.0974 - accuracy: 0.0833\n",
            "Epoch 186/300\n",
            "12/12 [==============================] - 0s 2ms/step - loss: 0.0664 - accuracy: 0.0833\n",
            "Epoch 187/300\n",
            "12/12 [==============================] - 0s 3ms/step - loss: 0.1051 - accuracy: 0.0833\n",
            "Epoch 188/300\n",
            "12/12 [==============================] - 0s 3ms/step - loss: 0.0841 - accuracy: 0.0833\n",
            "Epoch 189/300\n",
            "12/12 [==============================] - 0s 3ms/step - loss: 0.0772 - accuracy: 0.0833\n",
            "Epoch 190/300\n",
            "12/12 [==============================] - 0s 3ms/step - loss: 0.0825 - accuracy: 0.0833    \n",
            "Epoch 191/300\n",
            "12/12 [==============================] - 0s 3ms/step - loss: 0.0882 - accuracy: 0.0833\n",
            "Epoch 192/300\n",
            "12/12 [==============================] - 0s 3ms/step - loss: 0.1268 - accuracy: 0.0833\n",
            "Epoch 193/300\n",
            "12/12 [==============================] - 0s 3ms/step - loss: 0.0927 - accuracy: 0.0833\n",
            "Epoch 194/300\n",
            "12/12 [==============================] - 0s 3ms/step - loss: 0.0836 - accuracy: 0.0833\n",
            "Epoch 195/300\n",
            "12/12 [==============================] - 0s 3ms/step - loss: 0.1069 - accuracy: 0.0833\n",
            "Epoch 196/300\n",
            "12/12 [==============================] - 0s 3ms/step - loss: 0.1930 - accuracy: 0.0833\n",
            "Epoch 197/300\n",
            "12/12 [==============================] - 0s 3ms/step - loss: 0.0584 - accuracy: 0.0833\n",
            "Epoch 198/300\n",
            "12/12 [==============================] - 0s 3ms/step - loss: 0.1151 - accuracy: 0.0833\n",
            "Epoch 199/300\n",
            "12/12 [==============================] - 0s 3ms/step - loss: 0.2511 - accuracy: 0.0833\n",
            "Epoch 200/300\n",
            "12/12 [==============================] - 0s 2ms/step - loss: 0.1874 - accuracy: 0.0833\n",
            "Epoch 201/300\n",
            "12/12 [==============================] - 0s 3ms/step - loss: 0.0937 - accuracy: 0.0833\n",
            "Epoch 202/300\n",
            "12/12 [==============================] - 0s 3ms/step - loss: 0.1199 - accuracy: 0.0833\n",
            "Epoch 203/300\n",
            "12/12 [==============================] - 0s 3ms/step - loss: 0.0703 - accuracy: 0.0833\n",
            "Epoch 204/300\n",
            "12/12 [==============================] - 0s 3ms/step - loss: 0.0855 - accuracy: 0.0833\n",
            "Epoch 205/300\n",
            "12/12 [==============================] - 0s 3ms/step - loss: 0.0944 - accuracy: 0.0833\n",
            "Epoch 206/300\n",
            "12/12 [==============================] - 0s 3ms/step - loss: 0.0693 - accuracy: 0.0833\n",
            "Epoch 207/300\n",
            "12/12 [==============================] - 0s 3ms/step - loss: 0.0881 - accuracy: 0.0833\n",
            "Epoch 208/300\n",
            "12/12 [==============================] - 0s 3ms/step - loss: 0.0673 - accuracy: 0.0833\n",
            "Epoch 209/300\n",
            "12/12 [==============================] - 0s 3ms/step - loss: 0.1231 - accuracy: 0.0833\n",
            "Epoch 210/300\n",
            "12/12 [==============================] - 0s 3ms/step - loss: 0.0929 - accuracy: 0.0833\n",
            "Epoch 211/300\n",
            "12/12 [==============================] - 0s 3ms/step - loss: 0.0657 - accuracy: 0.0833\n",
            "Epoch 212/300\n",
            "12/12 [==============================] - 0s 3ms/step - loss: 0.1128 - accuracy: 0.0833\n",
            "Epoch 213/300\n",
            "12/12 [==============================] - 0s 3ms/step - loss: 0.1914 - accuracy: 0.0833\n",
            "Epoch 214/300\n",
            "12/12 [==============================] - 0s 3ms/step - loss: 0.0683 - accuracy: 0.0833\n",
            "Epoch 215/300\n",
            "12/12 [==============================] - 0s 3ms/step - loss: 0.2281 - accuracy: 0.0833\n",
            "Epoch 216/300\n",
            "12/12 [==============================] - 0s 3ms/step - loss: 0.1244 - accuracy: 0.0833\n",
            "Epoch 217/300\n",
            "12/12 [==============================] - 0s 3ms/step - loss: 0.0743 - accuracy: 0.0833\n",
            "Epoch 218/300\n",
            "12/12 [==============================] - 0s 3ms/step - loss: 0.2541 - accuracy: 0.0833\n",
            "Epoch 219/300\n",
            "12/12 [==============================] - 0s 3ms/step - loss: 0.1023 - accuracy: 0.0833\n",
            "Epoch 220/300\n",
            "12/12 [==============================] - 0s 3ms/step - loss: 0.0635 - accuracy: 0.0833\n",
            "Epoch 221/300\n",
            "12/12 [==============================] - 0s 3ms/step - loss: 0.0735 - accuracy: 0.0833\n",
            "Epoch 222/300\n",
            "12/12 [==============================] - 0s 2ms/step - loss: 0.1061 - accuracy: 0.0833\n",
            "Epoch 223/300\n",
            "12/12 [==============================] - 0s 3ms/step - loss: 0.0855 - accuracy: 0.0833\n",
            "Epoch 224/300\n",
            "12/12 [==============================] - 0s 2ms/step - loss: 0.0785 - accuracy: 0.0833\n",
            "Epoch 225/300\n",
            "12/12 [==============================] - 0s 3ms/step - loss: 0.0843 - accuracy: 0.0833\n",
            "Epoch 226/300\n",
            "12/12 [==============================] - 0s 3ms/step - loss: 0.1902 - accuracy: 0.0833\n",
            "Epoch 227/300\n",
            "12/12 [==============================] - 0s 3ms/step - loss: 0.0988 - accuracy: 0.0833\n",
            "Epoch 228/300\n",
            "12/12 [==============================] - 0s 3ms/step - loss: 0.1359 - accuracy: 0.0833\n",
            "Epoch 229/300\n",
            "12/12 [==============================] - 0s 3ms/step - loss: 0.0984 - accuracy: 0.0833\n",
            "Epoch 230/300\n",
            "12/12 [==============================] - 0s 3ms/step - loss: 0.0747 - accuracy: 0.0833\n",
            "Epoch 231/300\n",
            "12/12 [==============================] - 0s 3ms/step - loss: 0.1028 - accuracy: 0.0833\n",
            "Epoch 232/300\n",
            "12/12 [==============================] - 0s 3ms/step - loss: 0.0925 - accuracy: 0.0833\n",
            "Epoch 233/300\n",
            "12/12 [==============================] - 0s 3ms/step - loss: 0.0956 - accuracy: 0.0833\n",
            "Epoch 234/300\n",
            "12/12 [==============================] - 0s 3ms/step - loss: 0.1129 - accuracy: 0.0833\n",
            "Epoch 235/300\n",
            "12/12 [==============================] - 0s 3ms/step - loss: 0.0882 - accuracy: 0.0833\n",
            "Epoch 236/300\n",
            "12/12 [==============================] - 0s 3ms/step - loss: 0.0916 - accuracy: 0.0833\n",
            "Epoch 237/300\n",
            "12/12 [==============================] - 0s 3ms/step - loss: 0.0902 - accuracy: 0.0833\n",
            "Epoch 238/300\n",
            "12/12 [==============================] - 0s 3ms/step - loss: 0.1049 - accuracy: 0.0833\n",
            "Epoch 239/300\n",
            "12/12 [==============================] - 0s 3ms/step - loss: 0.0641 - accuracy: 0.0833\n",
            "Epoch 240/300\n",
            "12/12 [==============================] - 0s 3ms/step - loss: 0.0730 - accuracy: 0.0833    \n",
            "Epoch 241/300\n",
            "12/12 [==============================] - 0s 3ms/step - loss: 0.0877 - accuracy: 0.0833\n",
            "Epoch 242/300\n",
            "12/12 [==============================] - 0s 3ms/step - loss: 0.1027 - accuracy: 0.0833\n",
            "Epoch 243/300\n",
            "12/12 [==============================] - 0s 3ms/step - loss: 0.0813 - accuracy: 0.0833\n",
            "Epoch 244/300\n",
            "12/12 [==============================] - 0s 3ms/step - loss: 0.1029 - accuracy: 0.0833\n",
            "Epoch 245/300\n",
            "12/12 [==============================] - 0s 3ms/step - loss: 0.1215 - accuracy: 0.0833\n",
            "Epoch 246/300\n",
            "12/12 [==============================] - 0s 3ms/step - loss: 0.0904 - accuracy: 0.0833\n",
            "Epoch 247/300\n",
            "12/12 [==============================] - 0s 3ms/step - loss: 0.1050 - accuracy: 0.0833\n",
            "Epoch 248/300\n",
            "12/12 [==============================] - 0s 3ms/step - loss: 0.0821 - accuracy: 0.0833\n",
            "Epoch 249/300\n",
            "12/12 [==============================] - 0s 3ms/step - loss: 0.0854 - accuracy: 0.0833\n",
            "Epoch 250/300\n",
            "12/12 [==============================] - 0s 3ms/step - loss: 0.1425 - accuracy: 0.0833\n",
            "Epoch 251/300\n",
            "12/12 [==============================] - 0s 3ms/step - loss: 0.0727 - accuracy: 0.0833\n",
            "Epoch 252/300\n",
            "12/12 [==============================] - 0s 3ms/step - loss: 0.1641 - accuracy: 0.0833    \n",
            "Epoch 253/300\n",
            "12/12 [==============================] - 0s 3ms/step - loss: 0.2141 - accuracy: 0.0833\n",
            "Epoch 254/300\n",
            "12/12 [==============================] - 0s 3ms/step - loss: 0.1127 - accuracy: 0.0833\n",
            "Epoch 255/300\n",
            "12/12 [==============================] - 0s 3ms/step - loss: 0.1185 - accuracy: 0.0833\n",
            "Epoch 256/300\n",
            "12/12 [==============================] - 0s 3ms/step - loss: 0.0756 - accuracy: 0.0833\n",
            "Epoch 257/300\n",
            "12/12 [==============================] - 0s 3ms/step - loss: 0.1145 - accuracy: 0.0833\n",
            "Epoch 258/300\n",
            "12/12 [==============================] - 0s 3ms/step - loss: 0.1040 - accuracy: 0.0833\n",
            "Epoch 259/300\n",
            "12/12 [==============================] - 0s 3ms/step - loss: 0.1156 - accuracy: 0.0833\n",
            "Epoch 260/300\n",
            "12/12 [==============================] - 0s 3ms/step - loss: 0.0805 - accuracy: 0.0833    \n",
            "Epoch 261/300\n",
            "12/12 [==============================] - 0s 2ms/step - loss: 0.0803 - accuracy: 0.0833    \n",
            "Epoch 262/300\n",
            "12/12 [==============================] - 0s 3ms/step - loss: 0.0775 - accuracy: 0.0833\n",
            "Epoch 263/300\n",
            "12/12 [==============================] - 0s 3ms/step - loss: 0.1003 - accuracy: 0.0833\n",
            "Epoch 264/300\n",
            "12/12 [==============================] - 0s 4ms/step - loss: 0.1784 - accuracy: 0.0833\n",
            "Epoch 265/300\n",
            "12/12 [==============================] - 0s 3ms/step - loss: 0.0671 - accuracy: 0.0833    \n",
            "Epoch 266/300\n",
            "12/12 [==============================] - 0s 3ms/step - loss: 0.0798 - accuracy: 0.0833\n",
            "Epoch 267/300\n",
            "12/12 [==============================] - 0s 3ms/step - loss: 0.0893 - accuracy: 0.0833\n",
            "Epoch 268/300\n",
            "12/12 [==============================] - 0s 3ms/step - loss: 0.0757 - accuracy: 0.0833\n",
            "Epoch 269/300\n",
            "12/12 [==============================] - 0s 3ms/step - loss: 0.1014 - accuracy: 0.0833    \n",
            "Epoch 270/300\n",
            "12/12 [==============================] - 0s 3ms/step - loss: 0.0737 - accuracy: 0.0833\n",
            "Epoch 271/300\n",
            "12/12 [==============================] - 0s 2ms/step - loss: 0.1072 - accuracy: 0.0833\n",
            "Epoch 272/300\n",
            "12/12 [==============================] - 0s 3ms/step - loss: 0.0859 - accuracy: 0.0833\n",
            "Epoch 273/300\n",
            "12/12 [==============================] - 0s 3ms/step - loss: 0.0912 - accuracy: 0.0833\n",
            "Epoch 274/300\n",
            "12/12 [==============================] - 0s 3ms/step - loss: 0.0673 - accuracy: 0.0833\n",
            "Epoch 275/300\n",
            "12/12 [==============================] - 0s 3ms/step - loss: 0.0628 - accuracy: 0.0833\n",
            "Epoch 276/300\n",
            "12/12 [==============================] - 0s 3ms/step - loss: 0.0652 - accuracy: 0.0833\n",
            "Epoch 277/300\n",
            "12/12 [==============================] - 0s 3ms/step - loss: 0.1093 - accuracy: 0.0833\n",
            "Epoch 278/300\n",
            "12/12 [==============================] - 0s 3ms/step - loss: 0.1040 - accuracy: 0.0833\n",
            "Epoch 279/300\n",
            "12/12 [==============================] - 0s 3ms/step - loss: 0.0902 - accuracy: 0.0833\n",
            "Epoch 280/300\n",
            "12/12 [==============================] - 0s 3ms/step - loss: 0.0859 - accuracy: 0.0833\n",
            "Epoch 281/300\n",
            "12/12 [==============================] - 0s 3ms/step - loss: 0.1058 - accuracy: 0.0833    \n",
            "Epoch 282/300\n",
            "12/12 [==============================] - 0s 3ms/step - loss: 0.0910 - accuracy: 0.0833\n",
            "Epoch 283/300\n",
            "12/12 [==============================] - 0s 3ms/step - loss: 0.0880 - accuracy: 0.0833    \n",
            "Epoch 284/300\n",
            "12/12 [==============================] - 0s 3ms/step - loss: 0.0710 - accuracy: 0.0833\n",
            "Epoch 285/300\n",
            "12/12 [==============================] - 0s 3ms/step - loss: 0.1456 - accuracy: 0.0833\n",
            "Epoch 286/300\n",
            "12/12 [==============================] - 0s 3ms/step - loss: 0.0733 - accuracy: 0.0833\n",
            "Epoch 287/300\n",
            "12/12 [==============================] - 0s 3ms/step - loss: 0.0801 - accuracy: 0.0833\n",
            "Epoch 288/300\n",
            "12/12 [==============================] - 0s 3ms/step - loss: 0.1745 - accuracy: 0.0833\n",
            "Epoch 289/300\n",
            "12/12 [==============================] - 0s 3ms/step - loss: 0.1022 - accuracy: 0.0833\n",
            "Epoch 290/300\n",
            "12/12 [==============================] - 0s 3ms/step - loss: 0.1820 - accuracy: 0.0833\n",
            "Epoch 291/300\n",
            "12/12 [==============================] - 0s 3ms/step - loss: 0.0829 - accuracy: 0.0833\n",
            "Epoch 292/300\n",
            "12/12 [==============================] - 0s 3ms/step - loss: 0.1365 - accuracy: 0.0833\n",
            "Epoch 293/300\n",
            "12/12 [==============================] - 0s 3ms/step - loss: 0.1197 - accuracy: 0.0833\n",
            "Epoch 294/300\n",
            "12/12 [==============================] - 0s 3ms/step - loss: 0.1202 - accuracy: 0.0833\n",
            "Epoch 295/300\n",
            "12/12 [==============================] - 0s 3ms/step - loss: 0.1048 - accuracy: 0.0833\n",
            "Epoch 296/300\n",
            "12/12 [==============================] - 0s 3ms/step - loss: 0.1149 - accuracy: 0.0833\n",
            "Epoch 297/300\n",
            "12/12 [==============================] - 0s 3ms/step - loss: 0.0772 - accuracy: 0.0833\n",
            "Epoch 298/300\n",
            "12/12 [==============================] - 0s 3ms/step - loss: 0.0736 - accuracy: 0.0833\n",
            "Epoch 299/300\n",
            "12/12 [==============================] - 0s 3ms/step - loss: 0.1575 - accuracy: 0.0833\n",
            "Epoch 300/300\n",
            "12/12 [==============================] - 0s 3ms/step - loss: 0.1295 - accuracy: 0.0833\n",
            "(1, 1)\n",
            "[[81.09909]]\n"
          ]
        }
      ]
    }
  ],
  "metadata": {
    "colab": {
      "collapsed_sections": [],
      "name": "Welcome To Colaboratory",
      "provenance": [],
      "include_colab_link": true
    },
    "kernelspec": {
      "display_name": "Python 3",
      "name": "python3"
    },
    "accelerator": "GPU"
  },
  "nbformat": 4,
  "nbformat_minor": 0
}