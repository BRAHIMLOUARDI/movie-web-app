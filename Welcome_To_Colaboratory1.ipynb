{
  "cells": [
    {
      "cell_type": "markdown",
      "metadata": {
        "id": "view-in-github",
        "colab_type": "text"
      },
      "source": [
        "<a href=\"https://colab.research.google.com/github/BRAHIMLOUARDI/movie-web-app/blob/main/Welcome_To_Colaboratory1.ipynb\" target=\"_parent\"><img src=\"https://colab.research.google.com/assets/colab-badge.svg\" alt=\"Open In Colab\"/></a>"
      ]
    },
    {
      "cell_type": "code",
      "source": [
        "import string\n",
        "import numpy as np\n",
        "\n",
        "from keras.preprocessing.text import Tokenizer\n",
        "from keras.preprocessing.sequence import pad_sequences\n",
        "from keras.models import Model\n",
        "from keras.layers import LSTM, Input, TimeDistributed, Dense, Activation, RepeatVector, Embedding\n",
        "from tensorflow.keras.optimizers import Adam\n",
        "from keras.losses import sparse_categorical_crossentropy\n",
        "\n",
        "# Path to translation file\n",
        "path_to_data = '/content/fra.txt'\n",
        "\n",
        "# Read file\n",
        "translation_file = open(path_to_data,\"r\", encoding='utf-8') \n",
        "raw_data = translation_file.read()\n",
        "translation_file.close()\n",
        "\n",
        "# Parse data\n",
        "raw_data = raw_data.split('\\n')\n",
        "pairs = [sentence.split('\\t') for sentence in  raw_data]\n",
        "pairs=pairs[0:60000]\n",
        "\n"
      ],
      "metadata": {
        "id": "dl2gDN6AeCsh"
      },
      "execution_count": 1,
      "outputs": []
    },
    {
      "cell_type": "code",
      "source": [
        ""
      ],
      "metadata": {
        "id": "oPXP-IDWQlTU"
      },
      "execution_count": null,
      "outputs": []
    },
    {
      "cell_type": "code",
      "source": [
        "def clean_sentence(sentence):\n",
        "    # Lower case the sentence\n",
        "    lower_case_sent = sentence.lower()\n",
        "    # Strip punctuation\n",
        "    string_punctuation = \"?\" + \"¡\" + '¿'+\".\"+\"!\" ;\n",
        "    clean_sentence = lower_case_sent.translate(str.maketrans('', '', string_punctuation))\n",
        "   \n",
        "    return clean_sentence"
      ],
      "metadata": {
        "id": "kppzLb79oYWj"
      },
      "execution_count": 49,
      "outputs": []
    },
    {
      "cell_type": "code",
      "source": [
        "def tokenize(sentences):\n",
        "    # Create tokenizer\n",
        "    text_tokenizer = Tokenizer()\n",
        "    # Fit texts\n",
        "    text_tokenizer.fit_on_texts(sentences)\n",
        "    return text_tokenizer.texts_to_sequences(sentences), text_tokenizer"
      ],
      "metadata": {
        "id": "FlMW2oEBpK1-"
      },
      "execution_count": 50,
      "outputs": []
    },
    {
      "cell_type": "code",
      "source": [
        "\n",
        "english_sentences = [clean_sentence(pair[0]) for pair in pairs]\n",
        "french_sentences = [clean_sentence(pair[1]) for pair in pairs]\n",
        "\n",
        "# Tokenize words\n",
        "fra_text_tokenized, fra_text_tokenizer = tokenize(french_sentences)\n",
        "eng_text_tokenized, eng_text_tokenizer = tokenize(english_sentences)\n",
        "\n",
        "print('Maximum length french sentence: {}'.format(len(max(fra_text_tokenized,key=len))))\n",
        "print('Maximum length english sentence: {}'.format(len(max(eng_text_tokenized,key=len))))\n",
        "\n",
        "\n",
        "# Check language length\n",
        "french_vocab = len(fra_text_tokenizer.word_index) + 1\n",
        "english_vocab = len(eng_text_tokenizer.word_index) + 1\n",
        "print(\"french vocabulary is of {} unique words\".format(french_vocab))\n",
        "print(\"English vocabulary is of {} unique words\".format(english_vocab))"
      ],
      "metadata": {
        "id": "FJd49T6VpQtn",
        "outputId": "6ec19c18-ac95-4d2e-8cef-de824da4e7e0",
        "colab": {
          "base_uri": "https://localhost:8080/"
        }
      },
      "execution_count": 51,
      "outputs": [
        {
          "output_type": "stream",
          "name": "stdout",
          "text": [
            "Maximum length french sentence: 14\n",
            "Maximum length english sentence: 7\n",
            "french vocabulary is of 14559 unique words\n",
            "English vocabulary is of 6828 unique words\n"
          ]
        }
      ]
    },
    {
      "cell_type": "code",
      "source": [
        "print(french_sentences[50000])"
      ],
      "metadata": {
        "id": "8uoEeXxoQ5BU",
        "outputId": "5ccd4871-447f-44b0-dc8a-85f4fdc73422",
        "colab": {
          "base_uri": "https://localhost:8080/"
        }
      },
      "execution_count": 54,
      "outputs": [
        {
          "output_type": "stream",
          "name": "stdout",
          "text": [
            "n'est-ce pas agaçant\n"
          ]
        }
      ]
    },
    {
      "cell_type": "code",
      "source": [
        "max_french_len = int(len(max(fra_text_tokenized,key=len)))\n",
        "max_english_len = int(len(max(eng_text_tokenized,key=len)))\n",
        "\n",
        "fra_pad_sentence = pad_sequences(fra_text_tokenized,15, padding = \"post\")\n",
        "eng_pad_sentence = pad_sequences(eng_text_tokenized,15, padding = \"post\")\n",
        "\n",
        "\n",
        "\n",
        "\n",
        "fra_pad_sentence = fra_pad_sentence.reshape(*fra_pad_sentence.shape, 1)\n",
        "eng_pad_sentence = eng_pad_sentence.reshape(*eng_pad_sentence.shape, 1)"
      ],
      "metadata": {
        "id": "g6LIc2DpqRUl"
      },
      "execution_count": 59,
      "outputs": []
    },
    {
      "cell_type": "code",
      "source": [
        "input_sequence = Input(shape=(15,))\n",
        "embedding = Embedding(input_dim=french_vocab, output_dim=128,)(input_sequence)"
      ],
      "metadata": {
        "id": "mWBT4WhOutoR"
      },
      "execution_count": 60,
      "outputs": []
    },
    {
      "cell_type": "code",
      "source": [
        "encoder = LSTM(64, return_sequences=False)(embedding)\n",
        "r_vec = RepeatVector(15)(encoder)\n",
        "decoder = LSTM(64, return_sequences=True, dropout=0.2)(r_vec)\n",
        "logits = TimeDistributed(Dense(english_vocab))(decoder)\n"
      ],
      "metadata": {
        "id": "YFefu6Nf4hDa"
      },
      "execution_count": 61,
      "outputs": []
    },
    {
      "cell_type": "code",
      "source": [
        "enc_dec_model = Model(input_sequence, Activation('softmax')(logits))\n",
        "enc_dec_model.compile(loss=sparse_categorical_crossentropy,\n",
        "              optimizer=Adam(1e-3),\n",
        "              metrics=['accuracy'])\n",
        "enc_dec_model.summary()"
      ],
      "metadata": {
        "id": "EdayUG1V4kUn",
        "outputId": "b17fb54d-c072-4b8a-9741-223bda036c9e",
        "colab": {
          "base_uri": "https://localhost:8080/"
        }
      },
      "execution_count": 62,
      "outputs": [
        {
          "output_type": "stream",
          "name": "stdout",
          "text": [
            "Model: \"model_1\"\n",
            "_________________________________________________________________\n",
            " Layer (type)                Output Shape              Param #   \n",
            "=================================================================\n",
            " input_2 (InputLayer)        [(None, 15)]              0         \n",
            "                                                                 \n",
            " embedding_1 (Embedding)     (None, 15, 128)           1863552   \n",
            "                                                                 \n",
            " lstm_2 (LSTM)               (None, 64)                49408     \n",
            "                                                                 \n",
            " repeat_vector_1 (RepeatVect  (None, 15, 64)           0         \n",
            " or)                                                             \n",
            "                                                                 \n",
            " lstm_3 (LSTM)               (None, 15, 64)            33024     \n",
            "                                                                 \n",
            " time_distributed_1 (TimeDis  (None, 15, 6828)         443820    \n",
            " tributed)                                                       \n",
            "                                                                 \n",
            " activation_1 (Activation)   (None, 15, 6828)          0         \n",
            "                                                                 \n",
            "=================================================================\n",
            "Total params: 2,389,804\n",
            "Trainable params: 2,389,804\n",
            "Non-trainable params: 0\n",
            "_________________________________________________________________\n"
          ]
        }
      ]
    },
    {
      "cell_type": "code",
      "source": [
        "BATCH_SIZE = 32\n",
        "STEPS_PER_EPOCH = len(fra_pad_sentence) / BATCH_SIZE\n",
        "SAVE_PERIOD = 10\n",
        "\n",
        "\n",
        "from keras.callbacks import ModelCheckpoint\n",
        "checkpoint = ModelCheckpoint(\"model/weights1.{epoch:02d}.hdf5\", monitor='loss', verbose=1,\n",
        "    save_best_only=True, mode='auto', save_freq=int(SAVE_PERIOD * STEPS_PER_EPOCH))"
      ],
      "metadata": {
        "id": "wwSe7dqOgZfC"
      },
      "execution_count": 82,
      "outputs": []
    },
    {
      "cell_type": "code",
      "source": [
        "print(int(SAVE_PERIOD * STEPS_PER_EPOCH))"
      ],
      "metadata": {
        "id": "XOQs3jVWVCcM",
        "outputId": "69d3a65f-4284-43e3-82d2-440ccc10bed7",
        "colab": {
          "base_uri": "https://localhost:8080/"
        }
      },
      "execution_count": 83,
      "outputs": [
        {
          "output_type": "stream",
          "name": "stdout",
          "text": [
            "20000\n"
          ]
        }
      ]
    },
    {
      "cell_type": "code",
      "source": [
        "model_results = enc_dec_model.fit(fra_pad_sentence, eng_pad_sentence, batch_size=32, epochs=70,callbacks=[checkpoint])\n"
      ],
      "metadata": {
        "id": "-n0L3m3h4rAn",
        "outputId": "6920023b-4964-481f-b9b5-c7712d930a89",
        "colab": {
          "base_uri": "https://localhost:8080/"
        }
      },
      "execution_count": null,
      "outputs": [
        {
          "output_type": "stream",
          "name": "stdout",
          "text": [
            "Epoch 1/70\n",
            "1875/1875 [==============================] - 207s 109ms/step - loss: 1.5833 - accuracy: 0.7631\n",
            "Epoch 2/70\n",
            "1875/1875 [==============================] - 197s 105ms/step - loss: 1.5533 - accuracy: 0.7631\n",
            "Epoch 3/70\n",
            "1875/1875 [==============================] - 198s 106ms/step - loss: 1.5129 - accuracy: 0.7670\n",
            "Epoch 4/70\n",
            "1875/1875 [==============================] - 197s 105ms/step - loss: 1.3318 - accuracy: 0.7869\n",
            "Epoch 5/70\n",
            "1875/1875 [==============================] - 199s 106ms/step - loss: 1.1930 - accuracy: 0.8029\n",
            "Epoch 6/70\n",
            "1875/1875 [==============================] - 201s 107ms/step - loss: 1.0910 - accuracy: 0.8154\n",
            "Epoch 7/70\n",
            "1875/1875 [==============================] - 198s 105ms/step - loss: 1.0035 - accuracy: 0.8256\n",
            "Epoch 8/70\n",
            "1875/1875 [==============================] - 199s 106ms/step - loss: 0.9301 - accuracy: 0.8337\n",
            "Epoch 9/70\n",
            "1875/1875 [==============================] - 197s 105ms/step - loss: 0.8663 - accuracy: 0.8405\n",
            "Epoch 10/70\n",
            "1875/1875 [==============================] - 198s 106ms/step - loss: 0.8112 - accuracy: 0.8462\n",
            "Epoch 11/70\n",
            "1110/1875 [================>.............] - ETA: 1:20 - loss: 0.7596 - accuracy: 0.8518\n",
            "Epoch 11: loss improved from inf to 0.75961, saving model to model/weights1.11.hdf5\n",
            "1875/1875 [==============================] - 198s 106ms/step - loss: 0.7605 - accuracy: 0.8520\n",
            "Epoch 12/70\n",
            "1875/1875 [==============================] - 200s 107ms/step - loss: 0.7151 - accuracy: 0.8573\n",
            "Epoch 13/70\n",
            "1875/1875 [==============================] - 199s 106ms/step - loss: 0.6741 - accuracy: 0.8621\n",
            "Epoch 14/70\n",
            "1875/1875 [==============================] - 199s 106ms/step - loss: 0.6357 - accuracy: 0.8671\n",
            "Epoch 15/70\n",
            "1875/1875 [==============================] - 199s 106ms/step - loss: 0.6023 - accuracy: 0.8715\n",
            "Epoch 16/70\n",
            "1875/1875 [==============================] - 202s 108ms/step - loss: 0.5717 - accuracy: 0.8763\n",
            "Epoch 17/70\n",
            "1875/1875 [==============================] - 202s 108ms/step - loss: 0.5435 - accuracy: 0.8804\n",
            "Epoch 18/70\n",
            "1875/1875 [==============================] - 200s 107ms/step - loss: 0.5177 - accuracy: 0.8843\n",
            "Epoch 19/70\n",
            "1003/1875 [===============>..............] - ETA: 1:33 - loss: 0.4904 - accuracy: 0.8890"
          ]
        }
      ]
    },
    {
      "cell_type": "code",
      "source": [
        "enc_dec_model.save('my_model_v2.h5')"
      ],
      "metadata": {
        "id": "oXIV3Yne_LRk"
      },
      "execution_count": null,
      "outputs": []
    },
    {
      "cell_type": "code",
      "source": [
        "import tensorflow as tf\n",
        "new_enc_dec_model = tf.keras.models.load_model('my_model.h5')\n",
        "\n"
      ],
      "metadata": {
        "id": "gyK75ot6DBSO"
      },
      "execution_count": null,
      "outputs": []
    },
    {
      "cell_type": "code",
      "source": [
        "x=[french_sentences[50000]]\n",
        "y=fra_text_tokenizer.texts_to_sequences(x)\n",
        "z=pad_sequences(y, max_french_len, padding = \"post\")\n",
        "print(fra_text_tokenizer.word_index['nestce'])\n",
        "print(y)\n",
        "print(z)\n",
        "\n",
        "def logits_to_sentence(logits, tokenizer):\n",
        "\n",
        "    index_to_words = {idx: word for word, idx in tokenizer.word_index.items()}\n",
        "    index_to_words[0] = '<empty>' \n",
        "\n",
        "    return ' '.join([index_to_words[prediction] for prediction in np.argmax(logits, 1)])\n",
        "\n",
        "index = 8000\n",
        "# print(\"The english sentence is: {}\".format(english_sentences[index]))\n",
        "print(\"The french sentence is: {}\".format(x))\n",
        "print('The predicted sentence is :')\n",
        "print(logits_to_sentence(new_model.predict(z)[0], eng_text_tokenizer))\n",
        "\n",
        "\n",
        "\n",
        "\n"
      ],
      "metadata": {
        "id": "0BnIzzcgBQp9"
      },
      "execution_count": null,
      "outputs": []
    },
    {
      "cell_type": "code",
      "source": [
        " # Lower case the sentence\n",
        "lower_case_sent = \"N'est-ce pas agaçan¡t!.\".lower()\n",
        "print(lower_case_sent)\n",
        "# Strip punctuation\n",
        "string_punctuation = \"?\" + \"¡\" + '¿'+\".\"+\"!\" ;\n",
        "print(string_punctuation)\n",
        "\n",
        "clean_sentence = lower_case_sent.translate(str.maketrans('', '', string_punctuation))\n",
        "print(clean_sentence)\n",
        "print(string.punctuation)"
      ],
      "metadata": {
        "id": "Dm2sdUPqNKn5",
        "outputId": "fce65579-c1a9-4ead-833d-4b4065dff0ca",
        "colab": {
          "base_uri": "https://localhost:8080/"
        }
      },
      "execution_count": 48,
      "outputs": [
        {
          "output_type": "stream",
          "name": "stdout",
          "text": [
            "n'est-ce pas agaçan¡t!.\n",
            "?¡¿.!\n",
            "n'est-ce pas agaçant\n",
            "!\"#$%&'()*+,-./:;<=>?@[\\]^_`{|}~\n"
          ]
        }
      ]
    },
    {
      "cell_type": "markdown",
      "source": [
        "exp"
      ],
      "metadata": {
        "id": "FhU3HTDwE84a"
      }
    },
    {
      "cell_type": "code",
      "source": [
        "#exp\n",
        "\n",
        "input_sequence1 = Input(shape=(12,))\n",
        "embedding1 = Embedding(input_dim=7188, output_dim=128,)(input_sequence1)\n",
        "\n",
        "model1 = Model(inputs=input_sequence1 , outputs=embedding1, name=\"mnist_model\")\n",
        "model1.compile('rmsprop', 'mse')\n",
        "\n",
        "\n",
        "input_data = np.array([[1,2,4,5,18,0,0,0,4,10,12,13]])\n",
        "\n",
        "output_array = model1.predict(input_data)\n",
        "print(output_array[0][0])\n"
      ],
      "metadata": {
        "id": "gG7fqULtFbYh"
      },
      "execution_count": null,
      "outputs": []
    },
    {
      "cell_type": "code",
      "source": [
        "# for layer in model1.layers: print(layer.get_config(), layer.get_weights())\n",
        "#print(model1.layers[1].get_weights()[0].shape)"
      ],
      "metadata": {
        "id": "7ORwFcrrMpGC",
        "outputId": "053316d8-ff23-4644-99f0-a4272301fc0b",
        "colab": {
          "base_uri": "https://localhost:8080/"
        }
      },
      "execution_count": null,
      "outputs": [
        {
          "output_type": "stream",
          "name": "stdout",
          "text": [
            "(7188, 128)\n"
          ]
        }
      ]
    },
    {
      "cell_type": "code",
      "source": [
        "#exp\n",
        "lstm = LSTM(64, return_sequences=False)(embedding1)\n",
        "\n",
        "lstmrepeatvector = RepeatVector(6)(lstm)\n",
        "lstmdecoder = LSTM(64, return_sequences=True, dropout=0.2)(lstmrepeatvector)\n",
        "lstmlogits = TimeDistributed(Dense(3733))(lstmdecoder)\n",
        "modellstm = Model(inputs=input_sequence1 , outputs=lstmlogits, name=\"mnist_model\")"
      ],
      "metadata": {
        "id": "9QNmJKs9OCzK"
      },
      "execution_count": null,
      "outputs": []
    },
    {
      "cell_type": "code",
      "source": [
        "#exp\n",
        "modellstm.compile('rmsprop', 'mse')"
      ],
      "metadata": {
        "id": "rCPcJ5O3Oxak"
      },
      "execution_count": null,
      "outputs": []
    },
    {
      "cell_type": "code",
      "source": [
        "#EXP\n",
        "output_array = modellstm.predict(input_data)\n",
        "reshape_out=np.reshape(output_array[0][0],(3733,-1))\n",
        "print(reshape_out.shape)\n"
      ],
      "metadata": {
        "id": "D8j0gze5PCVv",
        "outputId": "88d57099-80f2-4978-e552-f21199dd89b4",
        "colab": {
          "base_uri": "https://localhost:8080/"
        }
      },
      "execution_count": null,
      "outputs": [
        {
          "output_type": "stream",
          "name": "stdout",
          "text": [
            "(3733, 1)\n"
          ]
        }
      ]
    },
    {
      "cell_type": "code",
      "source": [
        "# list_of_lists = [[1,2,3],[4,5,6],[7,8,9]]\n",
        "\n",
        "# import csv\n",
        "\n",
        "# with open(\"out.csv\", \"w\") as f:\n",
        "#     wr = csv.writer(f)\n",
        "   \n",
        "#     wr.writerows(exppairs)\n",
        "\n",
        "exppairs=pairs[0:10]\n",
        "file = open(\"sample.py\", \"w+\")\n",
        "\n",
        "# Saving the array in a text file\n",
        "for pair in exppairs :\n",
        "   file.write(str(pair))\n",
        "   file.write(\"\\n\")\n",
        "file.close()\n"
      ],
      "metadata": {
        "id": "FB4y8Vg9BsKW"
      },
      "execution_count": null,
      "outputs": []
    }
  ],
  "metadata": {
    "colab": {
      "collapsed_sections": [],
      "name": "Welcome To Colaboratory",
      "provenance": [],
      "include_colab_link": true
    },
    "kernelspec": {
      "display_name": "Python 3",
      "name": "python3"
    }
  },
  "nbformat": 4,
  "nbformat_minor": 0
}