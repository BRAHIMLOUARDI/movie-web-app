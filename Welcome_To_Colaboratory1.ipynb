{
  "cells": [
    {
      "cell_type": "markdown",
      "metadata": {
        "id": "view-in-github",
        "colab_type": "text"
      },
      "source": [
        "<a href=\"https://colab.research.google.com/github/BRAHIMLOUARDI/movie-web-app/blob/main/Welcome_To_Colaboratory1.ipynb\" target=\"_parent\"><img src=\"https://colab.research.google.com/assets/colab-badge.svg\" alt=\"Open In Colab\"/></a>"
      ]
    },
    {
      "cell_type": "code",
      "source": [
        "import string\n",
        "import numpy as np\n",
        "\n",
        "from keras.preprocessing.text import Tokenizer\n",
        "from keras.preprocessing.sequence import pad_sequences\n",
        "from keras.models import Model,Sequential\n",
        "from keras.layers import LSTM, Input, TimeDistributed, Dense, Activation, RepeatVector, Embedding\n",
        "from tensorflow.keras.optimizers import Adam\n",
        "from keras.losses import sparse_categorical_crossentropy\n",
        "\n",
        "# Path to translation file\n",
        "# path_to_data = '/content/fra.txt'\n",
        "\n",
        "# # Read file\n",
        "# translation_file = open(path_to_data,\"r\", encoding='utf-8') \n",
        "# raw_data = translation_file.read()\n",
        "# translation_file.close()\n",
        "\n",
        "# # Parse data\n",
        "# raw_data = raw_data.split('\\n')\n",
        "# pairs = [sentence.split('\\t') for sentence in  raw_data]\n",
        "# pairs=pairs[0:60000]\n",
        "\n"
      ],
      "metadata": {
        "id": "dl2gDN6AeCsh"
      },
      "execution_count": 8,
      "outputs": []
    },
    {
      "cell_type": "code",
      "source": [
        ""
      ],
      "metadata": {
        "id": "oPXP-IDWQlTU"
      },
      "execution_count": null,
      "outputs": []
    },
    {
      "cell_type": "code",
      "source": [
        "def clean_sentence(sentence):\n",
        "    # Lower case the sentence\n",
        "    lower_case_sent = sentence.lower()\n",
        "    # Strip punctuation\n",
        "    string_punctuation = \"?\" + \"¡\" + '¿'+\".\"+\"!\" ;\n",
        "    clean_sentence = lower_case_sent.translate(str.maketrans('', '', string_punctuation))\n",
        "   \n",
        "    return clean_sentence"
      ],
      "metadata": {
        "id": "kppzLb79oYWj"
      },
      "execution_count": null,
      "outputs": []
    },
    {
      "cell_type": "code",
      "source": [
        "def tokenize(sentences):\n",
        "    # Create tokenizer\n",
        "    text_tokenizer = Tokenizer()\n",
        "    # Fit texts\n",
        "    text_tokenizer.fit_on_texts(sentences)\n",
        "    return text_tokenizer.texts_to_sequences(sentences), text_tokenizer"
      ],
      "metadata": {
        "id": "FlMW2oEBpK1-"
      },
      "execution_count": null,
      "outputs": []
    },
    {
      "cell_type": "code",
      "source": [
        "\n",
        "english_sentences = [clean_sentence(pair[0]) for pair in pairs]\n",
        "french_sentences = [clean_sentence(pair[1]) for pair in pairs]\n",
        "\n",
        "# Tokenize words\n",
        "fra_text_tokenized, fra_text_tokenizer = tokenize(french_sentences)\n",
        "eng_text_tokenized, eng_text_tokenizer = tokenize(english_sentences)\n",
        "\n",
        "print('Maximum length french sentence: {}'.format(len(max(fra_text_tokenized,key=len))))\n",
        "print('Maximum length english sentence: {}'.format(len(max(eng_text_tokenized,key=len))))\n",
        "\n",
        "\n",
        "# Check language length\n",
        "french_vocab = len(fra_text_tokenizer.word_index) + 1\n",
        "english_vocab = len(eng_text_tokenizer.word_index) + 1\n",
        "print(\"french vocabulary is of {} unique words\".format(french_vocab))\n",
        "print(\"English vocabulary is of {} unique words\".format(english_vocab))"
      ],
      "metadata": {
        "id": "FJd49T6VpQtn",
        "outputId": "6ec19c18-ac95-4d2e-8cef-de824da4e7e0",
        "colab": {
          "base_uri": "https://localhost:8080/"
        }
      },
      "execution_count": null,
      "outputs": [
        {
          "output_type": "stream",
          "name": "stdout",
          "text": [
            "Maximum length french sentence: 14\n",
            "Maximum length english sentence: 7\n",
            "french vocabulary is of 14559 unique words\n",
            "English vocabulary is of 6828 unique words\n"
          ]
        }
      ]
    },
    {
      "cell_type": "code",
      "source": [
        "print(french_sentences[50000])"
      ],
      "metadata": {
        "id": "8uoEeXxoQ5BU",
        "outputId": "5ccd4871-447f-44b0-dc8a-85f4fdc73422",
        "colab": {
          "base_uri": "https://localhost:8080/"
        }
      },
      "execution_count": null,
      "outputs": [
        {
          "output_type": "stream",
          "name": "stdout",
          "text": [
            "n'est-ce pas agaçant\n"
          ]
        }
      ]
    },
    {
      "cell_type": "code",
      "source": [
        "max_french_len = int(len(max(fra_text_tokenized,key=len)))\n",
        "max_english_len = int(len(max(eng_text_tokenized,key=len)))\n",
        "\n",
        "fra_pad_sentence = pad_sequences(fra_text_tokenized,15, padding = \"post\")\n",
        "eng_pad_sentence = pad_sequences(eng_text_tokenized,15, padding = \"post\")\n",
        "\n",
        "\n",
        "\n",
        "\n",
        "fra_pad_sentence = fra_pad_sentence.reshape(*fra_pad_sentence.shape, 1)\n",
        "eng_pad_sentence = eng_pad_sentence.reshape(*eng_pad_sentence.shape, 1)"
      ],
      "metadata": {
        "id": "g6LIc2DpqRUl"
      },
      "execution_count": null,
      "outputs": []
    },
    {
      "cell_type": "code",
      "source": [
        "input_sequence = Input(shape=(15,))\n",
        "embedding = Embedding(input_dim=french_vocab, output_dim=128,)(input_sequence)"
      ],
      "metadata": {
        "id": "mWBT4WhOutoR"
      },
      "execution_count": null,
      "outputs": []
    },
    {
      "cell_type": "code",
      "source": [
        "encoder = LSTM(64, return_sequences=False)(embedding)\n",
        "r_vec = RepeatVector(15)(encoder)\n",
        "decoder = LSTM(64, return_sequences=True, dropout=0.2)(r_vec)\n",
        "logits = TimeDistributed(Dense(english_vocab))(decoder)\n"
      ],
      "metadata": {
        "id": "YFefu6Nf4hDa"
      },
      "execution_count": null,
      "outputs": []
    },
    {
      "cell_type": "code",
      "source": [
        "enc_dec_model = Model(input_sequence, Activation('softmax')(logits))\n",
        "enc_dec_model.compile(loss=sparse_categorical_crossentropy,\n",
        "              optimizer=Adam(1e-3),\n",
        "              metrics=['accuracy'])\n",
        "enc_dec_model.summary()"
      ],
      "metadata": {
        "id": "EdayUG1V4kUn",
        "outputId": "b17fb54d-c072-4b8a-9741-223bda036c9e",
        "colab": {
          "base_uri": "https://localhost:8080/"
        }
      },
      "execution_count": null,
      "outputs": [
        {
          "output_type": "stream",
          "name": "stdout",
          "text": [
            "Model: \"model_1\"\n",
            "_________________________________________________________________\n",
            " Layer (type)                Output Shape              Param #   \n",
            "=================================================================\n",
            " input_2 (InputLayer)        [(None, 15)]              0         \n",
            "                                                                 \n",
            " embedding_1 (Embedding)     (None, 15, 128)           1863552   \n",
            "                                                                 \n",
            " lstm_2 (LSTM)               (None, 64)                49408     \n",
            "                                                                 \n",
            " repeat_vector_1 (RepeatVect  (None, 15, 64)           0         \n",
            " or)                                                             \n",
            "                                                                 \n",
            " lstm_3 (LSTM)               (None, 15, 64)            33024     \n",
            "                                                                 \n",
            " time_distributed_1 (TimeDis  (None, 15, 6828)         443820    \n",
            " tributed)                                                       \n",
            "                                                                 \n",
            " activation_1 (Activation)   (None, 15, 6828)          0         \n",
            "                                                                 \n",
            "=================================================================\n",
            "Total params: 2,389,804\n",
            "Trainable params: 2,389,804\n",
            "Non-trainable params: 0\n",
            "_________________________________________________________________\n"
          ]
        }
      ]
    },
    {
      "cell_type": "code",
      "source": [
        "BATCH_SIZE = 32\n",
        "STEPS_PER_EPOCH = len(fra_pad_sentence) / BATCH_SIZE\n",
        "SAVE_PERIOD = 10\n",
        "\n",
        "\n",
        "from keras.callbacks import ModelCheckpoint\n",
        "checkpoint = ModelCheckpoint(\"model/weights1.{epoch:02d}.hdf5\", monitor='loss', verbose=1,\n",
        "    save_best_only=True, mode='auto', save_freq=int(SAVE_PERIOD * STEPS_PER_EPOCH))"
      ],
      "metadata": {
        "id": "wwSe7dqOgZfC"
      },
      "execution_count": null,
      "outputs": []
    },
    {
      "cell_type": "code",
      "source": [
        "print(int(SAVE_PERIOD * STEPS_PER_EPOCH))"
      ],
      "metadata": {
        "id": "XOQs3jVWVCcM",
        "outputId": "69d3a65f-4284-43e3-82d2-440ccc10bed7",
        "colab": {
          "base_uri": "https://localhost:8080/"
        }
      },
      "execution_count": null,
      "outputs": [
        {
          "output_type": "stream",
          "name": "stdout",
          "text": [
            "20000\n"
          ]
        }
      ]
    },
    {
      "cell_type": "code",
      "source": [
        "model_results = enc_dec_model.fit(fra_pad_sentence, eng_pad_sentence, batch_size=32, epochs=70,callbacks=[checkpoint])\n"
      ],
      "metadata": {
        "id": "-n0L3m3h4rAn",
        "outputId": "6920023b-4964-481f-b9b5-c7712d930a89",
        "colab": {
          "base_uri": "https://localhost:8080/"
        }
      },
      "execution_count": null,
      "outputs": [
        {
          "output_type": "stream",
          "name": "stdout",
          "text": [
            "Epoch 1/70\n",
            "1875/1875 [==============================] - 207s 109ms/step - loss: 1.5833 - accuracy: 0.7631\n",
            "Epoch 2/70\n",
            "1875/1875 [==============================] - 197s 105ms/step - loss: 1.5533 - accuracy: 0.7631\n",
            "Epoch 3/70\n",
            "1875/1875 [==============================] - 198s 106ms/step - loss: 1.5129 - accuracy: 0.7670\n",
            "Epoch 4/70\n",
            "1875/1875 [==============================] - 197s 105ms/step - loss: 1.3318 - accuracy: 0.7869\n",
            "Epoch 5/70\n",
            "1875/1875 [==============================] - 199s 106ms/step - loss: 1.1930 - accuracy: 0.8029\n",
            "Epoch 6/70\n",
            "1875/1875 [==============================] - 201s 107ms/step - loss: 1.0910 - accuracy: 0.8154\n",
            "Epoch 7/70\n",
            "1875/1875 [==============================] - 198s 105ms/step - loss: 1.0035 - accuracy: 0.8256\n",
            "Epoch 8/70\n",
            "1875/1875 [==============================] - 199s 106ms/step - loss: 0.9301 - accuracy: 0.8337\n",
            "Epoch 9/70\n",
            "1875/1875 [==============================] - 197s 105ms/step - loss: 0.8663 - accuracy: 0.8405\n",
            "Epoch 10/70\n",
            "1875/1875 [==============================] - 198s 106ms/step - loss: 0.8112 - accuracy: 0.8462\n",
            "Epoch 11/70\n",
            "1110/1875 [================>.............] - ETA: 1:20 - loss: 0.7596 - accuracy: 0.8518\n",
            "Epoch 11: loss improved from inf to 0.75961, saving model to model/weights1.11.hdf5\n",
            "1875/1875 [==============================] - 198s 106ms/step - loss: 0.7605 - accuracy: 0.8520\n",
            "Epoch 12/70\n",
            "1875/1875 [==============================] - 200s 107ms/step - loss: 0.7151 - accuracy: 0.8573\n",
            "Epoch 13/70\n",
            "1875/1875 [==============================] - 199s 106ms/step - loss: 0.6741 - accuracy: 0.8621\n",
            "Epoch 14/70\n",
            "1875/1875 [==============================] - 199s 106ms/step - loss: 0.6357 - accuracy: 0.8671\n",
            "Epoch 15/70\n",
            "1875/1875 [==============================] - 199s 106ms/step - loss: 0.6023 - accuracy: 0.8715\n",
            "Epoch 16/70\n",
            "1875/1875 [==============================] - 202s 108ms/step - loss: 0.5717 - accuracy: 0.8763\n",
            "Epoch 17/70\n",
            "1875/1875 [==============================] - 202s 108ms/step - loss: 0.5435 - accuracy: 0.8804\n",
            "Epoch 18/70\n",
            "1875/1875 [==============================] - 200s 107ms/step - loss: 0.5177 - accuracy: 0.8843\n",
            "Epoch 19/70\n",
            "1003/1875 [===============>..............] - ETA: 1:33 - loss: 0.4904 - accuracy: 0.8890"
          ]
        }
      ]
    },
    {
      "cell_type": "code",
      "source": [
        "enc_dec_model.save('my_model_v2.h5')"
      ],
      "metadata": {
        "id": "oXIV3Yne_LRk"
      },
      "execution_count": null,
      "outputs": []
    },
    {
      "cell_type": "code",
      "source": [
        "import tensorflow as tf\n",
        "new_enc_dec_model = tf.keras.models.load_model('my_model.h5')\n",
        "\n"
      ],
      "metadata": {
        "id": "gyK75ot6DBSO"
      },
      "execution_count": null,
      "outputs": []
    },
    {
      "cell_type": "code",
      "source": [
        "x=[french_sentences[50000]]\n",
        "y=fra_text_tokenizer.texts_to_sequences(x)\n",
        "z=pad_sequences(y, max_french_len, padding = \"post\")\n",
        "print(fra_text_tokenizer.word_index['nestce'])\n",
        "print(y)\n",
        "print(z)\n",
        "\n",
        "def logits_to_sentence(logits, tokenizer):\n",
        "\n",
        "    index_to_words = {idx: word for word, idx in tokenizer.word_index.items()}\n",
        "    index_to_words[0] = '<empty>' \n",
        "\n",
        "    return ' '.join([index_to_words[prediction] for prediction in np.argmax(logits, 1)])\n",
        "\n",
        "index = 8000\n",
        "# print(\"The english sentence is: {}\".format(english_sentences[index]))\n",
        "print(\"The french sentence is: {}\".format(x))\n",
        "print('The predicted sentence is :')\n",
        "print(logits_to_sentence(new_model.predict(z)[0], eng_text_tokenizer))\n",
        "\n",
        "\n",
        "\n",
        "\n"
      ],
      "metadata": {
        "id": "0BnIzzcgBQp9"
      },
      "execution_count": null,
      "outputs": []
    },
    {
      "cell_type": "code",
      "source": [
        " # Lower case the sentence\n",
        "lower_case_sent = \"N'est-ce pas agaçan¡t!.\".lower()\n",
        "print(lower_case_sent)\n",
        "# Strip punctuation\n",
        "string_punctuation = \"?\" + \"¡\" + '¿'+\".\"+\"!\" ;\n",
        "print(string_punctuation)\n",
        "\n",
        "clean_sentence = lower_case_sent.translate(str.maketrans('', '', string_punctuation))\n",
        "print(clean_sentence)\n",
        "print(string.punctuation)"
      ],
      "metadata": {
        "id": "Dm2sdUPqNKn5",
        "outputId": "fce65579-c1a9-4ead-833d-4b4065dff0ca",
        "colab": {
          "base_uri": "https://localhost:8080/"
        }
      },
      "execution_count": null,
      "outputs": [
        {
          "output_type": "stream",
          "name": "stdout",
          "text": [
            "n'est-ce pas agaçan¡t!.\n",
            "?¡¿.!\n",
            "n'est-ce pas agaçant\n",
            "!\"#$%&'()*+,-./:;<=>?@[\\]^_`{|}~\n"
          ]
        }
      ]
    },
    {
      "cell_type": "markdown",
      "source": [
        "exp"
      ],
      "metadata": {
        "id": "FhU3HTDwE84a"
      }
    },
    {
      "cell_type": "code",
      "source": [
        "#exp\n",
        "\n",
        "input_sequence1 = Input(shape=(12,))\n",
        "embedding1 = Embedding(input_dim=7188, output_dim=128,)(input_sequence1)\n",
        "\n",
        "model1 = Model(inputs=input_sequence1 , outputs=embedding1, name=\"mnist_model\")\n",
        "model1.compile('rmsprop', 'mse')\n",
        "\n",
        "\n",
        "input_data = np.array([[1,2,4,5,18,0,0,0,4,10,12,13]])\n",
        "\n",
        "output_array = model1.predict(input_data)\n",
        "print(output_array[0][0])\n"
      ],
      "metadata": {
        "id": "gG7fqULtFbYh",
        "outputId": "f6ea4442-a98e-42c7-fbb4-a6c57947ffdb",
        "colab": {
          "base_uri": "https://localhost:8080/"
        }
      },
      "execution_count": 3,
      "outputs": [
        {
          "output_type": "stream",
          "name": "stdout",
          "text": [
            "[ 0.02034706  0.02248744 -0.03376602 -0.01687739 -0.03728447 -0.00209639\n",
            " -0.00100971 -0.02335948  0.00595356  0.02687982  0.03717594  0.02074369\n",
            " -0.04843444 -0.00176772 -0.00239968 -0.04342381  0.02203074  0.00309337\n",
            "  0.00114974  0.04493412 -0.00245256 -0.017037   -0.04806034 -0.02295033\n",
            "  0.04644542 -0.02189548  0.04477992  0.03860844  0.0291361   0.03252422\n",
            "  0.02577506  0.0369927  -0.01474409  0.02011487  0.04395882  0.03625769\n",
            "  0.02296979 -0.00022303 -0.04299204 -0.00083683 -0.00481214  0.03876538\n",
            " -0.04163405 -0.00957751 -0.00837046 -0.03523744  0.03373507 -0.02530587\n",
            " -0.00866864  0.02286681  0.00869872 -0.01245948  0.04525365  0.01941318\n",
            "  0.04451017 -0.04003798 -0.02288283 -0.00895053 -0.03188037  0.02156677\n",
            "  0.01939699 -0.04546351  0.03530386  0.02994759  0.04775039  0.03900445\n",
            "  0.01326055 -0.00981707 -0.04240481 -0.021184   -0.04985572 -0.02521235\n",
            " -0.01867831  0.0159093   0.0180388  -0.02206373  0.04946562  0.04724665\n",
            "  0.03032454 -0.02553148 -0.01261898  0.02932639 -0.04354575  0.00617129\n",
            " -0.00743484  0.01205033  0.0024846  -0.03001519 -0.02633498  0.0162527\n",
            " -0.00525845 -0.02076573  0.03166122 -0.01610708  0.01638556  0.01804887\n",
            " -0.01896322  0.03384682 -0.03988228 -0.0165561   0.03787562  0.01399088\n",
            "  0.0018952  -0.02536255  0.03765402  0.00289423 -0.01857696  0.03095707\n",
            "  0.02990565  0.02580969 -0.03034955 -0.0494328   0.04096893  0.01858762\n",
            " -0.00272441 -0.01419313 -0.01162473  0.01048559 -0.04574838  0.01753955\n",
            " -0.02902519 -0.0236369   0.03435551  0.04572638  0.03581027 -0.01010926\n",
            "  0.01747232  0.00916332]\n"
          ]
        }
      ]
    },
    {
      "cell_type": "code",
      "source": [
        "# for layer in model1.layers: print(layer.get_config(), layer.get_weights())\n",
        "#print(model1.layers[1].get_weights()[0].shape)"
      ],
      "metadata": {
        "id": "7ORwFcrrMpGC",
        "outputId": "053316d8-ff23-4644-99f0-a4272301fc0b",
        "colab": {
          "base_uri": "https://localhost:8080/"
        }
      },
      "execution_count": null,
      "outputs": [
        {
          "output_type": "stream",
          "name": "stdout",
          "text": [
            "(7188, 128)\n"
          ]
        }
      ]
    },
    {
      "cell_type": "code",
      "source": [
        "#exp\n",
        "lstm = LSTM(64, return_sequences=False)(embedding1)\n",
        "\n",
        "lstmrepeatvector = RepeatVector(6)(lstm)\n",
        "lstmdecoder = LSTM(64, return_sequences=True, dropout=0.2)(lstmrepeatvector)\n",
        "lstmlogits = TimeDistributed(Dense(3733))(lstmdecoder)\n",
        "modellstm = Model(inputs=input_sequence1 , outputs=lstmlogits, name=\"mnist_model\")"
      ],
      "metadata": {
        "id": "9QNmJKs9OCzK"
      },
      "execution_count": 4,
      "outputs": []
    },
    {
      "cell_type": "code",
      "source": [
        "#exp\n",
        "modellstm.compile('rmsprop', 'mse')\n"
      ],
      "metadata": {
        "id": "rCPcJ5O3Oxak"
      },
      "execution_count": 5,
      "outputs": []
    },
    {
      "cell_type": "code",
      "source": [
        "modellstm.save('my_model_v21.h5')\n",
        "!pip install tensorflowjs\n",
        "import tensorflowjs as tfjs\n",
        "tfjs.converters.save_keras_model(modellstm, 'model')\n",
        "!zip -r model.zip model"
      ],
      "metadata": {
        "id": "d93Ch6DEqvIh",
        "outputId": "c01bd0f2-32c3-4b61-cf8a-d365f12cfae5",
        "colab": {
          "base_uri": "https://localhost:8080/"
        }
      },
      "execution_count": 6,
      "outputs": [
        {
          "output_type": "stream",
          "name": "stdout",
          "text": [
            "Collecting tensorflowjs\n",
            "  Downloading tensorflowjs-3.15.0-py3-none-any.whl (77 kB)\n",
            "\u001b[?25l\r\u001b[K     |████▎                           | 10 kB 21.1 MB/s eta 0:00:01\r\u001b[K     |████████▌                       | 20 kB 14.3 MB/s eta 0:00:01\r\u001b[K     |████████████▊                   | 30 kB 10.1 MB/s eta 0:00:01\r\u001b[K     |█████████████████               | 40 kB 8.6 MB/s eta 0:00:01\r\u001b[K     |█████████████████████▏          | 51 kB 4.8 MB/s eta 0:00:01\r\u001b[K     |█████████████████████████▍      | 61 kB 5.6 MB/s eta 0:00:01\r\u001b[K     |█████████████████████████████▋  | 71 kB 5.8 MB/s eta 0:00:01\r\u001b[K     |████████████████████████████████| 77 kB 3.1 MB/s \n",
            "\u001b[?25hRequirement already satisfied: six<2,>=1.12.0 in /usr/local/lib/python3.7/dist-packages (from tensorflowjs) (1.15.0)\n",
            "Requirement already satisfied: tensorflow<3,>=2.1.0 in /usr/local/lib/python3.7/dist-packages (from tensorflowjs) (2.8.0)\n",
            "Requirement already satisfied: tensorflow-hub<0.13,>=0.7.0 in /usr/local/lib/python3.7/dist-packages (from tensorflowjs) (0.12.0)\n",
            "Collecting tf-estimator-nightly==2.8.0.dev2021122109\n",
            "  Downloading tf_estimator_nightly-2.8.0.dev2021122109-py2.py3-none-any.whl (462 kB)\n",
            "\u001b[K     |████████████████████████████████| 462 kB 10.7 MB/s \n",
            "\u001b[?25hRequirement already satisfied: protobuf>=3.9.2 in /usr/local/lib/python3.7/dist-packages (from tensorflow<3,>=2.1.0->tensorflowjs) (3.17.3)\n",
            "Requirement already satisfied: gast>=0.2.1 in /usr/local/lib/python3.7/dist-packages (from tensorflow<3,>=2.1.0->tensorflowjs) (0.5.3)\n",
            "Requirement already satisfied: setuptools in /usr/local/lib/python3.7/dist-packages (from tensorflow<3,>=2.1.0->tensorflowjs) (57.4.0)\n",
            "Requirement already satisfied: tensorflow-io-gcs-filesystem>=0.23.1 in /usr/local/lib/python3.7/dist-packages (from tensorflow<3,>=2.1.0->tensorflowjs) (0.24.0)\n",
            "Requirement already satisfied: wrapt>=1.11.0 in /usr/local/lib/python3.7/dist-packages (from tensorflow<3,>=2.1.0->tensorflowjs) (1.14.0)\n",
            "Requirement already satisfied: grpcio<2.0,>=1.24.3 in /usr/local/lib/python3.7/dist-packages (from tensorflow<3,>=2.1.0->tensorflowjs) (1.44.0)\n",
            "Requirement already satisfied: numpy>=1.20 in /usr/local/lib/python3.7/dist-packages (from tensorflow<3,>=2.1.0->tensorflowjs) (1.21.6)\n",
            "Requirement already satisfied: astunparse>=1.6.0 in /usr/local/lib/python3.7/dist-packages (from tensorflow<3,>=2.1.0->tensorflowjs) (1.6.3)\n",
            "Requirement already satisfied: termcolor>=1.1.0 in /usr/local/lib/python3.7/dist-packages (from tensorflow<3,>=2.1.0->tensorflowjs) (1.1.0)\n",
            "Requirement already satisfied: libclang>=9.0.1 in /usr/local/lib/python3.7/dist-packages (from tensorflow<3,>=2.1.0->tensorflowjs) (13.0.0)\n",
            "Requirement already satisfied: typing-extensions>=3.6.6 in /usr/local/lib/python3.7/dist-packages (from tensorflow<3,>=2.1.0->tensorflowjs) (4.1.1)\n",
            "Requirement already satisfied: tensorboard<2.9,>=2.8 in /usr/local/lib/python3.7/dist-packages (from tensorflow<3,>=2.1.0->tensorflowjs) (2.8.0)\n",
            "Requirement already satisfied: h5py>=2.9.0 in /usr/local/lib/python3.7/dist-packages (from tensorflow<3,>=2.1.0->tensorflowjs) (3.1.0)\n",
            "Requirement already satisfied: keras-preprocessing>=1.1.1 in /usr/local/lib/python3.7/dist-packages (from tensorflow<3,>=2.1.0->tensorflowjs) (1.1.2)\n",
            "Requirement already satisfied: flatbuffers>=1.12 in /usr/local/lib/python3.7/dist-packages (from tensorflow<3,>=2.1.0->tensorflowjs) (2.0)\n",
            "Requirement already satisfied: absl-py>=0.4.0 in /usr/local/lib/python3.7/dist-packages (from tensorflow<3,>=2.1.0->tensorflowjs) (1.0.0)\n",
            "Requirement already satisfied: google-pasta>=0.1.1 in /usr/local/lib/python3.7/dist-packages (from tensorflow<3,>=2.1.0->tensorflowjs) (0.2.0)\n",
            "Requirement already satisfied: opt-einsum>=2.3.2 in /usr/local/lib/python3.7/dist-packages (from tensorflow<3,>=2.1.0->tensorflowjs) (3.3.0)\n",
            "Requirement already satisfied: keras<2.9,>=2.8.0rc0 in /usr/local/lib/python3.7/dist-packages (from tensorflow<3,>=2.1.0->tensorflowjs) (2.8.0)\n",
            "Requirement already satisfied: wheel<1.0,>=0.23.0 in /usr/local/lib/python3.7/dist-packages (from astunparse>=1.6.0->tensorflow<3,>=2.1.0->tensorflowjs) (0.37.1)\n",
            "Requirement already satisfied: cached-property in /usr/local/lib/python3.7/dist-packages (from h5py>=2.9.0->tensorflow<3,>=2.1.0->tensorflowjs) (1.5.2)\n",
            "Requirement already satisfied: google-auth<3,>=1.6.3 in /usr/local/lib/python3.7/dist-packages (from tensorboard<2.9,>=2.8->tensorflow<3,>=2.1.0->tensorflowjs) (1.35.0)\n",
            "Requirement already satisfied: markdown>=2.6.8 in /usr/local/lib/python3.7/dist-packages (from tensorboard<2.9,>=2.8->tensorflow<3,>=2.1.0->tensorflowjs) (3.3.6)\n",
            "Requirement already satisfied: google-auth-oauthlib<0.5,>=0.4.1 in /usr/local/lib/python3.7/dist-packages (from tensorboard<2.9,>=2.8->tensorflow<3,>=2.1.0->tensorflowjs) (0.4.6)\n",
            "Requirement already satisfied: tensorboard-data-server<0.7.0,>=0.6.0 in /usr/local/lib/python3.7/dist-packages (from tensorboard<2.9,>=2.8->tensorflow<3,>=2.1.0->tensorflowjs) (0.6.1)\n",
            "Requirement already satisfied: requests<3,>=2.21.0 in /usr/local/lib/python3.7/dist-packages (from tensorboard<2.9,>=2.8->tensorflow<3,>=2.1.0->tensorflowjs) (2.23.0)\n",
            "Requirement already satisfied: tensorboard-plugin-wit>=1.6.0 in /usr/local/lib/python3.7/dist-packages (from tensorboard<2.9,>=2.8->tensorflow<3,>=2.1.0->tensorflowjs) (1.8.1)\n",
            "Requirement already satisfied: werkzeug>=0.11.15 in /usr/local/lib/python3.7/dist-packages (from tensorboard<2.9,>=2.8->tensorflow<3,>=2.1.0->tensorflowjs) (1.0.1)\n",
            "Requirement already satisfied: cachetools<5.0,>=2.0.0 in /usr/local/lib/python3.7/dist-packages (from google-auth<3,>=1.6.3->tensorboard<2.9,>=2.8->tensorflow<3,>=2.1.0->tensorflowjs) (4.2.4)\n",
            "Requirement already satisfied: pyasn1-modules>=0.2.1 in /usr/local/lib/python3.7/dist-packages (from google-auth<3,>=1.6.3->tensorboard<2.9,>=2.8->tensorflow<3,>=2.1.0->tensorflowjs) (0.2.8)\n",
            "Requirement already satisfied: rsa<5,>=3.1.4 in /usr/local/lib/python3.7/dist-packages (from google-auth<3,>=1.6.3->tensorboard<2.9,>=2.8->tensorflow<3,>=2.1.0->tensorflowjs) (4.8)\n",
            "Requirement already satisfied: requests-oauthlib>=0.7.0 in /usr/local/lib/python3.7/dist-packages (from google-auth-oauthlib<0.5,>=0.4.1->tensorboard<2.9,>=2.8->tensorflow<3,>=2.1.0->tensorflowjs) (1.3.1)\n",
            "Requirement already satisfied: importlib-metadata>=4.4 in /usr/local/lib/python3.7/dist-packages (from markdown>=2.6.8->tensorboard<2.9,>=2.8->tensorflow<3,>=2.1.0->tensorflowjs) (4.11.3)\n",
            "Requirement already satisfied: zipp>=0.5 in /usr/local/lib/python3.7/dist-packages (from importlib-metadata>=4.4->markdown>=2.6.8->tensorboard<2.9,>=2.8->tensorflow<3,>=2.1.0->tensorflowjs) (3.8.0)\n",
            "Requirement already satisfied: pyasn1<0.5.0,>=0.4.6 in /usr/local/lib/python3.7/dist-packages (from pyasn1-modules>=0.2.1->google-auth<3,>=1.6.3->tensorboard<2.9,>=2.8->tensorflow<3,>=2.1.0->tensorflowjs) (0.4.8)\n",
            "Requirement already satisfied: urllib3!=1.25.0,!=1.25.1,<1.26,>=1.21.1 in /usr/local/lib/python3.7/dist-packages (from requests<3,>=2.21.0->tensorboard<2.9,>=2.8->tensorflow<3,>=2.1.0->tensorflowjs) (1.24.3)\n",
            "Requirement already satisfied: chardet<4,>=3.0.2 in /usr/local/lib/python3.7/dist-packages (from requests<3,>=2.21.0->tensorboard<2.9,>=2.8->tensorflow<3,>=2.1.0->tensorflowjs) (3.0.4)\n",
            "Requirement already satisfied: idna<3,>=2.5 in /usr/local/lib/python3.7/dist-packages (from requests<3,>=2.21.0->tensorboard<2.9,>=2.8->tensorflow<3,>=2.1.0->tensorflowjs) (2.10)\n",
            "Requirement already satisfied: certifi>=2017.4.17 in /usr/local/lib/python3.7/dist-packages (from requests<3,>=2.21.0->tensorboard<2.9,>=2.8->tensorflow<3,>=2.1.0->tensorflowjs) (2021.10.8)\n",
            "Requirement already satisfied: oauthlib>=3.0.0 in /usr/local/lib/python3.7/dist-packages (from requests-oauthlib>=0.7.0->google-auth-oauthlib<0.5,>=0.4.1->tensorboard<2.9,>=2.8->tensorflow<3,>=2.1.0->tensorflowjs) (3.2.0)\n",
            "Installing collected packages: tf-estimator-nightly, tensorflowjs\n",
            "Successfully installed tensorflowjs-3.15.0 tf-estimator-nightly-2.8.0.dev2021122109\n",
            "\tzip warning: name not matched: content/model\n",
            "\n",
            "zip error: Nothing to do! (try: zip -r model.zip . -i content/model)\n"
          ]
        }
      ]
    },
    {
      "cell_type": "code",
      "source": [
        "#EXP\n",
        "output_array = modellstm.predict(input_data)\n",
        "reshape_out=np.reshape(output_array[0][0],(3733,-1))\n",
        "print(reshape_out.shape)\n"
      ],
      "metadata": {
        "id": "D8j0gze5PCVv",
        "outputId": "88d57099-80f2-4978-e552-f21199dd89b4",
        "colab": {
          "base_uri": "https://localhost:8080/"
        }
      },
      "execution_count": null,
      "outputs": [
        {
          "output_type": "stream",
          "name": "stdout",
          "text": [
            "(3733, 1)\n"
          ]
        }
      ]
    },
    {
      "cell_type": "code",
      "source": [
        "# list_of_lists = [[1,2,3],[4,5,6],[7,8,9]]\n",
        "\n",
        "# import csv\n",
        "\n",
        "# with open(\"out.csv\", \"w\") as f:\n",
        "#     wr = csv.writer(f)\n",
        "   \n",
        "#     wr.writerows(exppairs)\n",
        "\n",
        "exppairs=pairs[0:10]\n",
        "file = open(\"sample.py\", \"w+\")\n",
        "\n",
        "# Saving the array in a text file\n",
        "for pair in exppairs :\n",
        "   file.write(str(pair))\n",
        "file.close()\n"
      ],
      "metadata": {
        "id": "FB4y8Vg9BsKW"
      },
      "execution_count": null,
      "outputs": []
    },
    {
      "cell_type": "code",
      "source": [
        "# modelexp = tf.sequential();\n",
        "# modelexp.add(tf.layers.dense({ units: 1, inputShape: [1] }));"
      ],
      "metadata": {
        "id": "b360uLwwsh9t"
      },
      "execution_count": null,
      "outputs": []
    },
    {
      "cell_type": "code",
      "source": [
        "import tensorflow as tf\n",
        "import keras as keras\n",
        "modelexp = Sequential()\n",
        "# modelexp.add(Input(shape=(1,)))\n",
        "modelexp.add(Dense(1,input_dim=1))\n",
        "\n",
        "modelexp.compile(optimizer='sgd', loss=tf.keras.losses.MeanSquaredError( name=\"mean_squared_error\"),metrics=['accuracy'])\n",
        "xs = np.array([1, 2, 3, 4, 5, 6, 7, 8, 9, 10, 11, 12]);\n",
        "xs=np.reshape(xs,(12,1))\n",
        "ys = np.array([1, 4, 6, 8, 10, 12, 14, 16, 18, 20, 22, 24]);\n",
        "ys=np.reshape(ys,(12,1))\n",
        "modelexp.fit(xs, ys,epochs=300, batch_size=1 )\n",
        "x1=np.array([40])\n",
        "x1=np.reshape(x1,(1,1))\n",
        "print(x1.shape);\n",
        "print(modelexp.predict(x1))"
      ],
      "metadata": {
        "id": "1RmiBNgJtFjN",
        "outputId": "a27747ca-3062-4e1c-8a7a-177736bc03b4",
        "colab": {
          "base_uri": "https://localhost:8080/"
        }
      },
      "execution_count": 46,
      "outputs": [
        {
          "output_type": "stream",
          "name": "stdout",
          "text": [
            "Epoch 1/300\n",
            "12/12 [==============================] - 0s 2ms/step - loss: 35.2292 - accuracy: 0.0833 \n",
            "Epoch 2/300\n",
            "12/12 [==============================] - 0s 2ms/step - loss: 0.1966 - accuracy: 0.0833\n",
            "Epoch 3/300\n",
            "12/12 [==============================] - 0s 2ms/step - loss: 0.3876 - accuracy: 0.0833\n",
            "Epoch 4/300\n",
            "12/12 [==============================] - 0s 2ms/step - loss: 0.1449 - accuracy: 0.0833\n",
            "Epoch 5/300\n",
            "12/12 [==============================] - 0s 2ms/step - loss: 0.1448 - accuracy: 0.0833\n",
            "Epoch 6/300\n",
            "12/12 [==============================] - 0s 1ms/step - loss: 0.1665 - accuracy: 0.0833\n",
            "Epoch 7/300\n",
            "12/12 [==============================] - 0s 1ms/step - loss: 0.1244 - accuracy: 0.0833\n",
            "Epoch 8/300\n",
            "12/12 [==============================] - 0s 2ms/step - loss: 0.1186 - accuracy: 0.0833\n",
            "Epoch 9/300\n",
            "12/12 [==============================] - 0s 2ms/step - loss: 0.1276 - accuracy: 0.0833\n",
            "Epoch 10/300\n",
            "12/12 [==============================] - 0s 2ms/step - loss: 0.1088 - accuracy: 0.0833\n",
            "Epoch 11/300\n",
            "12/12 [==============================] - 0s 2ms/step - loss: 0.0984 - accuracy: 0.0833\n",
            "Epoch 12/300\n",
            "12/12 [==============================] - 0s 2ms/step - loss: 0.0964 - accuracy: 0.0833\n",
            "Epoch 13/300\n",
            "12/12 [==============================] - 0s 2ms/step - loss: 0.0901 - accuracy: 0.0833\n",
            "Epoch 14/300\n",
            "12/12 [==============================] - 0s 2ms/step - loss: 0.0843 - accuracy: 0.0833    \n",
            "Epoch 15/300\n",
            "12/12 [==============================] - 0s 2ms/step - loss: 0.1004 - accuracy: 0.0833\n",
            "Epoch 16/300\n",
            "12/12 [==============================] - 0s 2ms/step - loss: 0.0897 - accuracy: 0.0833\n",
            "Epoch 17/300\n",
            "12/12 [==============================] - 0s 2ms/step - loss: 0.0848 - accuracy: 0.0833\n",
            "Epoch 18/300\n",
            "12/12 [==============================] - 0s 2ms/step - loss: 0.0786 - accuracy: 0.0833    \n",
            "Epoch 19/300\n",
            "12/12 [==============================] - 0s 2ms/step - loss: 0.0775 - accuracy: 0.0833    \n",
            "Epoch 20/300\n",
            "12/12 [==============================] - 0s 2ms/step - loss: 0.0788 - accuracy: 0.0833\n",
            "Epoch 21/300\n",
            "12/12 [==============================] - 0s 2ms/step - loss: 0.0739 - accuracy: 0.0833    \n",
            "Epoch 22/300\n",
            "12/12 [==============================] - 0s 2ms/step - loss: 0.0733 - accuracy: 0.0833\n",
            "Epoch 23/300\n",
            "12/12 [==============================] - 0s 2ms/step - loss: 0.0752 - accuracy: 0.0833\n",
            "Epoch 24/300\n",
            "12/12 [==============================] - 0s 2ms/step - loss: 0.0758 - accuracy: 0.0833\n",
            "Epoch 25/300\n",
            "12/12 [==============================] - 0s 2ms/step - loss: 0.0807 - accuracy: 0.0833\n",
            "Epoch 26/300\n",
            "12/12 [==============================] - 0s 2ms/step - loss: 0.1128 - accuracy: 0.0833\n",
            "Epoch 27/300\n",
            "12/12 [==============================] - 0s 2ms/step - loss: 0.0722 - accuracy: 0.0833\n",
            "Epoch 28/300\n",
            "12/12 [==============================] - 0s 2ms/step - loss: 0.0696 - accuracy: 0.0833\n",
            "Epoch 29/300\n",
            "12/12 [==============================] - 0s 2ms/step - loss: 0.0705 - accuracy: 0.0833\n",
            "Epoch 30/300\n",
            "12/12 [==============================] - 0s 2ms/step - loss: 0.0734 - accuracy: 0.0833\n",
            "Epoch 31/300\n",
            "12/12 [==============================] - 0s 2ms/step - loss: 0.0732 - accuracy: 0.0833\n",
            "Epoch 32/300\n",
            "12/12 [==============================] - 0s 2ms/step - loss: 0.1023 - accuracy: 0.0833\n",
            "Epoch 33/300\n",
            "12/12 [==============================] - 0s 2ms/step - loss: 0.0726 - accuracy: 0.0833\n",
            "Epoch 34/300\n",
            "12/12 [==============================] - 0s 2ms/step - loss: 0.0998 - accuracy: 0.0833\n",
            "Epoch 35/300\n",
            "12/12 [==============================] - 0s 2ms/step - loss: 0.0836 - accuracy: 0.0833\n",
            "Epoch 36/300\n",
            "12/12 [==============================] - 0s 2ms/step - loss: 0.0714 - accuracy: 0.0833\n",
            "Epoch 37/300\n",
            "12/12 [==============================] - 0s 2ms/step - loss: 0.0839 - accuracy: 0.0833\n",
            "Epoch 38/300\n",
            "12/12 [==============================] - 0s 2ms/step - loss: 0.0782 - accuracy: 0.0833\n",
            "Epoch 39/300\n",
            "12/12 [==============================] - 0s 2ms/step - loss: 0.0720 - accuracy: 0.0833\n",
            "Epoch 40/300\n",
            "12/12 [==============================] - 0s 2ms/step - loss: 0.0692 - accuracy: 0.0833\n",
            "Epoch 41/300\n",
            "12/12 [==============================] - 0s 2ms/step - loss: 0.0784 - accuracy: 0.0833\n",
            "Epoch 42/300\n",
            "12/12 [==============================] - 0s 2ms/step - loss: 0.0730 - accuracy: 0.0833\n",
            "Epoch 43/300\n",
            "12/12 [==============================] - 0s 2ms/step - loss: 0.0821 - accuracy: 0.0833\n",
            "Epoch 44/300\n",
            "12/12 [==============================] - 0s 2ms/step - loss: 0.0660 - accuracy: 0.0833\n",
            "Epoch 45/300\n",
            "12/12 [==============================] - 0s 2ms/step - loss: 0.0731 - accuracy: 0.0833\n",
            "Epoch 46/300\n",
            "12/12 [==============================] - 0s 2ms/step - loss: 0.1328 - accuracy: 0.0833\n",
            "Epoch 47/300\n",
            "12/12 [==============================] - 0s 2ms/step - loss: 0.0853 - accuracy: 0.0833\n",
            "Epoch 48/300\n",
            "12/12 [==============================] - 0s 2ms/step - loss: 0.0928 - accuracy: 0.0833\n",
            "Epoch 49/300\n",
            "12/12 [==============================] - 0s 2ms/step - loss: 0.0754 - accuracy: 0.0833\n",
            "Epoch 50/300\n",
            "12/12 [==============================] - 0s 3ms/step - loss: 0.1252 - accuracy: 0.0833\n",
            "Epoch 51/300\n",
            "12/12 [==============================] - 0s 2ms/step - loss: 0.0655 - accuracy: 0.0833\n",
            "Epoch 52/300\n",
            "12/12 [==============================] - 0s 2ms/step - loss: 0.0630 - accuracy: 0.0833\n",
            "Epoch 53/300\n",
            "12/12 [==============================] - 0s 2ms/step - loss: 0.0669 - accuracy: 0.0833\n",
            "Epoch 54/300\n",
            "12/12 [==============================] - 0s 2ms/step - loss: 0.0727 - accuracy: 0.0833\n",
            "Epoch 55/300\n",
            "12/12 [==============================] - 0s 2ms/step - loss: 0.0807 - accuracy: 0.0833\n",
            "Epoch 56/300\n",
            "12/12 [==============================] - 0s 2ms/step - loss: 0.0924 - accuracy: 0.0833\n",
            "Epoch 57/300\n",
            "12/12 [==============================] - 0s 2ms/step - loss: 0.0648 - accuracy: 0.0833\n",
            "Epoch 58/300\n",
            "12/12 [==============================] - 0s 2ms/step - loss: 0.0924 - accuracy: 0.0833\n",
            "Epoch 59/300\n",
            "12/12 [==============================] - 0s 2ms/step - loss: 0.0771 - accuracy: 0.0833\n",
            "Epoch 60/300\n",
            "12/12 [==============================] - 0s 2ms/step - loss: 0.0825 - accuracy: 0.0833\n",
            "Epoch 61/300\n",
            "12/12 [==============================] - 0s 2ms/step - loss: 0.0769 - accuracy: 0.0833\n",
            "Epoch 62/300\n",
            "12/12 [==============================] - 0s 2ms/step - loss: 0.0940 - accuracy: 0.0833\n",
            "Epoch 63/300\n",
            "12/12 [==============================] - 0s 2ms/step - loss: 0.1259 - accuracy: 0.0833\n",
            "Epoch 64/300\n",
            "12/12 [==============================] - 0s 2ms/step - loss: 0.1409 - accuracy: 0.0833\n",
            "Epoch 65/300\n",
            "12/12 [==============================] - 0s 2ms/step - loss: 0.0823 - accuracy: 0.0833\n",
            "Epoch 66/300\n",
            "12/12 [==============================] - 0s 2ms/step - loss: 0.1419 - accuracy: 0.0833    \n",
            "Epoch 67/300\n",
            "12/12 [==============================] - 0s 2ms/step - loss: 0.0700 - accuracy: 0.0833    \n",
            "Epoch 68/300\n",
            "12/12 [==============================] - 0s 2ms/step - loss: 0.0826 - accuracy: 0.0833\n",
            "Epoch 69/300\n",
            "12/12 [==============================] - 0s 2ms/step - loss: 0.0867 - accuracy: 0.0833\n",
            "Epoch 70/300\n",
            "12/12 [==============================] - 0s 2ms/step - loss: 0.0590 - accuracy: 0.0833\n",
            "Epoch 71/300\n",
            "12/12 [==============================] - 0s 2ms/step - loss: 0.1059 - accuracy: 0.0833    \n",
            "Epoch 72/300\n",
            "12/12 [==============================] - 0s 2ms/step - loss: 0.0723 - accuracy: 0.0833    \n",
            "Epoch 73/300\n",
            "12/12 [==============================] - 0s 2ms/step - loss: 0.0912 - accuracy: 0.0833\n",
            "Epoch 74/300\n",
            "12/12 [==============================] - 0s 1ms/step - loss: 0.1105 - accuracy: 0.0833    \n",
            "Epoch 75/300\n",
            "12/12 [==============================] - 0s 2ms/step - loss: 0.0850 - accuracy: 0.0833\n",
            "Epoch 76/300\n",
            "12/12 [==============================] - 0s 2ms/step - loss: 0.0934 - accuracy: 0.0833\n",
            "Epoch 77/300\n",
            "12/12 [==============================] - 0s 2ms/step - loss: 0.0856 - accuracy: 0.0833\n",
            "Epoch 78/300\n",
            "12/12 [==============================] - 0s 2ms/step - loss: 0.0725 - accuracy: 0.0833\n",
            "Epoch 79/300\n",
            "12/12 [==============================] - 0s 2ms/step - loss: 0.0850 - accuracy: 0.0833    \n",
            "Epoch 80/300\n",
            "12/12 [==============================] - 0s 2ms/step - loss: 0.1583 - accuracy: 0.0833\n",
            "Epoch 81/300\n",
            "12/12 [==============================] - 0s 2ms/step - loss: 0.1036 - accuracy: 0.0833\n",
            "Epoch 82/300\n",
            "12/12 [==============================] - 0s 2ms/step - loss: 0.0876 - accuracy: 0.0833    \n",
            "Epoch 83/300\n",
            "12/12 [==============================] - 0s 2ms/step - loss: 0.0848 - accuracy: 0.0833\n",
            "Epoch 84/300\n",
            "12/12 [==============================] - 0s 2ms/step - loss: 0.0842 - accuracy: 0.0833    \n",
            "Epoch 85/300\n",
            "12/12 [==============================] - 0s 2ms/step - loss: 0.0862 - accuracy: 0.0833\n",
            "Epoch 86/300\n",
            "12/12 [==============================] - 0s 2ms/step - loss: 0.0875 - accuracy: 0.0833\n",
            "Epoch 87/300\n",
            "12/12 [==============================] - 0s 2ms/step - loss: 0.0762 - accuracy: 0.0833\n",
            "Epoch 88/300\n",
            "12/12 [==============================] - 0s 2ms/step - loss: 0.0742 - accuracy: 0.0833\n",
            "Epoch 89/300\n",
            "12/12 [==============================] - 0s 2ms/step - loss: 0.0787 - accuracy: 0.0833    \n",
            "Epoch 90/300\n",
            "12/12 [==============================] - 0s 2ms/step - loss: 0.0653 - accuracy: 0.0833\n",
            "Epoch 91/300\n",
            "12/12 [==============================] - 0s 2ms/step - loss: 0.0680 - accuracy: 0.0833    \n",
            "Epoch 92/300\n",
            "12/12 [==============================] - 0s 2ms/step - loss: 0.1136 - accuracy: 0.0833\n",
            "Epoch 93/300\n",
            "12/12 [==============================] - 0s 2ms/step - loss: 0.0675 - accuracy: 0.0833\n",
            "Epoch 94/300\n",
            "12/12 [==============================] - 0s 2ms/step - loss: 0.1391 - accuracy: 0.0833\n",
            "Epoch 95/300\n",
            "12/12 [==============================] - 0s 2ms/step - loss: 0.0712 - accuracy: 0.0833\n",
            "Epoch 96/300\n",
            "12/12 [==============================] - 0s 2ms/step - loss: 0.0647 - accuracy: 0.0833\n",
            "Epoch 97/300\n",
            "12/12 [==============================] - 0s 2ms/step - loss: 0.1653 - accuracy: 0.0833\n",
            "Epoch 98/300\n",
            "12/12 [==============================] - 0s 2ms/step - loss: 0.1086 - accuracy: 0.0833\n",
            "Epoch 99/300\n",
            "12/12 [==============================] - 0s 2ms/step - loss: 0.3693 - accuracy: 0.0833\n",
            "Epoch 100/300\n",
            "12/12 [==============================] - 0s 2ms/step - loss: 0.0730 - accuracy: 0.0833\n",
            "Epoch 101/300\n",
            "12/12 [==============================] - 0s 2ms/step - loss: 0.3068 - accuracy: 0.0833\n",
            "Epoch 102/300\n",
            "12/12 [==============================] - 0s 2ms/step - loss: 0.1067 - accuracy: 0.0833    \n",
            "Epoch 103/300\n",
            "12/12 [==============================] - 0s 2ms/step - loss: 0.1198 - accuracy: 0.0833\n",
            "Epoch 104/300\n",
            "12/12 [==============================] - 0s 2ms/step - loss: 0.1226 - accuracy: 0.0833\n",
            "Epoch 105/300\n",
            "12/12 [==============================] - 0s 2ms/step - loss: 0.0855 - accuracy: 0.0833\n",
            "Epoch 106/300\n",
            "12/12 [==============================] - 0s 2ms/step - loss: 0.1015 - accuracy: 0.0833\n",
            "Epoch 107/300\n",
            "12/12 [==============================] - 0s 3ms/step - loss: 0.0670 - accuracy: 0.0833\n",
            "Epoch 108/300\n",
            "12/12 [==============================] - 0s 2ms/step - loss: 0.0751 - accuracy: 0.0833\n",
            "Epoch 109/300\n",
            "12/12 [==============================] - 0s 2ms/step - loss: 0.1642 - accuracy: 0.0833    \n",
            "Epoch 110/300\n",
            "12/12 [==============================] - 0s 2ms/step - loss: 0.0891 - accuracy: 0.0833\n",
            "Epoch 111/300\n",
            "12/12 [==============================] - 0s 2ms/step - loss: 0.0747 - accuracy: 0.0833    \n",
            "Epoch 112/300\n",
            "12/12 [==============================] - 0s 2ms/step - loss: 0.1086 - accuracy: 0.0833\n",
            "Epoch 113/300\n",
            "12/12 [==============================] - 0s 2ms/step - loss: 0.0691 - accuracy: 0.0833\n",
            "Epoch 114/300\n",
            "12/12 [==============================] - 0s 2ms/step - loss: 0.0745 - accuracy: 0.0833\n",
            "Epoch 115/300\n",
            "12/12 [==============================] - 0s 2ms/step - loss: 0.0718 - accuracy: 0.0833\n",
            "Epoch 116/300\n",
            "12/12 [==============================] - 0s 2ms/step - loss: 0.1065 - accuracy: 0.0833\n",
            "Epoch 117/300\n",
            "12/12 [==============================] - 0s 2ms/step - loss: 0.0776 - accuracy: 0.0833\n",
            "Epoch 118/300\n",
            "12/12 [==============================] - 0s 2ms/step - loss: 0.1117 - accuracy: 0.0833\n",
            "Epoch 119/300\n",
            "12/12 [==============================] - 0s 2ms/step - loss: 0.0831 - accuracy: 0.0833\n",
            "Epoch 120/300\n",
            "12/12 [==============================] - 0s 2ms/step - loss: 0.0790 - accuracy: 0.0833\n",
            "Epoch 121/300\n",
            "12/12 [==============================] - 0s 2ms/step - loss: 0.0877 - accuracy: 0.0833\n",
            "Epoch 122/300\n",
            "12/12 [==============================] - 0s 2ms/step - loss: 0.0697 - accuracy: 0.0833\n",
            "Epoch 123/300\n",
            "12/12 [==============================] - 0s 2ms/step - loss: 0.0713 - accuracy: 0.0833\n",
            "Epoch 124/300\n",
            "12/12 [==============================] - 0s 2ms/step - loss: 0.0830 - accuracy: 0.0833\n",
            "Epoch 125/300\n",
            "12/12 [==============================] - 0s 2ms/step - loss: 0.1039 - accuracy: 0.0833\n",
            "Epoch 126/300\n",
            "12/12 [==============================] - 0s 2ms/step - loss: 0.0790 - accuracy: 0.0833\n",
            "Epoch 127/300\n",
            "12/12 [==============================] - 0s 2ms/step - loss: 0.0935 - accuracy: 0.0833\n",
            "Epoch 128/300\n",
            "12/12 [==============================] - 0s 2ms/step - loss: 0.0857 - accuracy: 0.0833\n",
            "Epoch 129/300\n",
            "12/12 [==============================] - 0s 2ms/step - loss: 0.1269 - accuracy: 0.0833    \n",
            "Epoch 130/300\n",
            "12/12 [==============================] - 0s 2ms/step - loss: 0.1068 - accuracy: 0.0833\n",
            "Epoch 131/300\n",
            "12/12 [==============================] - 0s 2ms/step - loss: 0.0773 - accuracy: 0.0833\n",
            "Epoch 132/300\n",
            "12/12 [==============================] - 0s 2ms/step - loss: 0.1145 - accuracy: 0.0833\n",
            "Epoch 133/300\n",
            "12/12 [==============================] - 0s 2ms/step - loss: 0.0908 - accuracy: 0.0833\n",
            "Epoch 134/300\n",
            "12/12 [==============================] - 0s 2ms/step - loss: 0.0988 - accuracy: 0.0833\n",
            "Epoch 135/300\n",
            "12/12 [==============================] - 0s 2ms/step - loss: 0.1070 - accuracy: 0.0833\n",
            "Epoch 136/300\n",
            "12/12 [==============================] - 0s 2ms/step - loss: 0.0886 - accuracy: 0.0833\n",
            "Epoch 137/300\n",
            "12/12 [==============================] - 0s 2ms/step - loss: 0.0951 - accuracy: 0.0833\n",
            "Epoch 138/300\n",
            "12/12 [==============================] - 0s 2ms/step - loss: 0.1358 - accuracy: 0.0833\n",
            "Epoch 139/300\n",
            "12/12 [==============================] - 0s 2ms/step - loss: 0.0891 - accuracy: 0.0833\n",
            "Epoch 140/300\n",
            "12/12 [==============================] - 0s 2ms/step - loss: 0.0959 - accuracy: 0.0833\n",
            "Epoch 141/300\n",
            "12/12 [==============================] - 0s 2ms/step - loss: 0.1536 - accuracy: 0.0833    \n",
            "Epoch 142/300\n",
            "12/12 [==============================] - 0s 2ms/step - loss: 0.1026 - accuracy: 0.0833\n",
            "Epoch 143/300\n",
            "12/12 [==============================] - 0s 3ms/step - loss: 0.1010 - accuracy: 0.0833\n",
            "Epoch 144/300\n",
            "12/12 [==============================] - 0s 2ms/step - loss: 0.0980 - accuracy: 0.0833\n",
            "Epoch 145/300\n",
            "12/12 [==============================] - 0s 2ms/step - loss: 0.0810 - accuracy: 0.0833\n",
            "Epoch 146/300\n",
            "12/12 [==============================] - 0s 2ms/step - loss: 0.0659 - accuracy: 0.0833\n",
            "Epoch 147/300\n",
            "12/12 [==============================] - 0s 2ms/step - loss: 0.1101 - accuracy: 0.0833\n",
            "Epoch 148/300\n",
            "12/12 [==============================] - 0s 2ms/step - loss: 0.1035 - accuracy: 0.0833\n",
            "Epoch 149/300\n",
            "12/12 [==============================] - 0s 2ms/step - loss: 0.1581 - accuracy: 0.0833\n",
            "Epoch 150/300\n",
            "12/12 [==============================] - 0s 2ms/step - loss: 0.0736 - accuracy: 0.0833\n",
            "Epoch 151/300\n",
            "12/12 [==============================] - 0s 2ms/step - loss: 0.1228 - accuracy: 0.0833\n",
            "Epoch 152/300\n",
            "12/12 [==============================] - 0s 2ms/step - loss: 0.0818 - accuracy: 0.0833\n",
            "Epoch 153/300\n",
            "12/12 [==============================] - 0s 2ms/step - loss: 0.0889 - accuracy: 0.0833\n",
            "Epoch 154/300\n",
            "12/12 [==============================] - 0s 2ms/step - loss: 0.1313 - accuracy: 0.0833\n",
            "Epoch 155/300\n",
            "12/12 [==============================] - 0s 2ms/step - loss: 0.0788 - accuracy: 0.0833\n",
            "Epoch 156/300\n",
            "12/12 [==============================] - 0s 2ms/step - loss: 0.0755 - accuracy: 0.0833\n",
            "Epoch 157/300\n",
            "12/12 [==============================] - 0s 2ms/step - loss: 0.0637 - accuracy: 0.0833\n",
            "Epoch 158/300\n",
            "12/12 [==============================] - 0s 2ms/step - loss: 0.0671 - accuracy: 0.0833\n",
            "Epoch 159/300\n",
            "12/12 [==============================] - 0s 2ms/step - loss: 0.0886 - accuracy: 0.0833\n",
            "Epoch 160/300\n",
            "12/12 [==============================] - 0s 2ms/step - loss: 0.0757 - accuracy: 0.0833\n",
            "Epoch 161/300\n",
            "12/12 [==============================] - 0s 2ms/step - loss: 0.0796 - accuracy: 0.0833\n",
            "Epoch 162/300\n",
            "12/12 [==============================] - 0s 2ms/step - loss: 0.1577 - accuracy: 0.0833    \n",
            "Epoch 163/300\n",
            "12/12 [==============================] - 0s 2ms/step - loss: 0.0877 - accuracy: 0.0833\n",
            "Epoch 164/300\n",
            "12/12 [==============================] - 0s 2ms/step - loss: 0.0662 - accuracy: 0.0833\n",
            "Epoch 165/300\n",
            "12/12 [==============================] - 0s 2ms/step - loss: 0.0726 - accuracy: 0.0833\n",
            "Epoch 166/300\n",
            "12/12 [==============================] - 0s 2ms/step - loss: 0.0839 - accuracy: 0.0833\n",
            "Epoch 167/300\n",
            "12/12 [==============================] - 0s 2ms/step - loss: 0.0774 - accuracy: 0.0833\n",
            "Epoch 168/300\n",
            "12/12 [==============================] - 0s 2ms/step - loss: 0.1245 - accuracy: 0.0833\n",
            "Epoch 169/300\n",
            "12/12 [==============================] - 0s 2ms/step - loss: 0.0703 - accuracy: 0.0833\n",
            "Epoch 170/300\n",
            "12/12 [==============================] - 0s 2ms/step - loss: 0.0840 - accuracy: 0.0833\n",
            "Epoch 171/300\n",
            "12/12 [==============================] - 0s 2ms/step - loss: 0.1271 - accuracy: 0.0833\n",
            "Epoch 172/300\n",
            "12/12 [==============================] - 0s 2ms/step - loss: 0.0869 - accuracy: 0.0833\n",
            "Epoch 173/300\n",
            "12/12 [==============================] - 0s 2ms/step - loss: 0.0917 - accuracy: 0.0833\n",
            "Epoch 174/300\n",
            "12/12 [==============================] - 0s 3ms/step - loss: 0.1379 - accuracy: 0.0833\n",
            "Epoch 175/300\n",
            "12/12 [==============================] - 0s 2ms/step - loss: 0.0822 - accuracy: 0.0833\n",
            "Epoch 176/300\n",
            "12/12 [==============================] - 0s 3ms/step - loss: 0.0824 - accuracy: 0.0833\n",
            "Epoch 177/300\n",
            "12/12 [==============================] - 0s 2ms/step - loss: 0.0720 - accuracy: 0.0833\n",
            "Epoch 178/300\n",
            "12/12 [==============================] - 0s 2ms/step - loss: 0.1102 - accuracy: 0.0833\n",
            "Epoch 179/300\n",
            "12/12 [==============================] - 0s 2ms/step - loss: 0.1084 - accuracy: 0.0833\n",
            "Epoch 180/300\n",
            "12/12 [==============================] - 0s 2ms/step - loss: 0.0765 - accuracy: 0.0833\n",
            "Epoch 181/300\n",
            "12/12 [==============================] - 0s 2ms/step - loss: 0.0904 - accuracy: 0.0833\n",
            "Epoch 182/300\n",
            "12/12 [==============================] - 0s 2ms/step - loss: 0.0760 - accuracy: 0.0833\n",
            "Epoch 183/300\n",
            "12/12 [==============================] - 0s 3ms/step - loss: 0.0719 - accuracy: 0.0833\n",
            "Epoch 184/300\n",
            "12/12 [==============================] - 0s 2ms/step - loss: 0.0990 - accuracy: 0.0833\n",
            "Epoch 185/300\n",
            "12/12 [==============================] - 0s 2ms/step - loss: 0.0698 - accuracy: 0.0833\n",
            "Epoch 186/300\n",
            "12/12 [==============================] - 0s 2ms/step - loss: 0.1289 - accuracy: 0.0833\n",
            "Epoch 187/300\n",
            "12/12 [==============================] - 0s 2ms/step - loss: 0.0900 - accuracy: 0.0833\n",
            "Epoch 188/300\n",
            "12/12 [==============================] - 0s 2ms/step - loss: 0.0866 - accuracy: 0.0833\n",
            "Epoch 189/300\n",
            "12/12 [==============================] - 0s 2ms/step - loss: 0.0741 - accuracy: 0.0833\n",
            "Epoch 190/300\n",
            "12/12 [==============================] - 0s 2ms/step - loss: 0.1051 - accuracy: 0.0833    \n",
            "Epoch 191/300\n",
            "12/12 [==============================] - 0s 2ms/step - loss: 0.0796 - accuracy: 0.0833\n",
            "Epoch 192/300\n",
            "12/12 [==============================] - 0s 2ms/step - loss: 0.0949 - accuracy: 0.0833    \n",
            "Epoch 193/300\n",
            "12/12 [==============================] - 0s 2ms/step - loss: 0.0902 - accuracy: 0.0833\n",
            "Epoch 194/300\n",
            "12/12 [==============================] - 0s 2ms/step - loss: 0.0895 - accuracy: 0.0833\n",
            "Epoch 195/300\n",
            "12/12 [==============================] - 0s 2ms/step - loss: 0.0765 - accuracy: 0.0833\n",
            "Epoch 196/300\n",
            "12/12 [==============================] - 0s 2ms/step - loss: 0.1162 - accuracy: 0.0833\n",
            "Epoch 197/300\n",
            "12/12 [==============================] - 0s 2ms/step - loss: 0.0690 - accuracy: 0.0833\n",
            "Epoch 198/300\n",
            "12/12 [==============================] - 0s 2ms/step - loss: 0.1260 - accuracy: 0.0833\n",
            "Epoch 199/300\n",
            "12/12 [==============================] - 0s 2ms/step - loss: 0.0927 - accuracy: 0.0833\n",
            "Epoch 200/300\n",
            "12/12 [==============================] - 0s 2ms/step - loss: 0.0663 - accuracy: 0.0833\n",
            "Epoch 201/300\n",
            "12/12 [==============================] - 0s 2ms/step - loss: 0.0719 - accuracy: 0.0833\n",
            "Epoch 202/300\n",
            "12/12 [==============================] - 0s 2ms/step - loss: 0.1824 - accuracy: 0.0833\n",
            "Epoch 203/300\n",
            "12/12 [==============================] - 0s 2ms/step - loss: 0.0838 - accuracy: 0.0833\n",
            "Epoch 204/300\n",
            "12/12 [==============================] - 0s 2ms/step - loss: 0.0721 - accuracy: 0.0833\n",
            "Epoch 205/300\n",
            "12/12 [==============================] - 0s 2ms/step - loss: 0.0975 - accuracy: 0.0833\n",
            "Epoch 206/300\n",
            "12/12 [==============================] - 0s 2ms/step - loss: 0.0755 - accuracy: 0.0833\n",
            "Epoch 207/300\n",
            "12/12 [==============================] - 0s 2ms/step - loss: 0.1667 - accuracy: 0.0833\n",
            "Epoch 208/300\n",
            "12/12 [==============================] - 0s 2ms/step - loss: 0.0683 - accuracy: 0.0833\n",
            "Epoch 209/300\n",
            "12/12 [==============================] - 0s 3ms/step - loss: 0.0980 - accuracy: 0.0833\n",
            "Epoch 210/300\n",
            "12/12 [==============================] - 0s 2ms/step - loss: 0.0669 - accuracy: 0.0833    \n",
            "Epoch 211/300\n",
            "12/12 [==============================] - 0s 2ms/step - loss: 0.1241 - accuracy: 0.0833\n",
            "Epoch 212/300\n",
            "12/12 [==============================] - 0s 2ms/step - loss: 0.1830 - accuracy: 0.0833\n",
            "Epoch 213/300\n",
            "12/12 [==============================] - 0s 2ms/step - loss: 0.0674 - accuracy: 0.0833\n",
            "Epoch 214/300\n",
            "12/12 [==============================] - 0s 2ms/step - loss: 0.0946 - accuracy: 0.0833    \n",
            "Epoch 215/300\n",
            "12/12 [==============================] - 0s 2ms/step - loss: 0.0782 - accuracy: 0.0833\n",
            "Epoch 216/300\n",
            "12/12 [==============================] - 0s 2ms/step - loss: 0.0944 - accuracy: 0.0833    \n",
            "Epoch 217/300\n",
            "12/12 [==============================] - 0s 2ms/step - loss: 0.1037 - accuracy: 0.0833\n",
            "Epoch 218/300\n",
            "12/12 [==============================] - 0s 2ms/step - loss: 0.0714 - accuracy: 0.0833\n",
            "Epoch 219/300\n",
            "12/12 [==============================] - 0s 2ms/step - loss: 0.2045 - accuracy: 0.0833\n",
            "Epoch 220/300\n",
            "12/12 [==============================] - 0s 2ms/step - loss: 0.1815 - accuracy: 0.0833\n",
            "Epoch 221/300\n",
            "12/12 [==============================] - 0s 2ms/step - loss: 0.1079 - accuracy: 0.0833\n",
            "Epoch 222/300\n",
            "12/12 [==============================] - 0s 2ms/step - loss: 0.0964 - accuracy: 0.0833\n",
            "Epoch 223/300\n",
            "12/12 [==============================] - 0s 2ms/step - loss: 0.0741 - accuracy: 0.0833\n",
            "Epoch 224/300\n",
            "12/12 [==============================] - 0s 2ms/step - loss: 0.1117 - accuracy: 0.0833\n",
            "Epoch 225/300\n",
            "12/12 [==============================] - 0s 2ms/step - loss: 0.1100 - accuracy: 0.0833\n",
            "Epoch 226/300\n",
            "12/12 [==============================] - 0s 2ms/step - loss: 0.1317 - accuracy: 0.0833\n",
            "Epoch 227/300\n",
            "12/12 [==============================] - 0s 2ms/step - loss: 0.0827 - accuracy: 0.0833\n",
            "Epoch 228/300\n",
            "12/12 [==============================] - 0s 2ms/step - loss: 0.0725 - accuracy: 0.0833\n",
            "Epoch 229/300\n",
            "12/12 [==============================] - 0s 2ms/step - loss: 0.0879 - accuracy: 0.0833    \n",
            "Epoch 230/300\n",
            "12/12 [==============================] - 0s 2ms/step - loss: 0.0724 - accuracy: 0.0833\n",
            "Epoch 231/300\n",
            "12/12 [==============================] - 0s 2ms/step - loss: 0.0821 - accuracy: 0.0833\n",
            "Epoch 232/300\n",
            "12/12 [==============================] - 0s 2ms/step - loss: 0.0742 - accuracy: 0.0833\n",
            "Epoch 233/300\n",
            "12/12 [==============================] - 0s 2ms/step - loss: 0.0902 - accuracy: 0.0833\n",
            "Epoch 234/300\n",
            "12/12 [==============================] - 0s 2ms/step - loss: 0.0912 - accuracy: 0.0833\n",
            "Epoch 235/300\n",
            "12/12 [==============================] - 0s 2ms/step - loss: 0.0877 - accuracy: 0.0833\n",
            "Epoch 236/300\n",
            "12/12 [==============================] - 0s 2ms/step - loss: 0.0716 - accuracy: 0.0833    \n",
            "Epoch 237/300\n",
            "12/12 [==============================] - 0s 2ms/step - loss: 0.0793 - accuracy: 0.0833\n",
            "Epoch 238/300\n",
            "12/12 [==============================] - 0s 2ms/step - loss: 0.1237 - accuracy: 0.0833\n",
            "Epoch 239/300\n",
            "12/12 [==============================] - 0s 2ms/step - loss: 0.1203 - accuracy: 0.0833\n",
            "Epoch 240/300\n",
            "12/12 [==============================] - 0s 2ms/step - loss: 0.1648 - accuracy: 0.0833\n",
            "Epoch 241/300\n",
            "12/12 [==============================] - 0s 2ms/step - loss: 0.0898 - accuracy: 0.0833    \n",
            "Epoch 242/300\n",
            "12/12 [==============================] - 0s 2ms/step - loss: 0.0893 - accuracy: 0.0833\n",
            "Epoch 243/300\n",
            "12/12 [==============================] - 0s 2ms/step - loss: 0.0671 - accuracy: 0.0833\n",
            "Epoch 244/300\n",
            "12/12 [==============================] - 0s 2ms/step - loss: 0.0951 - accuracy: 0.0833\n",
            "Epoch 245/300\n",
            "12/12 [==============================] - 0s 2ms/step - loss: 0.0955 - accuracy: 0.0833\n",
            "Epoch 246/300\n",
            "12/12 [==============================] - 0s 2ms/step - loss: 0.0732 - accuracy: 0.0833\n",
            "Epoch 247/300\n",
            "12/12 [==============================] - 0s 2ms/step - loss: 0.1073 - accuracy: 0.0833\n",
            "Epoch 248/300\n",
            "12/12 [==============================] - 0s 2ms/step - loss: 0.0810 - accuracy: 0.0833\n",
            "Epoch 249/300\n",
            "12/12 [==============================] - 0s 2ms/step - loss: 0.1046 - accuracy: 0.0833\n",
            "Epoch 250/300\n",
            "12/12 [==============================] - 0s 2ms/step - loss: 0.1154 - accuracy: 0.0833\n",
            "Epoch 251/300\n",
            "12/12 [==============================] - 0s 2ms/step - loss: 0.0794 - accuracy: 0.0833\n",
            "Epoch 252/300\n",
            "12/12 [==============================] - 0s 3ms/step - loss: 0.0797 - accuracy: 0.0833\n",
            "Epoch 253/300\n",
            "12/12 [==============================] - 0s 2ms/step - loss: 0.1440 - accuracy: 0.0833\n",
            "Epoch 254/300\n",
            "12/12 [==============================] - 0s 2ms/step - loss: 0.0622 - accuracy: 0.0833\n",
            "Epoch 255/300\n",
            "12/12 [==============================] - 0s 2ms/step - loss: 0.0895 - accuracy: 0.0833\n",
            "Epoch 256/300\n",
            "12/12 [==============================] - 0s 2ms/step - loss: 0.0848 - accuracy: 0.0833\n",
            "Epoch 257/300\n",
            "12/12 [==============================] - 0s 2ms/step - loss: 0.1134 - accuracy: 0.0833\n",
            "Epoch 258/300\n",
            "12/12 [==============================] - 0s 2ms/step - loss: 0.1351 - accuracy: 0.0833    \n",
            "Epoch 259/300\n",
            "12/12 [==============================] - 0s 2ms/step - loss: 0.2325 - accuracy: 0.0833\n",
            "Epoch 260/300\n",
            "12/12 [==============================] - 0s 2ms/step - loss: 0.1562 - accuracy: 0.0833\n",
            "Epoch 261/300\n",
            "12/12 [==============================] - 0s 2ms/step - loss: 0.0883 - accuracy: 0.0833\n",
            "Epoch 262/300\n",
            "12/12 [==============================] - 0s 2ms/step - loss: 0.0828 - accuracy: 0.0833\n",
            "Epoch 263/300\n",
            "12/12 [==============================] - 0s 2ms/step - loss: 0.1224 - accuracy: 0.0833\n",
            "Epoch 264/300\n",
            "12/12 [==============================] - 0s 2ms/step - loss: 0.0756 - accuracy: 0.0833\n",
            "Epoch 265/300\n",
            "12/12 [==============================] - 0s 2ms/step - loss: 0.0942 - accuracy: 0.0833    \n",
            "Epoch 266/300\n",
            "12/12 [==============================] - 0s 2ms/step - loss: 0.1024 - accuracy: 0.0833    \n",
            "Epoch 267/300\n",
            "12/12 [==============================] - 0s 2ms/step - loss: 0.1230 - accuracy: 0.0833\n",
            "Epoch 268/300\n",
            "12/12 [==============================] - 0s 2ms/step - loss: 0.0825 - accuracy: 0.0833\n",
            "Epoch 269/300\n",
            "12/12 [==============================] - 0s 2ms/step - loss: 0.2009 - accuracy: 0.0833\n",
            "Epoch 270/300\n",
            "12/12 [==============================] - 0s 2ms/step - loss: 0.1603 - accuracy: 0.0833\n",
            "Epoch 271/300\n",
            "12/12 [==============================] - 0s 2ms/step - loss: 0.0669 - accuracy: 0.0833    \n",
            "Epoch 272/300\n",
            "12/12 [==============================] - 0s 2ms/step - loss: 0.0802 - accuracy: 0.0833\n",
            "Epoch 273/300\n",
            "12/12 [==============================] - 0s 2ms/step - loss: 0.0986 - accuracy: 0.0833\n",
            "Epoch 274/300\n",
            "12/12 [==============================] - 0s 3ms/step - loss: 0.0816 - accuracy: 0.0833\n",
            "Epoch 275/300\n",
            "12/12 [==============================] - 0s 2ms/step - loss: 0.0725 - accuracy: 0.0833\n",
            "Epoch 276/300\n",
            "12/12 [==============================] - 0s 2ms/step - loss: 0.0988 - accuracy: 0.0833\n",
            "Epoch 277/300\n",
            "12/12 [==============================] - 0s 2ms/step - loss: 0.0796 - accuracy: 0.0833    \n",
            "Epoch 278/300\n",
            "12/12 [==============================] - 0s 2ms/step - loss: 0.0746 - accuracy: 0.0833\n",
            "Epoch 279/300\n",
            "12/12 [==============================] - 0s 2ms/step - loss: 0.1306 - accuracy: 0.0833\n",
            "Epoch 280/300\n",
            "12/12 [==============================] - 0s 2ms/step - loss: 0.1016 - accuracy: 0.0833\n",
            "Epoch 281/300\n",
            "12/12 [==============================] - 0s 2ms/step - loss: 0.0798 - accuracy: 0.0833\n",
            "Epoch 282/300\n",
            "12/12 [==============================] - 0s 2ms/step - loss: 0.0782 - accuracy: 0.0833\n",
            "Epoch 283/300\n",
            "12/12 [==============================] - 0s 2ms/step - loss: 0.0804 - accuracy: 0.0833\n",
            "Epoch 284/300\n",
            "12/12 [==============================] - 0s 2ms/step - loss: 0.0778 - accuracy: 0.0833\n",
            "Epoch 285/300\n",
            "12/12 [==============================] - 0s 2ms/step - loss: 0.0609 - accuracy: 0.0833\n",
            "Epoch 286/300\n",
            "12/12 [==============================] - 0s 2ms/step - loss: 0.0819 - accuracy: 0.0833\n",
            "Epoch 287/300\n",
            "12/12 [==============================] - 0s 2ms/step - loss: 0.2212 - accuracy: 0.0833\n",
            "Epoch 288/300\n",
            "12/12 [==============================] - 0s 2ms/step - loss: 0.1138 - accuracy: 0.0833    \n",
            "Epoch 289/300\n",
            "12/12 [==============================] - 0s 3ms/step - loss: 0.0972 - accuracy: 0.0833    \n",
            "Epoch 290/300\n",
            "12/12 [==============================] - 0s 2ms/step - loss: 0.0951 - accuracy: 0.0833\n",
            "Epoch 291/300\n",
            "12/12 [==============================] - 0s 2ms/step - loss: 0.0825 - accuracy: 0.0833\n",
            "Epoch 292/300\n",
            "12/12 [==============================] - 0s 2ms/step - loss: 0.1169 - accuracy: 0.0833    \n",
            "Epoch 293/300\n",
            "12/12 [==============================] - 0s 2ms/step - loss: 0.0863 - accuracy: 0.0833\n",
            "Epoch 294/300\n",
            "12/12 [==============================] - 0s 2ms/step - loss: 0.0740 - accuracy: 0.0833\n",
            "Epoch 295/300\n",
            "12/12 [==============================] - 0s 2ms/step - loss: 0.1289 - accuracy: 0.0833\n",
            "Epoch 296/300\n",
            "12/12 [==============================] - 0s 2ms/step - loss: 0.0680 - accuracy: 0.0833\n",
            "Epoch 297/300\n",
            "12/12 [==============================] - 0s 2ms/step - loss: 0.0697 - accuracy: 0.0833\n",
            "Epoch 298/300\n",
            "12/12 [==============================] - 0s 2ms/step - loss: 0.0614 - accuracy: 0.0833\n",
            "Epoch 299/300\n",
            "12/12 [==============================] - 0s 2ms/step - loss: 0.0944 - accuracy: 0.0833\n",
            "Epoch 300/300\n",
            "12/12 [==============================] - 0s 2ms/step - loss: 0.0689 - accuracy: 0.0833\n",
            "(1, 1)\n",
            "[[81.438965]]\n"
          ]
        }
      ]
    },
    {
      "cell_type": "code",
      "source": [
        "x1=np.array([40])\n",
        "print(modelexp.predict(x1))"
      ],
      "metadata": {
        "id": "e1dvamf234hq",
        "outputId": "98212913-ee29-4c7d-e944-332d6019a8a2",
        "colab": {
          "base_uri": "https://localhost:8080/"
        }
      },
      "execution_count": 48,
      "outputs": [
        {
          "output_type": "stream",
          "name": "stdout",
          "text": [
            "[[81.438965]]\n"
          ]
        }
      ]
    },
    {
      "cell_type": "code",
      "source": [
        "import tensorflow as tf\n",
        "import keras as keras\n",
        "modelexp = Sequential()\n",
        "# modelexp.add(Input(shape=(1,)))\n",
        "modelexp.add(Dense(1,input_dim=1))\n",
        "\n",
        "modelexp.compile(optimizer='sgd', loss=tf.keras.losses.MeanSquaredError( name=\"mean_squared_error\"),metrics=['accuracy'])\n",
        "xs = np.array([1, 2, 3, 4, 5, 6, 7, 8, 9, 10, 11, 12]);\n",
        "xs=np.reshape(xs,(12,1))\n",
        "ys = np.array([1, 4, 6, 8, 10, 12, 14, 16, 18, 20, 22, 24]);\n",
        "ys=np.reshape(ys,(12,1))\n",
        "modelexp.fit(xs, ys,epochs=300, batch_size=1 )\n",
        "x1=np.array([40])\n",
        "x1=np.reshape(x1,(1,1))\n",
        "print(x1.shape);\n",
        "print(modelexp.predict(x1))"
      ],
      "metadata": {
        "id": "O2WJ2oxJ4fpw"
      },
      "execution_count": null,
      "outputs": []
    }
  ],
  "metadata": {
    "colab": {
      "collapsed_sections": [],
      "name": "Welcome To Colaboratory",
      "provenance": [],
      "include_colab_link": true
    },
    "kernelspec": {
      "display_name": "Python 3",
      "name": "python3"
    }
  },
  "nbformat": 4,
  "nbformat_minor": 0
}