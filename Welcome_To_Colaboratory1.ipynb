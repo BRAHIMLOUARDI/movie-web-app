{
  "cells": [
    {
      "cell_type": "markdown",
      "metadata": {
        "id": "view-in-github",
        "colab_type": "text"
      },
      "source": [
        "<a href=\"https://colab.research.google.com/github/BRAHIMLOUARDI/movie-web-app/blob/main/Welcome_To_Colaboratory1.ipynb\" target=\"_parent\"><img src=\"https://colab.research.google.com/assets/colab-badge.svg\" alt=\"Open In Colab\"/></a>"
      ]
    },
    {
      "cell_type": "code",
      "source": [
        "!pip install -q keras"
      ],
      "metadata": {
        "id": "M5itfG-q7XAe"
      },
      "execution_count": 1,
      "outputs": []
    },
    {
      "cell_type": "code",
      "source": [
        "import string\n",
        "import numpy as np\n",
        "\n",
        "from keras.preprocessing.text import Tokenizer\n",
        "from keras.preprocessing.sequence import pad_sequences\n",
        "from keras.models import Model,Sequential\n",
        "from keras.layers import LSTM, Input, TimeDistributed, Dense, Activation, RepeatVector, Embedding\n",
        "from tensorflow.keras.optimizers import Adam\n",
        "from keras.losses import sparse_categorical_crossentropy\n",
        "\n",
        "# Path to translation filekk\n",
        "path_to_data = 'fra.txt'\n",
        "\n",
        "# Read file\n",
        "translation_file = open(path_to_data,\"r\", encoding='utf-8') \n",
        "raw_data = translation_file.read()\n",
        "translation_file.close()\n",
        "\n",
        "# Parse data\n",
        "raw_data = raw_data.split('\\n')\n",
        "pairs = [sentence.split('\\t') for sentence in  raw_data]\n",
        "pairs=pairs[0:192000]\n",
        "\n"
      ],
      "metadata": {
        "id": "dl2gDN6AeCsh"
      },
      "execution_count": 10,
      "outputs": []
    },
    {
      "cell_type": "code",
      "source": [
        "x=0\n",
        "for index,pair in enumerate(pairs):\n",
        "  print(pair[1])\n",
        "  x=index\n",
        "  print(x)\n",
        "\n",
        "print(pairs[58270])\n"
      ],
      "metadata": {
        "id": "XZFwdFT427Z7"
      },
      "execution_count": null,
      "outputs": []
    },
    {
      "cell_type": "code",
      "source": [
        "!unzip  fra-eng.zip"
      ],
      "metadata": {
        "colab": {
          "base_uri": "https://localhost:8080/"
        },
        "id": "lotUyi_pb7cb",
        "outputId": "aebbffca-3315-4395-ab53-372fc284eb76"
      },
      "execution_count": null,
      "outputs": [
        {
          "output_type": "stream",
          "name": "stdout",
          "text": [
            "Archive:  fra-eng.zip\n",
            "  inflating: _about.txt              \n",
            "  inflating: fra.txt                 \n"
          ]
        }
      ]
    },
    {
      "cell_type": "code",
      "source": [
        "def smart_find(haystack, needle):\n",
        "    if haystack.startswith(needle+\" \"):\n",
        "        return True\n",
        "    if haystack.endswith(\" \"+needle):\n",
        "        return True\n",
        "    if haystack.find(\" \"+needle+\" \") != -1:\n",
        "        return True\n",
        "    return False"
      ],
      "metadata": {
        "id": "cUqrjg0YWKOJ"
      },
      "execution_count": null,
      "outputs": []
    },
    {
      "cell_type": "code",
      "source": [
        "def clean_sentence(sentence):\n",
        "    # Lower case the sentence\n",
        "    lower_case_sent = sentence.lower()\n",
        "    # Strip punctuation\n",
        "    string_punctuation = \"?\" + \"¡\" + '¿'+\".\"+\"!\" ;\n",
        "    clean_sentence = lower_case_sent.translate(str.maketrans('', '', string_punctuation))\n",
        "   \n",
        "    return clean_sentence"
      ],
      "metadata": {
        "id": "kppzLb79oYWj"
      },
      "execution_count": 6,
      "outputs": []
    },
    {
      "cell_type": "code",
      "source": [
        "from Book1 import words \n",
        "raw_data1=raw_data[0:60000]\n",
        "raw_data2=[]\n",
        "cout=0\n",
        "for index,raw in enumerate(raw_data1):\n",
        "  word_in_raw=False\n",
        "  for word in words:\n",
        "    clean_raw=clean_sentence(raw)\n",
        "    if smart_find(clean_raw,word['English']) and not smart_find(clean_raw,word['French']):\n",
        "      print(index)\n",
        "      print('\\n')\n",
        "      print(word)\n",
        "      print('\\n')\n",
        "      print(clean_raw)\n",
        "      print('\\n')\n",
        "      print('---------')\n",
        "      \n",
        "      word_in_raw=True\n",
        "  if not word_in_raw :\n",
        "    cout=cout+1\n",
        "    raw_data2.append(raw)\n",
        "\n",
        "\n"
      ],
      "metadata": {
        "id": "oPXP-IDWQlTU"
      },
      "execution_count": null,
      "outputs": []
    },
    {
      "cell_type": "code",
      "source": [
        "raw_data3=raw_data[0:len(raw_data)]\n",
        "\n",
        "# for word in words:\n",
        "#   z=word['English']+'\\t'+word['French']\n",
        "#   raw_data3.append(z)\n",
        "\n",
        "\n",
        "\n"
      ],
      "metadata": {
        "id": "RnJFYkARoymQ"
      },
      "execution_count": null,
      "outputs": []
    },
    {
      "cell_type": "code",
      "source": [
        "for word in words:\n",
        "  z=word['English']+'\\t'+word['French']\n",
        "  raw_data3.append(z)"
      ],
      "metadata": {
        "id": "ZM0bCyC90j7-"
      },
      "execution_count": null,
      "outputs": []
    },
    {
      "cell_type": "code",
      "source": [
        "# from Book1 import words \n",
        "# words2=words\n",
        "# x=words1[1]['English']\n",
        "# print(x.split('\\/'))\n",
        "for word in words1:\n",
        "  word['English']=word['English'][0]\n",
        "  word['French']=word['French'][0]\n",
        "  word['Arabic']=word['Arabic'][0]\n"
      ],
      "metadata": {
        "id": "_oADz2m2vw4J"
      },
      "execution_count": null,
      "outputs": []
    },
    {
      "cell_type": "code",
      "source": [
        "for index, word in enumerate(words1):\n",
        "   if 'Hardy-Weinberg principle'==word['English']:\n",
        "       print(index)\n",
        "       print(word)"
      ],
      "metadata": {
        "id": "i-ruVr6dxGhO"
      },
      "execution_count": null,
      "outputs": []
    },
    {
      "cell_type": "code",
      "source": [
        ""
      ],
      "metadata": {
        "id": "nRPTTGSTzn-1"
      },
      "execution_count": null,
      "outputs": []
    },
    {
      "cell_type": "code",
      "source": [
        "with open('fra_eng_sc.txt', 'w') as f:\n",
        "    for raw in raw_data3:\n",
        "        f.write(\"%s\\n\" % raw)"
      ],
      "metadata": {
        "id": "QjJFSpsKnDCb"
      },
      "execution_count": null,
      "outputs": []
    },
    {
      "cell_type": "markdown",
      "source": [
        ""
      ],
      "metadata": {
        "id": "0RzVbQFovath"
      }
    },
    {
      "cell_type": "code",
      "source": [
        "print(len(words))"
      ],
      "metadata": {
        "colab": {
          "base_uri": "https://localhost:8080/"
        },
        "id": "uPIP_qY8new5",
        "outputId": "0ea13473-498f-47a8-d63e-fb7330784ea5"
      },
      "execution_count": null,
      "outputs": [
        {
          "output_type": "stream",
          "name": "stdout",
          "text": [
            "1445\n"
          ]
        }
      ]
    },
    {
      "cell_type": "code",
      "source": [
        "def tokenize(sentences):\n",
        "    # Create tokenizer\n",
        "    text_tokenizer = Tokenizer()\n",
        "    # Fit texts\n",
        "    text_tokenizer.fit_on_texts(sentences)\n",
        "    return text_tokenizer.texts_to_sequences(sentences), text_tokenizer"
      ],
      "metadata": {
        "id": "FlMW2oEBpK1-"
      },
      "execution_count": 11,
      "outputs": []
    },
    {
      "cell_type": "code",
      "source": [
        "\n",
        "english_sentences = [clean_sentence(pair[0]).replace(\"\\u202f\",\" \").replace(\"\\xa0\",\" \").replace(\"\\u200b\",\" \").rstrip().lstrip() for pair in pairs]\n",
        "french_sentences = [clean_sentence(pair[1]).replace(\"\\u202f\",\" \").replace(\"\\xa0\",\" \").replace(\"\\u200b\",\" \").rstrip().lstrip() for pair in pairs]\n",
        "\n",
        "# Tokenize words\n",
        "fra_text_tokenized, fra_text_tokenizer = tokenize(french_sentences)\n",
        "eng_text_tokenized, eng_text_tokenizer = tokenize(english_sentences)\n",
        "\n",
        "print('Maximum length french sentence: {}'.format(len(max(fra_text_tokenized,key=len))))\n",
        "print('Maximum length english sentence: {}'.format(len(max(eng_text_tokenized,key=len))))\n",
        "\n",
        "\n",
        "# Check language length\n",
        "french_vocab = len(fra_text_tokenizer.word_index) + 1\n",
        "english_vocab = len(eng_text_tokenizer.word_index) + 1\n",
        "print(\"french vocabulary is of {} unique words\".format(french_vocab))\n",
        "print(\"English vocabulary is of {} unique words\".format(english_vocab))"
      ],
      "metadata": {
        "id": "FJd49T6VpQtn",
        "outputId": "f80d5e1d-993b-47ad-f22a-495c52b1c72b",
        "colab": {
          "base_uri": "https://localhost:8080/"
        }
      },
      "execution_count": 25,
      "outputs": [
        {
          "output_type": "stream",
          "name": "stdout",
          "text": [
            "Maximum length french sentence: 23\n",
            "Maximum length english sentence: 17\n",
            "french vocabulary is of 28264 unique words\n",
            "English vocabulary is of 15182 unique words\n"
          ]
        }
      ]
    },
    {
      "cell_type": "code",
      "source": [
        "print(french_sentences[50000])"
      ],
      "metadata": {
        "id": "8uoEeXxoQ5BU",
        "outputId": "5ccd4871-447f-44b0-dc8a-85f4fdc73422",
        "colab": {
          "base_uri": "https://localhost:8080/"
        }
      },
      "execution_count": null,
      "outputs": [
        {
          "output_type": "stream",
          "name": "stdout",
          "text": [
            "n'est-ce pas agaçant\n"
          ]
        }
      ]
    },
    {
      "cell_type": "code",
      "source": [
        "max_french_len = int(len(max(fra_text_tokenized,key=len)))\n",
        "max_english_len = int(len(max(eng_text_tokenized,key=len)))\n",
        "\n",
        "fra_pad_sentence = pad_sequences(fra_text_tokenized,max_french_len, padding = \"post\")\n",
        "eng_pad_sentence = pad_sequences(eng_text_tokenized,max_english_len, padding = \"post\")\n",
        "\n",
        "\n",
        "\n",
        "\n",
        "fra_pad_sentence = fra_pad_sentence.reshape(*fra_pad_sentence.shape, 1)\n",
        "eng_pad_sentence = eng_pad_sentence.reshape(*eng_pad_sentence.shape, 1)"
      ],
      "metadata": {
        "id": "g6LIc2DpqRUl"
      },
      "execution_count": 26,
      "outputs": []
    },
    {
      "cell_type": "code",
      "source": [
        "input_sequence = Input(shape=(max_french_len,))\n",
        "embedding = Embedding(input_dim=french_vocab, output_dim=256,)(input_sequence)"
      ],
      "metadata": {
        "id": "mWBT4WhOutoR"
      },
      "execution_count": 27,
      "outputs": []
    },
    {
      "cell_type": "code",
      "source": [
        "encoder = LSTM(128, return_sequences=False)(embedding)\n",
        "r_vec = RepeatVector(max_english_len)(encoder)\n",
        "decoder = LSTM(128, return_sequences=True, dropout=0.2)(r_vec)\n",
        "logits = TimeDistributed(Dense(english_vocab))(decoder)\n"
      ],
      "metadata": {
        "id": "YFefu6Nf4hDa"
      },
      "execution_count": 28,
      "outputs": []
    },
    {
      "cell_type": "code",
      "source": [
        "enc_dec_model = Model(input_sequence, Activation('softmax')(logits))\n",
        "enc_dec_model.compile(loss=sparse_categorical_crossentropy,\n",
        "              optimizer=Adam(1e-3),\n",
        "              metrics=['accuracy'])\n",
        "enc_dec_model.summary()"
      ],
      "metadata": {
        "id": "EdayUG1V4kUn",
        "colab": {
          "base_uri": "https://localhost:8080/"
        },
        "outputId": "1775d699-aefd-4ecf-f1f0-e57939401214"
      },
      "execution_count": 29,
      "outputs": [
        {
          "output_type": "stream",
          "name": "stdout",
          "text": [
            "Model: \"model_3\"\n",
            "_________________________________________________________________\n",
            " Layer (type)                Output Shape              Param #   \n",
            "=================================================================\n",
            " input_3 (InputLayer)        [(None, 23)]              0         \n",
            "                                                                 \n",
            " embedding_2 (Embedding)     (None, 23, 256)           7235584   \n",
            "                                                                 \n",
            " lstm_4 (LSTM)               (None, 128)               197120    \n",
            "                                                                 \n",
            " repeat_vector_2 (RepeatVect  (None, 17, 128)          0         \n",
            " or)                                                             \n",
            "                                                                 \n",
            " lstm_5 (LSTM)               (None, 17, 128)           131584    \n",
            "                                                                 \n",
            " time_distributed_2 (TimeDis  (None, 17, 15182)        1958478   \n",
            " tributed)                                                       \n",
            "                                                                 \n",
            " activation_3 (Activation)   (None, 17, 15182)         0         \n",
            "                                                                 \n",
            "=================================================================\n",
            "Total params: 9,522,766\n",
            "Trainable params: 9,522,766\n",
            "Non-trainable params: 0\n",
            "_________________________________________________________________\n"
          ]
        }
      ]
    },
    {
      "cell_type": "code",
      "source": [
        "BATCH_SIZE = 32\n",
        "STEPS_PER_EPOCH = len(fra_pad_sentence) / BATCH_SIZE\n",
        "SAVE_PERIOD = 10\n",
        "\n",
        "\n",
        "from keras.callbacks import ModelCheckpoint\n",
        "checkpoint = ModelCheckpoint(\"model/weights1.{epoch:02d}.hdf5\", monitor='loss', verbose=1,\n",
        "    save_best_only=True, mode='auto', save_freq=int(SAVE_PERIOD * STEPS_PER_EPOCH))"
      ],
      "metadata": {
        "id": "wwSe7dqOgZfC"
      },
      "execution_count": null,
      "outputs": []
    },
    {
      "cell_type": "code",
      "source": [
        "print(int(SAVE_PERIOD * STEPS_PER_EPOCH))"
      ],
      "metadata": {
        "id": "XOQs3jVWVCcM",
        "outputId": "69d3a65f-4284-43e3-82d2-440ccc10bed7",
        "colab": {
          "base_uri": "https://localhost:8080/"
        }
      },
      "execution_count": null,
      "outputs": [
        {
          "output_type": "stream",
          "name": "stdout",
          "text": [
            "20000\n"
          ]
        }
      ]
    },
    {
      "cell_type": "code",
      "source": [
        "model_results = enc_dec_model.fit(fra_pad_sentence, eng_pad_sentence, batch_size=88, epochs=10)\n"
      ],
      "metadata": {
        "id": "-n0L3m3h4rAn",
        "colab": {
          "base_uri": "https://localhost:8080/"
        },
        "outputId": "4806de97-4339-4ec1-decc-568dd3e40964"
      },
      "execution_count": 30,
      "outputs": [
        {
          "output_type": "stream",
          "name": "stdout",
          "text": [
            "Epoch 1/10\n",
            "2182/2182 [==============================] - 123s 55ms/step - loss: 2.4593 - accuracy: 0.6635\n",
            "Epoch 2/10\n",
            "2182/2182 [==============================] - 118s 54ms/step - loss: 2.3185 - accuracy: 0.6665\n",
            "Epoch 3/10\n",
            "2182/2182 [==============================] - 117s 54ms/step - loss: 2.3106 - accuracy: 0.6665\n",
            "Epoch 4/10\n",
            "2182/2182 [==============================] - 117s 54ms/step - loss: 2.3095 - accuracy: 0.6669\n",
            "Epoch 5/10\n",
            "2182/2182 [==============================] - 117s 54ms/step - loss: 2.1140 - accuracy: 0.6772\n",
            "Epoch 6/10\n",
            "2182/2182 [==============================] - 118s 54ms/step - loss: 1.9028 - accuracy: 0.6966\n",
            "Epoch 7/10\n",
            "2182/2182 [==============================] - 117s 53ms/step - loss: 1.6633 - accuracy: 0.7237\n",
            "Epoch 8/10\n",
            "2182/2182 [==============================] - 116s 53ms/step - loss: 1.4923 - accuracy: 0.7424\n",
            "Epoch 9/10\n",
            "2182/2182 [==============================] - 118s 54ms/step - loss: 1.3529 - accuracy: 0.7563\n",
            "Epoch 10/10\n",
            "2182/2182 [==============================] - 117s 54ms/step - loss: 1.2397 - accuracy: 0.7669\n"
          ]
        }
      ]
    },
    {
      "cell_type": "code",
      "source": [
        "enc_dec_model.save('my_model_wholefile_exp.h5')\n",
        "\n",
        "\n",
        "\n",
        "# from google.colab import files\n",
        "# files.download('my_model_wholefile_exp.h5')"
      ],
      "metadata": {
        "id": "oXIV3Yne_LRk"
      },
      "execution_count": 31,
      "outputs": []
    },
    {
      "cell_type": "code",
      "source": [
        "import keras as keras\n",
        "model = keras.models.load_model('my_model_wholefile_exp.h5')\n",
        " # get weights\n",
        "modelWeights = model.get_weights()\n",
        " # get optimizer state as it was on last epoch\n",
        "modelOptimizer = model.optimizer\n",
        "\n",
        " # ============ Compile Model ============\n",
        " # redefine architecture (newModel=models.Sequential(), etc.)\n",
        "newModel=enc_dec_model = Model(input_sequence, Activation('softmax')(logits))\n",
        "\n",
        " # compile\n",
        "newModel.compile(optimizer=modelOptimizer,\n",
        "                  loss=sparse_categorical_crossentropy,\n",
        "                  metrics=['accuracy'])\n",
        " # set trained weights\n",
        "newModel.set_weights(modelWeights)\n",
        "\n",
        " # ============ Resume Training ============\n",
        "model_results1 = model.fit(fra_pad_sentence, eng_pad_sentence, batch_size=88, epochs=10)"
      ],
      "metadata": {
        "id": "ef1_7v5jTie8",
        "outputId": "89ae9f18-858c-48b4-cd2a-20e2a47f2a87",
        "colab": {
          "base_uri": "https://localhost:8080/"
        }
      },
      "execution_count": null,
      "outputs": [
        {
          "output_type": "stream",
          "name": "stdout",
          "text": [
            "Epoch 1/10\n",
            " 323/2182 [===>..........................] - ETA: 1:41 - loss: 1.1571 - accuracy: 0.7751"
          ]
        }
      ]
    },
    {
      "cell_type": "code",
      "source": [
        "# import tensorflow as tf\n",
        "# new_enc_dec_model = tf.keras.models.load_model('my_model.h5')\n",
        "\n"
      ],
      "metadata": {
        "id": "gyK75ot6DBSO"
      },
      "execution_count": null,
      "outputs": []
    },
    {
      "cell_type": "code",
      "source": [
        "x=[\"je suis malade\"]\n",
        "y=fra_text_tokenizer.texts_to_sequences(x)\n",
        "z=pad_sequences(y, max_french_len, padding = \"post\")\n",
        "\n",
        "# print(y)\n",
        "z=np.reshape(z,(1,15,1))\n",
        "\n",
        "def logits_to_sentence(logits, tokenizer):\n",
        "\n",
        "    index_to_words = {idx: word for word, idx in tokenizer.word_index.items()}\n",
        "    index_to_words[0] = '' \n",
        "\n",
        "    return ' '.join([index_to_words[prediction] for prediction in np.argmax(logits, 1)])\n",
        "\n",
        "index = 8000\n",
        "# print(\"The english sentence is: {}\".format(english_sentences[index]))\n",
        "print(\"The french sentence is: {}\".format(x[0]))\n",
        "print('The predicted sentence is :')\n",
        "print(logits_to_sentence(enc_dec_model.predict(z)[0], eng_text_tokenizer))\n"
      ],
      "metadata": {
        "id": "0BnIzzcgBQp9",
        "colab": {
          "base_uri": "https://localhost:8080/"
        },
        "outputId": "8886a80b-0769-4aa7-d660-01dcaf003b12"
      },
      "execution_count": null,
      "outputs": [
        {
          "output_type": "stream",
          "name": "stdout",
          "text": [
            "The french sentence is: taux d'avancement final d'une réaction chimique\n",
            "The predicted sentence is :\n",
            "rate final progress of reaction reaction         \n"
          ]
        }
      ]
    },
    {
      "cell_type": "code",
      "source": [
        " # Lower case the sentence\n",
        "lower_case_sent = \"N'est-ce pas agaçan¡t!.\".lower()\n",
        "print(lower_case_sent)\n",
        "# Strip punctuation\n",
        "string_punctuation = \"?\" + \"¡\" + '¿'+\".\"+\"!\" ;\n",
        "print(string_punctuation)\n",
        "\n",
        "clean_sentence = lower_case_sent.translate(str.maketrans('', '', string_punctuation))\n",
        "print(clean_sentence)\n",
        "print(string.punctuation)"
      ],
      "metadata": {
        "id": "Dm2sdUPqNKn5",
        "outputId": "fce65579-c1a9-4ead-833d-4b4065dff0ca",
        "colab": {
          "base_uri": "https://localhost:8080/"
        }
      },
      "execution_count": null,
      "outputs": [
        {
          "output_type": "stream",
          "name": "stdout",
          "text": [
            "n'est-ce pas agaçan¡t!.\n",
            "?¡¿.!\n",
            "n'est-ce pas agaçant\n",
            "!\"#$%&'()*+,-./:;<=>?@[\\]^_`{|}~\n"
          ]
        }
      ]
    },
    {
      "cell_type": "markdown",
      "source": [
        "exp"
      ],
      "metadata": {
        "id": "FhU3HTDwE84a"
      }
    },
    {
      "cell_type": "code",
      "source": [
        "#exp\n",
        "\n",
        "input_sequence1 = Input(shape=(12,))\n",
        "embedding1 = Embedding(input_dim=7188, output_dim=128,)(input_sequence1)\n",
        "\n",
        "model1 = Model(inputs=input_sequence1 , outputs=embedding1, name=\"mnist_model\")\n",
        "model1.compile('rmsprop', 'mse')\n",
        "\n",
        "\n",
        "input_data = np.array([[1,2,4,5,18,0,0,0,4,10,12,13]])\n",
        "\n",
        "output_array = model1.predict(input_data)\n",
        "print(output_array[0][0])\n"
      ],
      "metadata": {
        "id": "gG7fqULtFbYh"
      },
      "execution_count": null,
      "outputs": []
    },
    {
      "cell_type": "code",
      "source": [
        "# for layer in model1.layers: print(layer.get_config(), layer.get_weights())\n",
        "#print(model1.layers[1].get_weights()[0].shape)"
      ],
      "metadata": {
        "id": "7ORwFcrrMpGC",
        "outputId": "053316d8-ff23-4644-99f0-a4272301fc0b",
        "colab": {
          "base_uri": "https://localhost:8080/"
        }
      },
      "execution_count": null,
      "outputs": [
        {
          "output_type": "stream",
          "name": "stdout",
          "text": [
            "(7188, 128)\n"
          ]
        }
      ]
    },
    {
      "cell_type": "code",
      "source": [
        "#exp\n",
        "lstm = LSTM(64, return_sequences=False)(embedding1)\n",
        "\n",
        "lstmrepeatvector = RepeatVector(6)(lstm)\n",
        "lstmdecoder = LSTM(64, return_sequences=True, dropout=0.2)(lstmrepeatvector)\n",
        "lstmlogits = TimeDistributed(Dense(3733))(lstmdecoder)\n",
        "modellstm = Model(inputs=input_sequence1 , outputs=lstmlogits, name=\"mnist_model\")"
      ],
      "metadata": {
        "id": "9QNmJKs9OCzK"
      },
      "execution_count": null,
      "outputs": []
    },
    {
      "cell_type": "code",
      "source": [
        "#exp\n",
        "modellstm.compile('rmsprop', 'mse')\n"
      ],
      "metadata": {
        "id": "rCPcJ5O3Oxak"
      },
      "execution_count": null,
      "outputs": []
    },
    {
      "cell_type": "code",
      "source": [
        "modellstm.save('my_model_v21.h5')\n",
        "!pip install tensorflowjs\n",
        "import tensorflowjs as tfjs\n",
        "tfjs.converters.save_keras_model(modellstm, 'model')\n",
        "!zip -r model.zip model"
      ],
      "metadata": {
        "id": "d93Ch6DEqvIh"
      },
      "execution_count": null,
      "outputs": []
    },
    {
      "cell_type": "code",
      "source": [
        "#EXP\n",
        "output_array = modellstm.predict(input_data)\n",
        "reshape_out=np.reshape(output_array[0][0],(3733,-1))\n",
        "print(reshape_out.shape)\n"
      ],
      "metadata": {
        "id": "D8j0gze5PCVv",
        "outputId": "88d57099-80f2-4978-e552-f21199dd89b4",
        "colab": {
          "base_uri": "https://localhost:8080/"
        }
      },
      "execution_count": null,
      "outputs": [
        {
          "output_type": "stream",
          "name": "stdout",
          "text": [
            "(3733, 1)\n"
          ]
        }
      ]
    },
    {
      "cell_type": "code",
      "source": [
        "# list_of_lists = [[1,2,3],[4,5,6],[7,8,9]]\n",
        "\n",
        "# import csv\n",
        "\n",
        "# with open(\"out.csv\", \"w\") as f:\n",
        "#     wr = csv.writer(f)\n",
        "   \n",
        "#     wr.writerows(exppairs)\n",
        "\n",
        "exppairs=pairs[0:10]\n",
        "file = open(\"sample.py\", \"w+\")\n",
        "\n",
        "# Saving the array in a text file\n",
        "for pair in exppairs :\n",
        "   file.write(str(pair))\n",
        "file.close()\n"
      ],
      "metadata": {
        "id": "FB4y8Vg9BsKW"
      },
      "execution_count": null,
      "outputs": []
    },
    {
      "cell_type": "code",
      "source": [
        "# modelexp = tf.sequential();\n",
        "# modelexp.add(tf.layers.dense({ units: 1, inputShape: [1] }));"
      ],
      "metadata": {
        "id": "b360uLwwsh9t"
      },
      "execution_count": null,
      "outputs": []
    },
    {
      "cell_type": "code",
      "source": [
        "import tensorflow as tf\n",
        "import keras as keras\n",
        "modelexp = Sequential()\n",
        "# modelexp.add(Input(shape=(1,)))\n",
        "modelexp.add(Dense(1,input_dim=1))\n",
        "\n",
        "modelexp.compile(optimizer='sgd', loss=tf.keras.losses.MeanSquaredError( name=\"mean_squared_error\"),metrics=['accuracy'])\n",
        "xs = np.array([1, 2, 3, 4, 5, 6, 7, 8, 9, 10, 11, 12]);\n",
        "xs=np.reshape(xs,(12,1))\n",
        "ys = np.array([1, 4, 6, 8, 10, 12, 14, 16, 18, 20, 22, 24]);\n",
        "ys=np.reshape(ys,(12,1))\n",
        "modelexp.fit(xs, ys,epochs=3000, batch_size=12 )\n",
        "x1=np.array([40])\n",
        "x1=np.reshape(x1,(1,1))\n",
        "print(x1.shape);\n",
        "print(modelexp.predict(x1))"
      ],
      "metadata": {
        "id": "1RmiBNgJtFjN"
      },
      "execution_count": null,
      "outputs": []
    },
    {
      "cell_type": "code",
      "source": [
        "modelexp.save('my_model_v21.h5')\n",
        "!pip install tensorflowjs\n",
        "import tensorflowjs as tfjs\n",
        "tfjs.converters.save_keras_model(modelexp, 'model1')\n",
        "!zip -r model.zip model"
      ],
      "metadata": {
        "id": "JlGRNR544pE8"
      },
      "execution_count": null,
      "outputs": []
    },
    {
      "cell_type": "code",
      "source": [
        "%tensorflow_version 2.x\n",
        "import tensorflow as tf\n",
        "device_name = tf.test.gpu_device_name()\n",
        "if device_name != '/device:GPU:0':\n",
        "  raise SystemError('GPU device not found')\n",
        "print('Found GPU at: {}'.format(device_name))"
      ],
      "metadata": {
        "id": "MzNQyr1r6HLA",
        "outputId": "45826c08-47bb-40c3-b8df-fcb07ceed59b",
        "colab": {
          "base_uri": "https://localhost:8080/"
        }
      },
      "execution_count": null,
      "outputs": [
        {
          "output_type": "stream",
          "name": "stdout",
          "text": [
            "Found GPU at: /device:GPU:0\n"
          ]
        }
      ]
    },
    {
      "cell_type": "code",
      "source": [
        "import tensorflow as tf\n",
        "import keras as keras\n",
        "modelexp = Sequential()\n",
        "# modelexp.add(Input(shape=(1,)))\n",
        "modelexp.add(Dense(1,input_dim=1))\n",
        "\n",
        "modelexp.compile(optimizer='sgd', loss=tf.keras.losses.MeanSquaredError( name=\"mean_squared_error\"),metrics=['accuracy'])\n",
        "xs = np.array([1, 2, 3, 4, 5, 6, 7, 8, 9, 10, 11, 12]);\n",
        "xs=np.reshape(xs,(12,1))\n",
        "ys = np.array([1, 4, 6, 8, 10, 12, 14, 16, 18, 20, 22, 24]);\n",
        "ys=np.reshape(ys,(12,1))\n",
        "modelexp.fit(xs, ys,epochs=300, batch_size=1 )\n",
        "x1=np.array([40])\n",
        "x1=np.reshape(x1,(1,1))\n",
        "print(x1.shape);\n",
        "print(modelexp.predict(x1))"
      ],
      "metadata": {
        "id": "1piD7e4r7cBr"
      },
      "execution_count": null,
      "outputs": []
    }
  ],
  "metadata": {
    "colab": {
      "collapsed_sections": [],
      "name": "Welcome To Colaboratory",
      "provenance": [],
      "include_colab_link": true
    },
    "kernelspec": {
      "display_name": "Python 3",
      "name": "python3"
    },
    "accelerator": "GPU"
  },
  "nbformat": 4,
  "nbformat_minor": 0
}