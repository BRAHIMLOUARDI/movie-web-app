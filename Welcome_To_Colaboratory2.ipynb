{
  "cells": [
    {
      "cell_type": "markdown",
      "metadata": {
        "id": "view-in-github",
        "colab_type": "text"
      },
      "source": [
        "<a href=\"https://colab.research.google.com/github/BRAHIMLOUARDI/movie-web-app/blob/main/Welcome_To_Colaboratory2.ipynb\" target=\"_parent\"><img src=\"https://colab.research.google.com/assets/colab-badge.svg\" alt=\"Open In Colab\"/></a>"
      ]
    },
    {
      "cell_type": "code",
      "source": [
        "import string\n",
        "import numpy as np\n",
        "\n",
        "from keras.preprocessing.text import Tokenizer\n",
        "from keras.preprocessing.sequence import pad_sequences\n",
        "from keras.models import Model\n",
        "from keras.layers import LSTM, Input, TimeDistributed, Dense, Activation, RepeatVector, Embedding\n",
        "from tensorflow.keras.optimizers import Adam\n",
        "from keras.losses import sparse_categorical_crossentropy\n",
        "\n",
        "# Path to translation file\n",
        "path_to_data = '/content/fra.txt'\n",
        "\n",
        "# Read file\n",
        "translation_file = open(path_to_data,\"r\", encoding='utf-8') \n",
        "raw_data = translation_file.read()\n",
        "translation_file.close()\n",
        "\n",
        "# Parse data\n",
        "raw_data = raw_data.split('\\n')\n",
        "pairs = [sentence.split('\\t') for sentence in  raw_data]\n",
        "pairs=pairs[0:60000]\n",
        "\n"
      ],
      "metadata": {
        "id": "dl2gDN6AeCsh"
      },
      "execution_count": 5,
      "outputs": []
    },
    {
      "cell_type": "code",
      "source": [
        ""
      ],
      "metadata": {
        "id": "oPXP-IDWQlTU"
      },
      "execution_count": null,
      "outputs": []
    },
    {
      "cell_type": "code",
      "source": [
        "def clean_sentence(sentence):\n",
        "    # Lower case the sentence\n",
        "    lower_case_sent = sentence.lower()\n",
        "    # Strip punctuation\n",
        "    string_punctuation = \"?\" + \"¡\" + '¿'+\".\"+\"!\" ;\n",
        "    clean_sentence = lower_case_sent.translate(str.maketrans('', '', string_punctuation))\n",
        "   \n",
        "    return clean_sentence"
      ],
      "metadata": {
        "id": "kppzLb79oYWj"
      },
      "execution_count": 2,
      "outputs": []
    },
    {
      "cell_type": "code",
      "source": [
        "def tokenize(sentences):\n",
        "    # Create tokenizer\n",
        "    text_tokenizer = Tokenizer()\n",
        "    # Fit texts\n",
        "    text_tokenizer.fit_on_texts(sentences)\n",
        "    return text_tokenizer.texts_to_sequences(sentences), text_tokenizer"
      ],
      "metadata": {
        "id": "FlMW2oEBpK1-"
      },
      "execution_count": 3,
      "outputs": []
    },
    {
      "cell_type": "code",
      "source": [
        "\n",
        "english_sentences = [clean_sentence(pair[0]) for pair in pairs]\n",
        "french_sentences = [clean_sentence(pair[1]) for pair in pairs]\n",
        "\n",
        "# Tokenize words\n",
        "fra_text_tokenized, fra_text_tokenizer = tokenize(french_sentences)\n",
        "eng_text_tokenized, eng_text_tokenizer = tokenize(english_sentences)\n",
        "\n",
        "print('Maximum length french sentence: {}'.format(len(max(fra_text_tokenized,key=len))))\n",
        "print('Maximum length english sentence: {}'.format(len(max(eng_text_tokenized,key=len))))\n",
        "\n",
        "\n",
        "# Check language length\n",
        "french_vocab = len(fra_text_tokenizer.word_index) + 1\n",
        "english_vocab = len(eng_text_tokenizer.word_index) + 1\n",
        "print(\"french vocabulary is of {} unique words\".format(french_vocab))\n",
        "print(\"English vocabulary is of {} unique words\".format(english_vocab))"
      ],
      "metadata": {
        "id": "FJd49T6VpQtn",
        "outputId": "cb9bbf58-0177-4243-f8ee-5e61ae5c7d70",
        "colab": {
          "base_uri": "https://localhost:8080/"
        }
      },
      "execution_count": 6,
      "outputs": [
        {
          "output_type": "stream",
          "name": "stdout",
          "text": [
            "Maximum length french sentence: 14\n",
            "Maximum length english sentence: 7\n",
            "french vocabulary is of 14559 unique words\n",
            "English vocabulary is of 6828 unique words\n"
          ]
        }
      ]
    },
    {
      "cell_type": "code",
      "source": [
        "max_french_len = int(len(max(fra_text_tokenized,key=len)))\n",
        "max_english_len = int(len(max(eng_text_tokenized,key=len)))\n",
        "\n",
        "fra_pad_sentence = pad_sequences(fra_text_tokenized,15, padding = \"post\")\n",
        "eng_pad_sentence = pad_sequences(eng_text_tokenized,15, padding = \"post\")\n",
        "\n",
        "\n",
        "\n",
        "\n",
        "fra_pad_sentence = fra_pad_sentence.reshape(*fra_pad_sentence.shape, 1)\n",
        "eng_pad_sentence = eng_pad_sentence.reshape(*eng_pad_sentence.shape, 1)"
      ],
      "metadata": {
        "id": "g6LIc2DpqRUl"
      },
      "execution_count": 7,
      "outputs": []
    },
    {
      "cell_type": "code",
      "source": [
        "input_sequence = Input(shape=(15,))\n",
        "embedding = Embedding(input_dim=french_vocab, output_dim=128,)(input_sequence)"
      ],
      "metadata": {
        "id": "mWBT4WhOutoR"
      },
      "execution_count": 8,
      "outputs": []
    },
    {
      "cell_type": "code",
      "source": [
        "encoder = LSTM(64, return_sequences=False)(embedding)\n",
        "r_vec = RepeatVector(15)(encoder)\n",
        "decoder = LSTM(64, return_sequences=True, dropout=0.2)(r_vec)\n",
        "logits = TimeDistributed(Dense(english_vocab))(decoder)\n"
      ],
      "metadata": {
        "id": "YFefu6Nf4hDa"
      },
      "execution_count": null,
      "outputs": []
    },
    {
      "cell_type": "code",
      "source": [
        "enc_dec_model = Model(input_sequence, Activation('softmax')(logits))\n",
        "enc_dec_model.compile(loss=sparse_categorical_crossentropy,\n",
        "              optimizer=Adam(1e-3),\n",
        "              metrics=['accuracy'])\n",
        "enc_dec_model.summary()"
      ],
      "metadata": {
        "id": "EdayUG1V4kUn"
      },
      "execution_count": null,
      "outputs": []
    },
    {
      "cell_type": "code",
      "source": [
        "BATCH_SIZE = 32\n",
        "STEPS_PER_EPOCH = len(fra_pad_sentence) / BATCH_SIZE\n",
        "SAVE_PERIOD = 10\n",
        "\n",
        "\n",
        "from keras.callbacks import ModelCheckpoint\n",
        "checkpoint = ModelCheckpoint(\"model/weights1.{epoch:02d}.hdf5\", monitor='loss', verbose=1,\n",
        "    save_best_only=True, mode='auto', save_freq=int(SAVE_PERIOD * STEPS_PER_EPOCH))"
      ],
      "metadata": {
        "id": "wwSe7dqOgZfC"
      },
      "execution_count": null,
      "outputs": []
    },
    {
      "cell_type": "code",
      "source": [
        "model_results = enc_dec_model.fit(fra_pad_sentence, eng_pad_sentence, batch_size=32, epochs=70,callbacks=[checkpoint])\n"
      ],
      "metadata": {
        "id": "-n0L3m3h4rAn",
        "outputId": "6920023b-4964-481f-b9b5-c7712d930a89",
        "colab": {
          "base_uri": "https://localhost:8080/"
        }
      },
      "execution_count": null,
      "outputs": [
        {
          "output_type": "stream",
          "name": "stdout",
          "text": [
            "Epoch 1/70\n",
            "1875/1875 [==============================] - 207s 109ms/step - loss: 1.5833 - accuracy: 0.7631\n",
            "Epoch 2/70\n",
            "1875/1875 [==============================] - 197s 105ms/step - loss: 1.5533 - accuracy: 0.7631\n",
            "Epoch 3/70\n",
            "1875/1875 [==============================] - 198s 106ms/step - loss: 1.5129 - accuracy: 0.7670\n",
            "Epoch 4/70\n",
            "1875/1875 [==============================] - 197s 105ms/step - loss: 1.3318 - accuracy: 0.7869\n",
            "Epoch 5/70\n",
            "1875/1875 [==============================] - 199s 106ms/step - loss: 1.1930 - accuracy: 0.8029\n",
            "Epoch 6/70\n",
            "1875/1875 [==============================] - 201s 107ms/step - loss: 1.0910 - accuracy: 0.8154\n",
            "Epoch 7/70\n",
            "1875/1875 [==============================] - 198s 105ms/step - loss: 1.0035 - accuracy: 0.8256\n",
            "Epoch 8/70\n",
            "1875/1875 [==============================] - 199s 106ms/step - loss: 0.9301 - accuracy: 0.8337\n",
            "Epoch 9/70\n",
            "1875/1875 [==============================] - 197s 105ms/step - loss: 0.8663 - accuracy: 0.8405\n",
            "Epoch 10/70\n",
            "1875/1875 [==============================] - 198s 106ms/step - loss: 0.8112 - accuracy: 0.8462\n",
            "Epoch 11/70\n",
            "1110/1875 [================>.............] - ETA: 1:20 - loss: 0.7596 - accuracy: 0.8518\n",
            "Epoch 11: loss improved from inf to 0.75961, saving model to model/weights1.11.hdf5\n",
            "1875/1875 [==============================] - 198s 106ms/step - loss: 0.7605 - accuracy: 0.8520\n",
            "Epoch 12/70\n",
            "1875/1875 [==============================] - 200s 107ms/step - loss: 0.7151 - accuracy: 0.8573\n",
            "Epoch 13/70\n",
            "1875/1875 [==============================] - 199s 106ms/step - loss: 0.6741 - accuracy: 0.8621\n",
            "Epoch 14/70\n",
            "1875/1875 [==============================] - 199s 106ms/step - loss: 0.6357 - accuracy: 0.8671\n",
            "Epoch 15/70\n",
            "1875/1875 [==============================] - 199s 106ms/step - loss: 0.6023 - accuracy: 0.8715\n",
            "Epoch 16/70\n",
            "1875/1875 [==============================] - 202s 108ms/step - loss: 0.5717 - accuracy: 0.8763\n",
            "Epoch 17/70\n",
            "1875/1875 [==============================] - 202s 108ms/step - loss: 0.5435 - accuracy: 0.8804\n",
            "Epoch 18/70\n",
            "1875/1875 [==============================] - 200s 107ms/step - loss: 0.5177 - accuracy: 0.8843\n",
            "Epoch 19/70\n",
            "1875/1875 [==============================] - 205s 109ms/step - loss: 0.4947 - accuracy: 0.8883\n",
            "Epoch 20/70\n",
            " 878/1875 [=============>................] - ETA: 1:51 - loss: 0.4693 - accuracy: 0.8925"
          ]
        }
      ]
    },
    {
      "cell_type": "code",
      "source": [
        "#enc_dec_model.save('my_model_v2.h5')"
      ],
      "metadata": {
        "id": "oXIV3Yne_LRk"
      },
      "execution_count": null,
      "outputs": []
    },
    {
      "cell_type": "code",
      "source": [
        "import tensorflow as tf\n",
        "new_enc_dec_model = tf.keras.models.load_model('my_model_v2.h5')\n",
        "\n"
      ],
      "metadata": {
        "id": "gyK75ot6DBSO"
      },
      "execution_count": 17,
      "outputs": []
    },
    {
      "cell_type": "code",
      "source": [
        "x=[\"bonjour à tous\"]\n",
        "y=fra_text_tokenizer.texts_to_sequences(x)\n",
        "z=pad_sequences(y, 15, padding = \"post\")\n",
        "\n",
        "# print(y)\n",
        "z=np.reshape(z,(1,15,1))\n",
        "\n",
        "def logits_to_sentence(logits, tokenizer):\n",
        "\n",
        "    index_to_words = {idx: word for word, idx in tokenizer.word_index.items()}\n",
        "    index_to_words[0] = '' \n",
        "\n",
        "    return ' '.join([index_to_words[prediction] for prediction in np.argmax(logits, 1)])\n",
        "\n",
        "index = 8000\n",
        "# print(\"The english sentence is: {}\".format(english_sentences[index]))\n",
        "print(\"The french sentence is: {}\".format(x[0]))\n",
        "print('The predicted sentence is :')\n",
        "print(logits_to_sentence(new_enc_dec_model.predict(z)[0], eng_text_tokenizer))\n",
        "\n",
        "# print(fra_pad_sentence[50001:50002].shape)\n",
        "# print(z.shape)\n",
        "\n",
        "\n"
      ],
      "metadata": {
        "id": "0BnIzzcgBQp9"
      },
      "execution_count": null,
      "outputs": []
    }
  ],
  "metadata": {
    "colab": {
      "collapsed_sections": [],
      "name": "Welcome To Colaboratory",
      "provenance": [],
      "include_colab_link": true
    },
    "kernelspec": {
      "display_name": "Python 3",
      "name": "python3"
    }
  },
  "nbformat": 4,
  "nbformat_minor": 0
}