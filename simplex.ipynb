{
  "nbformat": 4,
  "nbformat_minor": 0,
  "metadata": {
    "colab": {
      "provenance": [],
      "collapsed_sections": [],
      "authorship_tag": "ABX9TyP6HFlpJVUhFVBgrQzlcsC8",
      "include_colab_link": true
    },
    "kernelspec": {
      "name": "python3",
      "display_name": "Python 3"
    },
    "language_info": {
      "name": "python"
    }
  },
  "cells": [
    {
      "cell_type": "markdown",
      "metadata": {
        "id": "view-in-github",
        "colab_type": "text"
      },
      "source": [
        "<a href=\"https://colab.research.google.com/github/BRAHIMLOUARDI/movie-web-app/blob/main/simplex.ipynb\" target=\"_parent\"><img src=\"https://colab.research.google.com/assets/colab-badge.svg\" alt=\"Open In Colab\"/></a>"
      ]
    },
    {
      "cell_type": "code",
      "source": [
        "import numpy  as np "
      ],
      "metadata": {
        "id": "S3n_xcLsHjzW"
      },
      "execution_count": 3,
      "outputs": []
    },
    {
      "cell_type": "code",
      "execution_count": 8,
      "metadata": {
        "colab": {
          "base_uri": "https://localhost:8080/"
        },
        "id": "Cl5ns68wF3d8",
        "outputId": "b55d8c5c-6446-4bbf-fea5-8a232d826e21"
      },
      "outputs": [
        {
          "output_type": "stream",
          "name": "stdout",
          "text": [
            "[[ 0.0e+00  2.0e+00  1.0e+00  0.0e+00 -1.0e+00  0.0e+00  5.0e+01]\n",
            " [ 0.0e+00  1.0e+00  0.0e+00  1.0e+00 -1.0e+00  0.0e+00  3.0e+01]\n",
            " [ 1.0e+00  0.0e+00  0.0e+00  0.0e+00  1.0e+00  0.0e+00  7.0e+01]\n",
            " [ 0.0e+00  1.0e+00  0.0e+00  0.0e+00  0.0e+00  1.0e+00  5.0e+01]\n",
            " [ 0.0e+00  1.0e+01  0.0e+00  0.0e+00 -2.0e+01  0.0e+00 -1.4e+03]]\n",
            "[[ 0.00e+00  1.00e+00  5.00e-01  0.00e+00 -5.00e-01  0.00e+00  2.50e+01]\n",
            " [ 0.00e+00  0.00e+00 -5.00e-01  1.00e+00 -5.00e-01  0.00e+00  5.00e+00]\n",
            " [ 1.00e+00  0.00e+00  0.00e+00  0.00e+00  1.00e+00  0.00e+00  7.00e+01]\n",
            " [ 0.00e+00  0.00e+00 -5.00e-01  0.00e+00  5.00e-01  1.00e+00  2.50e+01]\n",
            " [ 0.00e+00  0.00e+00 -5.00e+00  0.00e+00 -1.50e+01  0.00e+00 -1.65e+03]]\n",
            "[    0.     0.    -5.     0.   -15.     0. -1650.]\n"
          ]
        },
        {
          "output_type": "stream",
          "name": "stderr",
          "text": [
            "/usr/local/lib/python3.7/dist-packages/ipykernel_launcher.py:12: RuntimeWarning: divide by zero encountered in true_divide\n",
            "  if sys.path[0] == '':\n"
          ]
        }
      ],
      "source": [
        "def max(row):\n",
        "  return np.nanmax(row) >0\n",
        "  \n",
        "\n",
        "def max_z_index_f(row):\n",
        "\n",
        "    return np.nanargmax(row)\n",
        "def min_alfai_index_f(S,max_z_index):\n",
        "  columme_bivot,bi=S[:,max_z_index],S[:,-1]\n",
        "  columme_bivot,bi=np.delete(columme_bivot,-1),np.delete(bi,-1)\n",
        "\n",
        "  alfai=bi/columme_bivot;\n",
        "  alfai[np.isinf(alfai)]=np.nan\n",
        "\n",
        "  return np.nanargmin(alfai)\n",
        "  \n",
        "S=[\n",
        "[1,2,1,0,0,0,120],\n",
        "[1,1,0,1,0,0,100],\n",
        "[1,0,0,0,1,0,70],\n",
        "[0,1,0,0,0,1,50],\n",
        "[20,10,0,0,0,0,0]]\n",
        "S=np.array(S,dtype=float)\n",
        "\n",
        "\n",
        "temp=np.copy(S)\n",
        "while (max(S[-1]) >0 ):\n",
        "  max_z_index=max_z_index_f(S[-1])\n",
        "  min_alfai_index=min_alfai_index_f(S,max_z_index)\n",
        "  pivot =S[min_alfai_index][max_z_index]     \n",
        "  for i,line in enumerate(temp):\n",
        "    for j,coef  in enumerate(line): \n",
        "      temp[i][j]=coef -((S[i][max_z_index]*S[min_alfai_index][j])/pivot)\n",
        "      \n",
        "  temp[min_alfai_index]=S[min_alfai_index]/pivot\n",
        "  S=np.copy(temp) \n",
        "  print(S)\n",
        "\n",
        "\n",
        "print(S[-1])\n",
        "\n"
      ]
    },
    {
      "cell_type": "code",
      "source": [],
      "metadata": {
        "id": "GJB_uRbRHjvi"
      },
      "execution_count": null,
      "outputs": []
    }
  ]
}