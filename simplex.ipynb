{
  "nbformat": 4,
  "nbformat_minor": 0,
  "metadata": {
    "colab": {
      "provenance": [],
      "collapsed_sections": [],
      "authorship_tag": "ABX9TyOs+TUFwYvKGNwtF5h5EHIy",
      "include_colab_link": true
    },
    "kernelspec": {
      "name": "python3",
      "display_name": "Python 3"
    },
    "language_info": {
      "name": "python"
    }
  },
  "cells": [
    {
      "cell_type": "markdown",
      "metadata": {
        "id": "view-in-github",
        "colab_type": "text"
      },
      "source": [
        "<a href=\"https://colab.research.google.com/github/BRAHIMLOUARDI/movie-web-app/blob/main/simplex.ipynb\" target=\"_parent\"><img src=\"https://colab.research.google.com/assets/colab-badge.svg\" alt=\"Open In Colab\"/></a>"
      ]
    },
    {
      "cell_type": "code",
      "source": [
        "import numpy  as np "
      ],
      "metadata": {
        "id": "S3n_xcLsHjzW"
      },
      "execution_count": 2,
      "outputs": []
    },
    {
      "cell_type": "code",
      "source": [
        "# print(np.array([1,2,3,4,5])/2)\n",
        "# S=[\n",
        "# [1,2,1,0,0,0,120],\n",
        "# [1,1,0,1,0,0,100],\n",
        "# [1,0,0,0,1,0,70],\n",
        "# [0,1,0,0,0,1,50],\n",
        "# [20,10,0,0,0,0,0]]\n",
        "# S=np.array(S)\n",
        "# temp=S\n",
        "\n",
        "# a = np.arange(4).reshape((2,2))\n",
        "# a=a/0\n",
        "# a[0][0]=4\n",
        "# print(a)\n",
        "\n",
        "# print(np.nanmax(a))\n",
        "# print(np.max((temp[-1]/0)))\n",
        "# max_z_index=max_z_index_f(S[-1])\n",
        "# min_alfi_index=min_alfi_index_f(S,max_z_index)\n",
        "# pivot =[min_alfi_index][max_z_index]     \n",
        "# for line,i in enumerate(temp):\n",
        "#   for coef ,j in enumerate(line): \n",
        "#     print(coef)\n",
        "\n",
        "# print()\n",
        "\n",
        "\n",
        "numpy_twod_array = np.array([\n",
        "                [1, 2, 3, 4], \n",
        "                [-5, 0, -7, 8], \n",
        "                [-9, -10, 11, 12]\n",
        "            ])\n",
        "x,y= numpy_twod_array[:, 0],numpy_twod_array[:, 1]\n",
        "numpy_twod_array[0]=numpy_twod_array[0]/2\n",
        "print(numpy_twod_array)\n",
        "# z=x/y\n",
        "# z[np.isinf(z)]=np.nan\n",
        "# print(z)\n",
        "# print(np.nanmin(z))\n",
        "# print(np.nanargmin(z))\n",
        "\n",
        "\n",
        "\n",
        "max_value_twod_row = np.amax(numpy_twod_array, axis = 1)\n",
        "max_value_twod_col = np.amax(numpy_twod_array, axis = 0)\n",
        "print(\"Row wise maximum: \", max_value_twod_row)\n",
        "print(\"Column wise maximum: \", max_value_twod_col)\n"
      ],
      "metadata": {
        "colab": {
          "base_uri": "https://localhost:8080/"
        },
        "id": "lQ3l9ALnHpze",
        "outputId": "3e086476-ba23-4d42-f36d-4e89f99459a2"
      },
      "execution_count": 62,
      "outputs": [
        {
          "output_type": "stream",
          "name": "stdout",
          "text": [
            "[[  0   1   1   2]\n",
            " [ -5   0  -7   8]\n",
            " [ -9 -10  11  12]]\n",
            "Row wise maximum:  [ 2  8 12]\n",
            "Column wise maximum:  [ 0  1 11 12]\n"
          ]
        }
      ]
    },
    {
      "cell_type": "code",
      "execution_count": null,
      "metadata": {
        "id": "Cl5ns68wF3d8"
      },
      "outputs": [],
      "source": [
        "def max(row):\n",
        "  return np.nanmax(row) >0\n",
        "  return False\n",
        "\n",
        "def max_z_index_f(row):\n",
        "    # print(\"max_z_index\")\n",
        "    # print(np.nanargmax(row))\n",
        "    return np.nanargmax(row)\n",
        "def min_alfi_index_f(S,max_z_index):\n",
        "  columme_bivot,bi=S[:,max_z_index],S[:,-1]\n",
        "  columme_bivot,bi=np.delete(columme_bivot,-1),np.delete(bi,-1)\n",
        "  print(\"bi\",bi,\"columme_bivot\",columme_bivot)\n",
        "  alfi=bi/columme_bivot;\n",
        "  alfi[np.isinf(alfi)]=np.nan\n",
        "  # print(\"max_alfi_index\")\n",
        "  # print(alfi)\n",
        "  # print(np.nanargmin(alfi))\n",
        "  return np.nanargmin(alfi)\n",
        "  \n",
        "S=[\n",
        "[1,2,1,0,0,0,120],\n",
        "[1,1,0,1,0,0,100],\n",
        "[1,0,0,0,1,0,70],\n",
        "[0,1,0,0,0,1,50],\n",
        "[20,10,0,0,0,0,0]]\n",
        "S=np.array(S,dtype=float)\n",
        "\n",
        "\n",
        "while (max(S[-1]) >0):\n",
        "  temp=S\n",
        "  max_z_index=max_z_index_f(S[-1])\n",
        "  min_alfi_index=min_alfi_index_f(S,max_z_index)\n",
        "  pivot =[min_alfi_index][max_z_index]     \n",
        "  for i,line in enumerate(temp):\n",
        "    for j,coef  in enumerate(line): \n",
        "      # print(coef)\n",
        "      temp[i][j]=coef -((S[i][max_z_index]*S[min_alfi_index][j])/pivot)\n",
        "  temp[min_alfi_index]=S[min_alfi_index]/pivot\n",
        "  S=temp \n",
        "  print(S)\n",
        "\n",
        "print(S[-1])\n",
        "\n",
        "# if faut trainter le cas au le culomme pivot a de zero avant  la division"
      ]
    },
    {
      "cell_type": "code",
      "source": [],
      "metadata": {
        "id": "GJB_uRbRHjvi"
      },
      "execution_count": null,
      "outputs": []
    }
  ]
}