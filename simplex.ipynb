{
  "nbformat": 4,
  "nbformat_minor": 0,
  "metadata": {
    "colab": {
      "provenance": [],
      "collapsed_sections": [],
      "authorship_tag": "ABX9TyM6vEuBxt5MsHygNwaEb7f/",
      "include_colab_link": true
    },
    "kernelspec": {
      "name": "python3",
      "display_name": "Python 3"
    },
    "language_info": {
      "name": "python"
    }
  },
  "cells": [
    {
      "cell_type": "markdown",
      "metadata": {
        "id": "view-in-github",
        "colab_type": "text"
      },
      "source": [
        "<a href=\"https://colab.research.google.com/github/BRAHIMLOUARDI/movie-web-app/blob/main/simplex.ipynb\" target=\"_parent\"><img src=\"https://colab.research.google.com/assets/colab-badge.svg\" alt=\"Open In Colab\"/></a>"
      ]
    },
    {
      "cell_type": "code",
      "source": [
        "import numpy  as np "
      ],
      "metadata": {
        "id": "S3n_xcLsHjzW"
      },
      "execution_count": null,
      "outputs": []
    },
    {
      "cell_type": "code",
      "execution_count": 52,
      "metadata": {
        "colab": {
          "base_uri": "https://localhost:8080/"
        },
        "id": "Cl5ns68wF3d8",
        "outputId": "c49b2e30-47ca-4f27-b2df-bebc202cb708"
      },
      "outputs": [
        {
          "output_type": "stream",
          "name": "stdout",
          "text": [
            "(5, 7)\n",
            "rvr 20.0  row=  [20. 10.  0.  0.  0.  0.  0.]\n",
            " f4 =  [[  1.   2.   1.   0.   0.   0. 120.]\n",
            " [  1.   1.   0.   1.   0.   0. 100.]\n",
            " [  1.   0.   0.   0.   1.   0.  70.]\n",
            " [  0.   1.   0.   0.   0.   1.  50.]\n",
            " [ 20.  10.   0.   0.   0.   0.   0.]]\n",
            "rvr 10.0  row=  [    0.    10.     0.     0.   -20.     0. -1400.]\n",
            " f4 =  [[ 0.0e+00  2.0e+00  1.0e+00  0.0e+00 -1.0e+00  0.0e+00  5.0e+01]\n",
            " [ 0.0e+00  1.0e+00  0.0e+00  1.0e+00 -1.0e+00  0.0e+00  3.0e+01]\n",
            " [ 1.0e+00  0.0e+00  0.0e+00  0.0e+00  1.0e+00  0.0e+00  7.0e+01]\n",
            " [ 0.0e+00  1.0e+00  0.0e+00  0.0e+00  0.0e+00  1.0e+00  5.0e+01]\n",
            " [ 0.0e+00  1.0e+01  0.0e+00  0.0e+00 -2.0e+01  0.0e+00 -1.4e+03]]\n",
            "rvr 0.0  row=  [    0.     0.    -5.     0.   -15.     0. -1650.]\n"
          ]
        },
        {
          "output_type": "stream",
          "name": "stderr",
          "text": [
            "/usr/local/lib/python3.7/dist-packages/ipykernel_launcher.py:12: RuntimeWarning: divide by zero encountered in true_divide\n",
            "  if sys.path[0] == '':\n"
          ]
        }
      ],
      "source": [
        "def max(row):\n",
        "  # print(\"rvr\",np.nanmax(row),\" row= \",row )\n",
        "  return np.nanmax(row) \n",
        "  \n",
        "\n",
        "def max_z_index_f(row):\n",
        "    return np.nanargmax(row)\n",
        "     \n",
        "def min_alfai_index_f(S,max_z_index):\n",
        "  columme_bivot,bi=S[:,max_z_index],S[:,-1]\n",
        "  columme_bivot,bi=np.delete(columme_bivot,-1),np.delete(bi,-1)\n",
        "  alfai=bi/columme_bivot;\n",
        "  alfai[np.isinf(alfai)]=np.nan\n",
        "  # pour prondre le min positive numbre on remplace les negatife numbre with nan value\n",
        "  return np.nanargmin(np.where(alfai > 0, alfai, np.nan))\n",
        "\n",
        "  \n",
        "S1=[\n",
        "[1,0,0,1,0,0,0,1000],\n",
        "[0,1,0,0,1,0,0,500],\n",
        "[0,0,1,0,0,1,0,1500],\n",
        "[3,6,2,0,0,0,1,6750],\n",
        "[4,12,3,0,0,0,0,0]]\n",
        "\n",
        "S=[\n",
        "[1,2,1,0,0,0,120],\n",
        "[1,1,0,1,0,0,100],\n",
        "[1,0,0,0,1,0,70],\n",
        "[0,1,0,0,0,1,50],\n",
        "[20,10,0,0,0,0,0]]\n",
        "S=np.array(S,dtype=float)\n",
        "print(S.shape)\n",
        "k=0\n",
        "temp=np.copy(S)\n",
        "while (max(S[-1]) >0  ):\n",
        "  max_z_index=max_z_index_f(S[-1])\n",
        "  min_alfai_index=min_alfai_index_f(S,max_z_index)\n",
        "  pivot =S[min_alfai_index][max_z_index]     \n",
        "  for i,line in enumerate(temp):\n",
        "    for j,coef  in enumerate(line): \n",
        "      temp[i][j]=coef -((S[i][max_z_index]*S[min_alfai_index][j])/pivot)\n",
        "      # print(\" max_z_index= \",max_z_index,\" min_alfai_index= \",min_alfai_index,\" pivot= \",pivot,\"i = \",i,\"j = \",j,\" temp[i][j]= \",temp[i][j],\" S[i][j]= \",S[i][j],\" coef= \",coef,\" S[i][max_z_index]= \",S[i][max_z_index],\"S[min_alfai_index][j] = \",S[min_alfai_index][j],\" ((S[i][max_z_index]*S[min_alfai_index][j])/pivot)= \",((S[i][max_z_index]*S[min_alfai_index][j])/pivot))\n",
        "  temp[min_alfai_index]=S[min_alfai_index]/pivot\n",
        "  print(S)\n",
        "  S=np.copy(temp)\n",
        "  k+=1\n",
        "\n",
        "\n",
        "\n",
        "\n",
        "\n"
      ]
    },
    {
      "cell_type": "markdown",
      "source": [],
      "metadata": {
        "id": "g0fnKuSpZkF6"
      }
    }
  ]
}