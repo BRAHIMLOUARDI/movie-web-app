{
  "nbformat": 4,
  "nbformat_minor": 0,
  "metadata": {
    "colab": {
      "provenance": [],
      "collapsed_sections": [],
      "authorship_tag": "ABX9TyPHd8Yri1vMW4wX1FGT+jJU",
      "include_colab_link": true
    },
    "kernelspec": {
      "name": "python3",
      "display_name": "Python 3"
    },
    "language_info": {
      "name": "python"
    }
  },
  "cells": [
    {
      "cell_type": "markdown",
      "metadata": {
        "id": "view-in-github",
        "colab_type": "text"
      },
      "source": [
        "<a href=\"https://colab.research.google.com/github/BRAHIMLOUARDI/movie-web-app/blob/main/simplex.ipynb\" target=\"_parent\"><img src=\"https://colab.research.google.com/assets/colab-badge.svg\" alt=\"Open In Colab\"/></a>"
      ]
    },
    {
      "cell_type": "code",
      "source": [
        "import numpy  as np "
      ],
      "metadata": {
        "id": "S3n_xcLsHjzW"
      },
      "execution_count": 1,
      "outputs": []
    },
    {
      "cell_type": "code",
      "source": [
        "S1=[\n",
        "[1,0,0,-0.5,0,0,0,1000],\n",
        "[0,1,0,0,1,0,0,500],\n",
        "[0,0,1,0,0,1,0,1500],\n",
        "[3,6,2,0,0,0,1,6750],\n",
        "[0,0,-10,0,0,0,0,1200]]\n",
        "S=np.array(S1,dtype=float)\n",
        "\n",
        "print(S.transpose())\n",
        "variables_de_base='variables de base : '\n",
        "variables_horsbase='variables horsbase : '\n",
        "S_transposer=S.transpose()\n",
        "for i,simplex_column in enumerate(S_transposer[0:-1]):\n",
        "    if 1 in  simplex_column and simplex_column[-1]==0:\n",
        "         \n",
        "         variables_de_base+=\"x\" +str(i+1)+ \" = \" +str(S_transposer[-1][np.where(simplex_column == 1)[0][0]])+\" ,\"\n",
        "    else:\n",
        "       variables_horsbase+=\" x\"+str(i+1)+\" = \"+str(simplex_column[-1])+\",\"\n",
        "print(variables_de_base,variables_horsbase,' z= ',S[-1][-1])\n",
        "          "
      ],
      "metadata": {
        "colab": {
          "base_uri": "https://localhost:8080/"
        },
        "id": "9_QbZqBr_UmY",
        "outputId": "52cd6a4d-e0a7-44da-b5fc-33f734f094cd"
      },
      "execution_count": 19,
      "outputs": [
        {
          "output_type": "stream",
          "name": "stdout",
          "text": [
            "[[ 1.00e+00  0.00e+00  0.00e+00  3.00e+00  0.00e+00]\n",
            " [ 0.00e+00  1.00e+00  0.00e+00  6.00e+00  0.00e+00]\n",
            " [ 0.00e+00  0.00e+00  1.00e+00  2.00e+00 -1.00e+01]\n",
            " [-5.00e-01  0.00e+00  0.00e+00  0.00e+00  0.00e+00]\n",
            " [ 0.00e+00  1.00e+00  0.00e+00  0.00e+00  0.00e+00]\n",
            " [ 0.00e+00  0.00e+00  1.00e+00  0.00e+00  0.00e+00]\n",
            " [ 0.00e+00  0.00e+00  0.00e+00  1.00e+00  0.00e+00]\n",
            " [ 1.00e+03  5.00e+02  1.50e+03  6.75e+03  1.20e+03]]\n",
            "variables de base : x1 = 1000.0 ,x2 = 500.0 ,x5 = 500.0 ,x6 = 1500.0 ,x7 = 6750.0 , variables horsbase :  x3 = -10.0, x4 = 0.0,  z=  1200.0\n"
          ]
        }
      ]
    },
    {
      "cell_type": "code",
      "execution_count": null,
      "metadata": {
        "id": "Cl5ns68wF3d8"
      },
      "outputs": [],
      "source": [
        "def max(row):\n",
        "  # print(\"rvr\",np.nanmax(row),\" row= \",row )\n",
        "  return np.nanmax(row) \n",
        "  \n",
        "\n",
        "def max_z_index_f(row):\n",
        "    return np.nanargmax(row)\n",
        "     \n",
        "def min_alfai_index_f(S,max_z_index):\n",
        "  columme_bivot,bi=S[:,max_z_index],S[:,-1]\n",
        "  columme_bivot,bi=np.delete(columme_bivot,-1),np.delete(bi,-1)\n",
        "  alfai=bi/columme_bivot;\n",
        "  alfai[np.isinf(alfai)]=np.nan\n",
        "  # pour prondre le min positive numbre on remplace les negatife numbre with nan value\n",
        "  return np.nanargmin(np.where(alfai > 0, alfai, np.nan))\n",
        "\n",
        "  \n",
        "S1=[\n",
        "[1,0,0,1,0,0,0,1000],\n",
        "[0,1,0,0,1,0,0,500],\n",
        "[0,0,1,0,0,1,0,1500],\n",
        "[3,6,2,0,0,0,1,6750],\n",
        "[4,12,3,0,0,0,0,0]]\n",
        "\n",
        "S=[\n",
        "[1,2,1,0,0,0,120],\n",
        "[1,1,0,1,0,0,100],\n",
        "[1,0,0,0,1,0,70],\n",
        "[0,1,0,0,0,1,50],\n",
        "[20,10,0,0,0,0,0]]\n",
        "S=np.array(S,dtype=float)\n",
        "print(S.shape)\n",
        "k=0\n",
        "temp=np.copy(S)\n",
        "while (max(S[-1]) >0  ):\n",
        "  max_z_index=max_z_index_f(S[-1])\n",
        "  min_alfai_index=min_alfai_index_f(S,max_z_index)\n",
        "  pivot =S[min_alfai_index][max_z_index]     \n",
        "  for i,line in enumerate(temp):\n",
        "    for j,coef  in enumerate(line): \n",
        "      temp[i][j]=coef -((S[i][max_z_index]*S[min_alfai_index][j])/pivot)\n",
        "      # print(\" max_z_index= \",max_z_index,\" min_alfai_index= \",min_alfai_index,\" pivot= \",pivot,\"i = \",i,\"j = \",j,\" temp[i][j]= \",temp[i][j],\" S[i][j]= \",S[i][j],\" coef= \",coef,\" S[i][max_z_index]= \",S[i][max_z_index],\"S[min_alfai_index][j] = \",S[min_alfai_index][j],\" ((S[i][max_z_index]*S[min_alfai_index][j])/pivot)= \",((S[i][max_z_index]*S[min_alfai_index][j])/pivot))\n",
        "  temp[min_alfai_index]=S[min_alfai_index]/pivot\n",
        "  print(S)\n",
        "  S=np.copy(temp)\n",
        "  k+=1\n",
        "\n",
        "\n",
        "\n",
        "\n",
        "\n"
      ]
    },
    {
      "cell_type": "markdown",
      "source": [],
      "metadata": {
        "id": "g0fnKuSpZkF6"
      }
    }
  ]
}