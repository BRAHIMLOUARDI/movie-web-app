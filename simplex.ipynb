{
  "nbformat": 4,
  "nbformat_minor": 0,
  "metadata": {
    "colab": {
      "provenance": [],
      "collapsed_sections": [],
      "authorship_tag": "ABX9TyPNWt/5/whsSlZ+B4/3/9F0",
      "include_colab_link": true
    },
    "kernelspec": {
      "name": "python3",
      "display_name": "Python 3"
    },
    "language_info": {
      "name": "python"
    }
  },
  "cells": [
    {
      "cell_type": "markdown",
      "metadata": {
        "id": "view-in-github",
        "colab_type": "text"
      },
      "source": [
        "<a href=\"https://colab.research.google.com/github/BRAHIMLOUARDI/movie-web-app/blob/main/simplex.ipynb\" target=\"_parent\"><img src=\"https://colab.research.google.com/assets/colab-badge.svg\" alt=\"Open In Colab\"/></a>"
      ]
    },
    {
      "cell_type": "code",
      "source": [
        "import numpy  as np "
      ],
      "metadata": {
        "id": "S3n_xcLsHjzW"
      },
      "execution_count": 2,
      "outputs": []
    },
    {
      "cell_type": "code",
      "source": [
        "# print(np.array([1,2,3,4,5])/2)\n",
        "# S=[\n",
        "# [1,2,1,0,0,0,120],\n",
        "# [1,1,0,1,0,0,100],\n",
        "# [1,0,0,0,1,0,70],\n",
        "# [0,1,0,0,0,1,50],\n",
        "# [20,10,0,0,0,0,0]]\n",
        "# S=np.array(S)\n",
        "# temp=S\n",
        "\n",
        "# a = np.arange(4).reshape((2,2))\n",
        "# a=a/0\n",
        "# a[0][0]=4\n",
        "# print(a)\n",
        "\n",
        "# print(np.nanmax(a))\n",
        "# print(np.max((temp[-1]/0)))\n",
        "# max_z_index=max_z_index_f(S[-1])\n",
        "# min_alfi_index=min_alfi_index_f(S,max_z_index)\n",
        "# pivot =[min_alfi_index][max_z_index]     \n",
        "# for line,i in enumerate(temp):\n",
        "#   for coef ,j in enumerate(line): \n",
        "#     print(coef)\n",
        "\n",
        "# print()\n",
        "\n",
        "\n",
        "numpy_twod_array = np.array([\n",
        "                [1, 2, 3, 4], \n",
        "                [-5, 0, -7, 8], \n",
        "                [-9, -10, 11, 12]\n",
        "            ],dtype=float)\n",
        "x,y= numpy_twod_array[:, 0],numpy_twod_array[:, 1]\n",
        "numpy_twod_array[0]=numpy_twod_array[0]/2\n",
        "print(numpy_twod_array)\n",
        "z=x/y\n",
        "z[np.isinf(z)]=np.nan\n",
        "print(z)\n",
        "print(np.nanmin(z))\n",
        "print(np.nanargmin(z))\n",
        "print(z/2)\n",
        "\n",
        "\n",
        "\n",
        "max_value_twod_row = np.amax(numpy_twod_array, axis = 1)\n",
        "max_value_twod_col = np.amax(numpy_twod_array, axis = 0)\n",
        "print(\"Row wise maximum: \", max_value_twod_row)\n",
        "print(\"Column wise maximum: \", max_value_twod_col)\n"
      ],
      "metadata": {
        "colab": {
          "base_uri": "https://localhost:8080/"
        },
        "id": "lQ3l9ALnHpze",
        "outputId": "ffbdfb3b-008d-4c9f-a85f-198c08400294"
      },
      "execution_count": 68,
      "outputs": [
        {
          "output_type": "stream",
          "name": "stdout",
          "text": [
            "[[  0.5   1.    1.5   2. ]\n",
            " [ -5.    0.   -7.    8. ]\n",
            " [ -9.  -10.   11.   12. ]]\n",
            "[0.5 nan 0.9]\n",
            "0.5\n",
            "0\n",
            "[0.25  nan 0.45]\n",
            "Row wise maximum:  [ 2.  8. 12.]\n",
            "Column wise maximum:  [ 0.5  1.  11.  12. ]\n"
          ]
        },
        {
          "output_type": "stream",
          "name": "stderr",
          "text": [
            "/usr/local/lib/python3.7/dist-packages/ipykernel_launcher.py:36: RuntimeWarning: divide by zero encountered in true_divide\n"
          ]
        }
      ]
    },
    {
      "cell_type": "code",
      "execution_count": 76,
      "metadata": {
        "colab": {
          "base_uri": "https://localhost:8080/",
          "height": 597
        },
        "id": "Cl5ns68wF3d8",
        "outputId": "a6ea8714-47e3-4dcc-ab44-0c5e460fb706"
      },
      "outputs": [
        {
          "output_type": "stream",
          "name": "stdout",
          "text": [
            "bi [120. 100.  70.  50.] columme_bivot [1. 1. 1. 0.]\n",
            "[[ 0.0e+00  2.0e+00  1.0e+00  0.0e+00  0.0e+00  0.0e+00  1.2e+02]\n",
            " [ 0.0e+00  1.0e+00  0.0e+00  1.0e+00  0.0e+00  0.0e+00  1.0e+02]\n",
            " [ 0.0e+00  0.0e+00  0.0e+00  0.0e+00  1.0e+00  0.0e+00  7.0e+01]\n",
            " [ 0.0e+00  1.0e+00  0.0e+00  0.0e+00  0.0e+00  1.0e+00  5.0e+01]\n",
            " [ 2.0e+01  1.0e+01  0.0e+00  0.0e+00 -2.0e+01  0.0e+00 -1.4e+03]]\n",
            "bi [120. 100.  70.  50.] columme_bivot [0. 0. 0. 0.]\n"
          ]
        },
        {
          "output_type": "stream",
          "name": "stderr",
          "text": [
            "/usr/local/lib/python3.7/dist-packages/ipykernel_launcher.py:13: RuntimeWarning: divide by zero encountered in true_divide\n",
            "  del sys.path[0]\n"
          ]
        },
        {
          "output_type": "error",
          "ename": "ValueError",
          "evalue": "ignored",
          "traceback": [
            "\u001b[0;31m---------------------------------------------------------------------------\u001b[0m",
            "\u001b[0;31mValueError\u001b[0m                                Traceback (most recent call last)",
            "\u001b[0;32m<ipython-input-76-9e70019dd976>\u001b[0m in \u001b[0;36m<module>\u001b[0;34m\u001b[0m\n\u001b[1;32m     30\u001b[0m \u001b[0;32mwhile\u001b[0m \u001b[0;34m(\u001b[0m\u001b[0mmax\u001b[0m\u001b[0;34m(\u001b[0m\u001b[0mS\u001b[0m\u001b[0;34m[\u001b[0m\u001b[0;34m-\u001b[0m\u001b[0;36m1\u001b[0m\u001b[0;34m]\u001b[0m\u001b[0;34m)\u001b[0m \u001b[0;34m>\u001b[0m\u001b[0;36m0\u001b[0m \u001b[0;32mand\u001b[0m \u001b[0mk\u001b[0m\u001b[0;34m<\u001b[0m\u001b[0;36m2\u001b[0m\u001b[0;34m)\u001b[0m\u001b[0;34m:\u001b[0m\u001b[0;34m\u001b[0m\u001b[0;34m\u001b[0m\u001b[0m\n\u001b[1;32m     31\u001b[0m   \u001b[0mmax_z_index\u001b[0m\u001b[0;34m=\u001b[0m\u001b[0mmax_z_index_f\u001b[0m\u001b[0;34m(\u001b[0m\u001b[0mS\u001b[0m\u001b[0;34m[\u001b[0m\u001b[0;34m-\u001b[0m\u001b[0;36m1\u001b[0m\u001b[0;34m]\u001b[0m\u001b[0;34m)\u001b[0m\u001b[0;34m\u001b[0m\u001b[0;34m\u001b[0m\u001b[0m\n\u001b[0;32m---> 32\u001b[0;31m   \u001b[0mmin_alfi_index\u001b[0m\u001b[0;34m=\u001b[0m\u001b[0mmin_alfi_index_f\u001b[0m\u001b[0;34m(\u001b[0m\u001b[0mS\u001b[0m\u001b[0;34m,\u001b[0m\u001b[0mmax_z_index\u001b[0m\u001b[0;34m)\u001b[0m\u001b[0;34m\u001b[0m\u001b[0;34m\u001b[0m\u001b[0m\n\u001b[0m\u001b[1;32m     33\u001b[0m   \u001b[0mpivot\u001b[0m \u001b[0;34m=\u001b[0m\u001b[0mS\u001b[0m\u001b[0;34m[\u001b[0m\u001b[0mmin_alfi_index\u001b[0m\u001b[0;34m]\u001b[0m\u001b[0;34m[\u001b[0m\u001b[0mmax_z_index\u001b[0m\u001b[0;34m]\u001b[0m\u001b[0;34m\u001b[0m\u001b[0;34m\u001b[0m\u001b[0m\n\u001b[1;32m     34\u001b[0m   \u001b[0;32mfor\u001b[0m \u001b[0mi\u001b[0m\u001b[0;34m,\u001b[0m\u001b[0mline\u001b[0m \u001b[0;32min\u001b[0m \u001b[0menumerate\u001b[0m\u001b[0;34m(\u001b[0m\u001b[0mtemp\u001b[0m\u001b[0;34m)\u001b[0m\u001b[0;34m:\u001b[0m\u001b[0;34m\u001b[0m\u001b[0;34m\u001b[0m\u001b[0m\n",
            "\u001b[0;32m<ipython-input-76-9e70019dd976>\u001b[0m in \u001b[0;36mmin_alfi_index_f\u001b[0;34m(S, max_z_index)\u001b[0m\n\u001b[1;32m     16\u001b[0m   \u001b[0;31m# print(alfi)\u001b[0m\u001b[0;34m\u001b[0m\u001b[0;34m\u001b[0m\u001b[0;34m\u001b[0m\u001b[0m\n\u001b[1;32m     17\u001b[0m   \u001b[0;31m# print(np.nanargmin(alfi))\u001b[0m\u001b[0;34m\u001b[0m\u001b[0;34m\u001b[0m\u001b[0;34m\u001b[0m\u001b[0m\n\u001b[0;32m---> 18\u001b[0;31m   \u001b[0;32mreturn\u001b[0m \u001b[0mnp\u001b[0m\u001b[0;34m.\u001b[0m\u001b[0mnanargmin\u001b[0m\u001b[0;34m(\u001b[0m\u001b[0malfi\u001b[0m\u001b[0;34m)\u001b[0m\u001b[0;34m\u001b[0m\u001b[0;34m\u001b[0m\u001b[0m\n\u001b[0m\u001b[1;32m     19\u001b[0m \u001b[0;34m\u001b[0m\u001b[0m\n\u001b[1;32m     20\u001b[0m S=[\n",
            "\u001b[0;32m<__array_function__ internals>\u001b[0m in \u001b[0;36mnanargmin\u001b[0;34m(*args, **kwargs)\u001b[0m\n",
            "\u001b[0;32m/usr/local/lib/python3.7/dist-packages/numpy/lib/nanfunctions.py\u001b[0m in \u001b[0;36mnanargmin\u001b[0;34m(a, axis)\u001b[0m\n\u001b[1;32m    497\u001b[0m         \u001b[0mmask\u001b[0m \u001b[0;34m=\u001b[0m \u001b[0mnp\u001b[0m\u001b[0;34m.\u001b[0m\u001b[0mall\u001b[0m\u001b[0;34m(\u001b[0m\u001b[0mmask\u001b[0m\u001b[0;34m,\u001b[0m \u001b[0maxis\u001b[0m\u001b[0;34m=\u001b[0m\u001b[0maxis\u001b[0m\u001b[0;34m)\u001b[0m\u001b[0;34m\u001b[0m\u001b[0;34m\u001b[0m\u001b[0m\n\u001b[1;32m    498\u001b[0m         \u001b[0;32mif\u001b[0m \u001b[0mnp\u001b[0m\u001b[0;34m.\u001b[0m\u001b[0many\u001b[0m\u001b[0;34m(\u001b[0m\u001b[0mmask\u001b[0m\u001b[0;34m)\u001b[0m\u001b[0;34m:\u001b[0m\u001b[0;34m\u001b[0m\u001b[0;34m\u001b[0m\u001b[0m\n\u001b[0;32m--> 499\u001b[0;31m             \u001b[0;32mraise\u001b[0m \u001b[0mValueError\u001b[0m\u001b[0;34m(\u001b[0m\u001b[0;34m\"All-NaN slice encountered\"\u001b[0m\u001b[0;34m)\u001b[0m\u001b[0;34m\u001b[0m\u001b[0;34m\u001b[0m\u001b[0m\n\u001b[0m\u001b[1;32m    500\u001b[0m     \u001b[0;32mreturn\u001b[0m \u001b[0mres\u001b[0m\u001b[0;34m\u001b[0m\u001b[0;34m\u001b[0m\u001b[0m\n\u001b[1;32m    501\u001b[0m \u001b[0;34m\u001b[0m\u001b[0m\n",
            "\u001b[0;31mValueError\u001b[0m: All-NaN slice encountered"
          ]
        }
      ],
      "source": [
        "def max(row):\n",
        "  return np.nanmax(row) >0\n",
        "  return False\n",
        "\n",
        "def max_z_index_f(row):\n",
        "    # print(\"max_z_index\")\n",
        "    # print(np.nanargmax(row))\n",
        "    return np.nanargmax(row)\n",
        "def min_alfi_index_f(S,max_z_index):\n",
        "  columme_bivot,bi=S[:,max_z_index],S[:,-1]\n",
        "  columme_bivot,bi=np.delete(columme_bivot,-1),np.delete(bi,-1)\n",
        "  print(\"bi\",bi,\"columme_bivot\",columme_bivot)\n",
        "  alfi=bi/columme_bivot;\n",
        "  alfi[np.isinf(alfi)]=np.nan\n",
        "  # print(\"max_alfi_index\")\n",
        "  # print(alfi)\n",
        "  # print(np.nanargmin(alfi))\n",
        "  return np.nanargmin(alfi)\n",
        "  \n",
        "S=[\n",
        "[1,2,1,0,0,0,120],\n",
        "[1,1,0,1,0,0,100],\n",
        "[1,0,0,0,1,0,70],\n",
        "[0,1,0,0,0,1,50],\n",
        "[20,10,0,0,0,0,0]]\n",
        "S=np.array(S,dtype=float)\n",
        "\n",
        "k=0\n",
        "temp=S\n",
        "while (max(S[-1]) >0 and k<2):\n",
        "  max_z_index=max_z_index_f(S[-1])\n",
        "  min_alfi_index=min_alfi_index_f(S,max_z_index)\n",
        "  pivot =S[min_alfi_index][max_z_index]     \n",
        "  for i,line in enumerate(temp):\n",
        "    for j,coef  in enumerate(line): \n",
        "      # print(\"temp= \",temp[i][j],\"coef= \",coef,\"update= \",((S[i][max_z_index]*S[min_alfi_index][j])/pivot),\"pivot= \",pivot,\"max_z_index= \",max_z_index,\"min_alfi_index= \",min_alfi_index,\"rowpi=\",S[min_alfi_index])\n",
        "      temp[i][j]=coef -((S[i][max_z_index]*S[min_alfi_index][j])/pivot)\n",
        "      print(\"temp[i][j] =\",temp[i][j],\"i= \"i,\"j= \",j)\n",
        "  temp[min_alfi_index]=S[min_alfi_index]/pivot\n",
        "  S=temp \n",
        "  print(S)\n",
        "  k=k+1\n",
        "\n",
        "print(S[-1])\n",
        "\n",
        "# if faut trainter le cas au le culomme pivot a de zero avant  la division"
      ]
    },
    {
      "cell_type": "code",
      "source": [],
      "metadata": {
        "id": "GJB_uRbRHjvi"
      },
      "execution_count": null,
      "outputs": []
    }
  ]
}