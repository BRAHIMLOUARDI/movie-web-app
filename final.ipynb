{
  "nbformat": 4,
  "nbformat_minor": 0,
  "metadata": {
    "colab": {
      "name": "final.ipynb",
      "provenance": [],
      "collapsed_sections": [],
      "authorship_tag": "ABX9TyPDeUXgNXKMxBxh70bimbws",
      "include_colab_link": true
    },
    "kernelspec": {
      "name": "python3",
      "display_name": "Python 3"
    },
    "language_info": {
      "name": "python"
    },
    "accelerator": "GPU"
  },
  "cells": [
    {
      "cell_type": "markdown",
      "metadata": {
        "id": "view-in-github",
        "colab_type": "text"
      },
      "source": [
        "<a href=\"https://colab.research.google.com/github/BRAHIMLOUARDI/movie-web-app/blob/main/final.ipynb\" target=\"_parent\"><img src=\"https://colab.research.google.com/assets/colab-badge.svg\" alt=\"Open In Colab\"/></a>"
      ]
    },
    {
      "cell_type": "code",
      "execution_count": null,
      "metadata": {
        "id": "TAwitizbCIwg"
      },
      "outputs": [],
      "source": [
        "!pip install -q keras"
      ]
    },
    {
      "cell_type": "code",
      "source": [
        "import string\n",
        "import numpy as np\n",
        "\n",
        "from keras.preprocessing.text import Tokenizer\n",
        "from keras.preprocessing.sequence import pad_sequences\n",
        "from keras.models import Model,Sequential\n",
        "from keras.layers import LSTM, Input, TimeDistributed, Dense, Activation, RepeatVector, Embedding\n",
        "from tensorflow.keras.optimizers import Adam\n",
        "from keras.losses import sparse_categorical_crossentropy\n",
        "\n",
        "# Path to translation filekk\n",
        "path_to_data = 'fra.txt'\n",
        "\n",
        "# Read file\n",
        "translation_file = open(path_to_data,\"r\", encoding='utf-8') \n",
        "raw_data = translation_file.read()\n",
        "translation_file.close()\n",
        "\n",
        "# Parse data\n",
        "raw_data = raw_data.split('\\n')\n",
        "pairs = [sentence.split('\\t') for sentence in  raw_data]\n",
        "pairs=pairs[0:190000]\n"
      ],
      "metadata": {
        "id": "ese6EunVCtP0"
      },
      "execution_count": null,
      "outputs": []
    },
    {
      "cell_type": "code",
      "source": [
        "print(pairs[116999])"
      ],
      "metadata": {
        "colab": {
          "base_uri": "https://localhost:8080/"
        },
        "id": "fJiEOmZRdSeE",
        "outputId": "0da88bac-4adb-4622-ffcc-478a06d89e71"
      },
      "execution_count": null,
      "outputs": [
        {
          "output_type": "stream",
          "name": "stdout",
          "text": [
            "['genetically-modified organisms', 'organismes génétiquement modifiés']\n"
          ]
        }
      ]
    },
    {
      "cell_type": "code",
      "source": [
        "def clean_sentence(sentence):\n",
        "    \n",
        "    lower_case_sent = sentence.lower()\n",
        "  \n",
        "    string_punctuation = \"?\" + \"¡\" + '¿'+\".\"+\"!\" ;\n",
        "    clean_sentence = lower_case_sent.translate(str.maketrans('', '', string_punctuation))\n",
        "   \n",
        "    return clean_sentence"
      ],
      "metadata": {
        "id": "2VAQus9XDB3a"
      },
      "execution_count": null,
      "outputs": []
    },
    {
      "cell_type": "code",
      "source": [
        "# from Book1 import words \n",
        "# print(words[0])\n",
        "# for word in words:\n",
        "#   z=word['English']+'\\t'+word['French']\n",
        "# #   raw_data3.append(z)\n",
        "# text_file = open(\"sample.txt\", \"wt\")\n",
        "with open('fra_eng_sc_deeplearning.txt', 'w') as f:\n",
        "  z=\"deep learning is a type of artificial intelligence derived from machine learning\"+'\\t'+\"apprentissage profond est un type d'intelligence dérivé du apprentissage automatique\"\n",
        "  f.write(\"%s\\n\" % z)\n",
        "  z=\"A recurrent neural network is a class of artificial neural networks \"+'\\t'+\"Un réseau de neurones récurrent est une classe de réseaux de neurones artificiels\"\n",
        "  f.write(\"%s\\n\" % z)\n",
        "  # for word in words:\n",
        "  #   z=word['English'].split('\\/')[0]+'\\t'+word['French'].split('\\/')[0]\n",
        "  #   f.write(\"%s\\n\" % z)\n",
        "\n",
        "f.close()\n"
      ],
      "metadata": {
        "id": "tRnPg4gpDKI0"
      },
      "execution_count": 2,
      "outputs": []
    },
    {
      "cell_type": "code",
      "source": [
        ""
      ],
      "metadata": {
        "id": "w9f0FsUhDkvf"
      },
      "execution_count": null,
      "outputs": []
    }
  ]
}