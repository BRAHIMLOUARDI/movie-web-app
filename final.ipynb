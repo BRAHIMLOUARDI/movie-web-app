{
  "nbformat": 4,
  "nbformat_minor": 0,
  "metadata": {
    "colab": {
      "name": "final.ipynb",
      "provenance": [],
      "collapsed_sections": [],
      "authorship_tag": "ABX9TyONWbAitN6XYg77cG/XqL9k",
      "include_colab_link": true
    },
    "kernelspec": {
      "name": "python3",
      "display_name": "Python 3"
    },
    "language_info": {
      "name": "python"
    },
    "accelerator": "GPU"
  },
  "cells": [
    {
      "cell_type": "markdown",
      "metadata": {
        "id": "view-in-github",
        "colab_type": "text"
      },
      "source": [
        "<a href=\"https://colab.research.google.com/github/BRAHIMLOUARDI/movie-web-app/blob/main/final.ipynb\" target=\"_parent\"><img src=\"https://colab.research.google.com/assets/colab-badge.svg\" alt=\"Open In Colab\"/></a>"
      ]
    },
    {
      "cell_type": "code",
      "execution_count": 1,
      "metadata": {
        "id": "TAwitizbCIwg"
      },
      "outputs": [],
      "source": [
        "!pip install -q keras"
      ]
    },
    {
      "cell_type": "code",
      "source": [
        "import string\n",
        "import numpy as np\n",
        "\n",
        "from keras.preprocessing.text import Tokenizer\n",
        "from keras.preprocessing.sequence import pad_sequences\n",
        "from keras.models import Model,Sequential\n",
        "from keras.layers import LSTM, Input, TimeDistributed, Dense, Activation, RepeatVector, Embedding\n",
        "from tensorflow.keras.optimizers import Adam\n",
        "from keras.losses import sparse_categorical_crossentropy\n",
        "\n",
        "# Path to translation filekk\n",
        "path_to_data = 'fra_eng_sc_deeplearning.txt'\n",
        "\n",
        "# Read file\n",
        "translation_file = open(path_to_data,\"r\", encoding='utf-8') \n",
        "raw_data = translation_file.read()\n",
        "translation_file.close()\n",
        "\n",
        "# Parse data\n",
        "raw_data = raw_data.split('\\n')\n",
        "pairs = [sentence.split('\\t') for sentence in  raw_data]\n",
        "pairs=pairs[0:2]\n"
      ],
      "metadata": {
        "id": "ese6EunVCtP0"
      },
      "execution_count": 37,
      "outputs": []
    },
    {
      "cell_type": "code",
      "source": [
        "print(pairs)"
      ],
      "metadata": {
        "colab": {
          "base_uri": "https://localhost:8080/"
        },
        "id": "fJiEOmZRdSeE",
        "outputId": "566a95c0-d4b3-4f65-cd20-b7e09c67d6d0"
      },
      "execution_count": 38,
      "outputs": [
        {
          "output_type": "stream",
          "name": "stdout",
          "text": [
            "[['deep learning is a type of artificial intelligence derived from machine learning', \"apprentissage profond est un type d'intelligence dérivé du apprentissage automatique\"], ['A recurrent neural network is a class of artificial neural networks ', 'Un réseau de neurones récurrent est une classe de réseaux de neurones artificiels']]\n"
          ]
        }
      ]
    },
    {
      "cell_type": "code",
      "source": [
        "def clean_sentence(sentence):\n",
        "    \n",
        "    lower_case_sent = sentence.lower()\n",
        "  \n",
        "    string_punctuation = \"?\" + \"¡\" + '¿'+\".\"+\"!\" ;\n",
        "    clean_sentence = lower_case_sent.translate(str.maketrans('', '', string_punctuation))\n",
        "   \n",
        "    return clean_sentence"
      ],
      "metadata": {
        "id": "2VAQus9XDB3a"
      },
      "execution_count": 39,
      "outputs": []
    },
    {
      "cell_type": "code",
      "source": [
        "# from Book1 import words \n",
        "# print(words[0])\n",
        "# for word in words:\n",
        "#   z=word['English']+'\\t'+word['French']\n",
        "# #   raw_data3.append(z)\n",
        "# text_file = open(\"sample.txt\", \"wt\")\n",
        "with open('fra_eng_sc_deeplearning.txt', 'w') as f:\n",
        "  z=\"deep learning is a type of artificial intelligence derived from machine learning\"+'\\t'+\"apprentissage profond est un type d'intelligence dérivé du apprentissage automatique\"\n",
        "  f.write(\"%s\\n\" % z)\n",
        "  z=\"A recurrent neural network is a class of artificial neural networks \"+'\\t'+\"Un réseau de neurones récurrent est une classe de réseaux de neurones artificiels\"\n",
        "  f.write(\"%s\\n\" % z)\n",
        "  # for word in words:\n",
        "  #   z=word['English'].split('\\/')[0]+'\\t'+word['French'].split('\\/')[0]\n",
        "  #   f.write(\"%s\\n\" % z)\n",
        "\n",
        "f.close()\n"
      ],
      "metadata": {
        "id": "tRnPg4gpDKI0"
      },
      "execution_count": 2,
      "outputs": []
    },
    {
      "cell_type": "code",
      "source": [
        "def tokenize(sentences):\n",
        "    # Create tokenizer\n",
        "    text_tokenizer = Tokenizer()\n",
        "    # Fit texts\n",
        "    text_tokenizer.fit_on_texts(sentences)\n",
        "    return text_tokenizer.texts_to_sequences(sentences), text_tokenizer"
      ],
      "metadata": {
        "id": "w9f0FsUhDkvf"
      },
      "execution_count": 40,
      "outputs": []
    },
    {
      "cell_type": "code",
      "source": [
        "english_sentences = [clean_sentence(pair[0]).replace(\"\\u202f\",\" \").replace(\"\\xa0\",\" \").replace(\"\\u200b\",\" \").replace(\"«\\u2009\",\" \").replace(\"\\u2009\",\" \").replace(\"\\xad\",\"\").rstrip().lstrip() for pair in pairs]\n",
        "french_sentences = [clean_sentence(pair[1]).replace(\"\\u202f\",\" \").replace(\"\\xa0\",\" \").replace(\"\\u200b\",\" \").replace(\"«\\u2009\",\" \").replace(\"\\u2009\",\" \").replace(\"\\xad\",\"\").rstrip().lstrip() for pair in pairs]\n",
        "\n",
        "\n",
        "fra_text_tokenized, fra_text_tokenizer = tokenize(french_sentences)\n",
        "eng_text_tokenized, eng_text_tokenizer = tokenize(english_sentences)\n",
        "\n",
        "print('Maximum length french sentence: {}'.format(len(max(fra_text_tokenized,key=len))))\n",
        "print('Maximum length english sentence: {}'.format(len(max(eng_text_tokenized,key=len))))\n",
        "\n",
        "\n",
        "\n",
        "french_vocab = len(fra_text_tokenizer.word_index) + 1\n",
        "english_vocab = len(eng_text_tokenizer.word_index) + 1\n",
        "print(\"french vocabulary is of {} unique words\".format(french_vocab))\n",
        "print(\"English vocabulary is of {} unique words\".format(english_vocab))"
      ],
      "metadata": {
        "colab": {
          "base_uri": "https://localhost:8080/"
        },
        "id": "2C4HEjpTnM4g",
        "outputId": "1a05fce5-259a-4738-99d1-ff9b414e4673"
      },
      "execution_count": 42,
      "outputs": [
        {
          "output_type": "stream",
          "name": "stdout",
          "text": [
            "Maximum length french sentence: 13\n",
            "Maximum length english sentence: 12\n",
            "french vocabulary is of 18 unique words\n",
            "English vocabulary is of 17 unique words\n"
          ]
        }
      ]
    },
    {
      "cell_type": "markdown",
      "source": [
        "Save french vocabulary\n",
        "\n"
      ],
      "metadata": {
        "id": "I2e_GErAr0ce"
      }
    },
    {
      "cell_type": "code",
      "source": [
        "# Check language length\n",
        "\n",
        "contant1=str(french_sentences)\n",
        "file=open(\"french_sentences.txt\",\"w+\")\n",
        "file.write(contant1)\n",
        "file.close()\n"
      ],
      "metadata": {
        "id": "rZyMmk3srhfE"
      },
      "execution_count": 16,
      "outputs": []
    },
    {
      "cell_type": "code",
      "source": [
        "max_french_len = int(len(max(fra_text_tokenized,key=len)))\n",
        "max_english_len = int(len(max(eng_text_tokenized,key=len)))\n",
        "\n",
        "fra_pad_sentence = pad_sequences(fra_text_tokenized,23, padding = \"post\")\n",
        "eng_pad_sentence = pad_sequences(eng_text_tokenized,16, padding = \"post\")\n",
        "\n",
        "\n",
        "\n",
        "\n",
        "fra_pad_sentence = fra_pad_sentence.reshape(*fra_pad_sentence.shape, 1)\n",
        "eng_pad_sentence = eng_pad_sentence.reshape(*eng_pad_sentence.shape, 1)\n",
        "print(max_french_len)\n",
        "print(max_english_len)"
      ],
      "metadata": {
        "colab": {
          "base_uri": "https://localhost:8080/"
        },
        "id": "qvRnn075opo9",
        "outputId": "d36c9224-f651-4010-a0e1-a7e4539615ad"
      },
      "execution_count": 43,
      "outputs": [
        {
          "output_type": "stream",
          "name": "stdout",
          "text": [
            "13\n",
            "12\n"
          ]
        }
      ]
    },
    {
      "cell_type": "code",
      "source": [
        "print(max_english_len)"
      ],
      "metadata": {
        "colab": {
          "base_uri": "https://localhost:8080/"
        },
        "id": "6q0SIb3ZsOjJ",
        "outputId": "f242c48a-4614-4644-f005-273a1f6f71be"
      },
      "execution_count": 18,
      "outputs": [
        {
          "output_type": "stream",
          "name": "stdout",
          "text": [
            "16\n"
          ]
        }
      ]
    },
    {
      "cell_type": "code",
      "source": [
        "input_sequence = Input(shape=(23,))\n",
        "embedding = Embedding(input_dim=french_vocab, output_dim=256,)(input_sequence)"
      ],
      "metadata": {
        "id": "iepJgIZVorei"
      },
      "execution_count": 44,
      "outputs": []
    },
    {
      "cell_type": "code",
      "source": [
        "encoder = LSTM(128, return_sequences=False)(embedding)\n",
        "r_vec = RepeatVector(16)(encoder)\n",
        "decoder = LSTM(128, return_sequences=True, dropout=0.2)(r_vec)\n",
        "logits = TimeDistributed(Dense(english_vocab))(decoder)"
      ],
      "metadata": {
        "id": "N6sHqNk5o4sx"
      },
      "execution_count": 25,
      "outputs": []
    },
    {
      "cell_type": "code",
      "source": [
        "enc_dec_model = Model(input_sequence, Activation('softmax')(logits))\n",
        "enc_dec_model.compile(loss=sparse_categorical_crossentropy,\n",
        "              optimizer=Adam(1e-3),\n",
        "              metrics=['accuracy'])\n",
        "enc_dec_model.summary()"
      ],
      "metadata": {
        "colab": {
          "base_uri": "https://localhost:8080/"
        },
        "id": "e82yq_wxpMC0",
        "outputId": "78e93fcc-4a54-43f2-c84a-a4c456b2dc5d"
      },
      "execution_count": 26,
      "outputs": [
        {
          "output_type": "stream",
          "name": "stdout",
          "text": [
            "Model: \"model_1\"\n",
            "_________________________________________________________________\n",
            " Layer (type)                Output Shape              Param #   \n",
            "=================================================================\n",
            " input_2 (InputLayer)        [(None, 23)]              0         \n",
            "                                                                 \n",
            " embedding_1 (Embedding)     (None, 23, 256)           7248128   \n",
            "                                                                 \n",
            " lstm_2 (LSTM)               (None, 128)               197120    \n",
            "                                                                 \n",
            " repeat_vector_1 (RepeatVect  (None, 16, 128)          0         \n",
            " or)                                                             \n",
            "                                                                 \n",
            " lstm_3 (LSTM)               (None, 16, 128)           131584    \n",
            "                                                                 \n",
            " time_distributed_1 (TimeDis  (None, 16, 15381)        1984149   \n",
            " tributed)                                                       \n",
            "                                                                 \n",
            " activation_1 (Activation)   (None, 16, 15381)         0         \n",
            "                                                                 \n",
            "=================================================================\n",
            "Total params: 9,560,981\n",
            "Trainable params: 9,560,981\n",
            "Non-trainable params: 0\n",
            "_________________________________________________________________\n"
          ]
        }
      ]
    },
    {
      "cell_type": "code",
      "source": [
        "model_results = enc_dec_model.fit(fra_pad_sentence, eng_pad_sentence, batch_size=64, epochs=100)"
      ],
      "metadata": {
        "colab": {
          "base_uri": "https://localhost:8080/"
        },
        "id": "6FScIQ9hpSj6",
        "outputId": "915c5c9d-d633-4f9a-ca76-ed609883ce98"
      },
      "execution_count": 45,
      "outputs": [
        {
          "output_type": "stream",
          "name": "stdout",
          "text": [
            "Epoch 1/100\n",
            "1/1 [==============================] - 0s 23ms/step - loss: 8.2819 - accuracy: 0.3438\n",
            "Epoch 2/100\n",
            "1/1 [==============================] - 0s 17ms/step - loss: 5.3556 - accuracy: 0.3438\n",
            "Epoch 3/100\n",
            "1/1 [==============================] - 0s 17ms/step - loss: 3.7532 - accuracy: 0.3750\n",
            "Epoch 4/100\n",
            "1/1 [==============================] - 0s 18ms/step - loss: 3.3683 - accuracy: 0.2812\n",
            "Epoch 5/100\n",
            "1/1 [==============================] - 0s 18ms/step - loss: 2.8676 - accuracy: 0.2500\n",
            "Epoch 6/100\n",
            "1/1 [==============================] - 0s 19ms/step - loss: 2.4762 - accuracy: 0.3438\n",
            "Epoch 7/100\n",
            "1/1 [==============================] - 0s 17ms/step - loss: 2.1701 - accuracy: 0.4688\n",
            "Epoch 8/100\n",
            "1/1 [==============================] - 0s 20ms/step - loss: 1.6929 - accuracy: 0.5938\n",
            "Epoch 9/100\n",
            "1/1 [==============================] - 0s 17ms/step - loss: 1.2508 - accuracy: 0.6250\n",
            "Epoch 10/100\n",
            "1/1 [==============================] - 0s 18ms/step - loss: 0.8898 - accuracy: 0.6875\n",
            "Epoch 11/100\n",
            "1/1 [==============================] - 0s 17ms/step - loss: 0.8473 - accuracy: 0.6875\n",
            "Epoch 12/100\n",
            "1/1 [==============================] - 0s 19ms/step - loss: 0.5645 - accuracy: 0.8125\n",
            "Epoch 13/100\n",
            "1/1 [==============================] - 0s 17ms/step - loss: 0.6457 - accuracy: 0.7812\n",
            "Epoch 14/100\n",
            "1/1 [==============================] - 0s 18ms/step - loss: 0.6506 - accuracy: 0.8125\n",
            "Epoch 15/100\n",
            "1/1 [==============================] - 0s 18ms/step - loss: 0.4902 - accuracy: 0.8438\n",
            "Epoch 16/100\n",
            "1/1 [==============================] - 0s 20ms/step - loss: 0.3562 - accuracy: 0.9062\n",
            "Epoch 17/100\n",
            "1/1 [==============================] - 0s 20ms/step - loss: 0.5793 - accuracy: 0.7188\n",
            "Epoch 18/100\n",
            "1/1 [==============================] - 0s 15ms/step - loss: 0.3693 - accuracy: 0.7812\n",
            "Epoch 19/100\n",
            "1/1 [==============================] - 0s 18ms/step - loss: 0.3460 - accuracy: 0.9062\n",
            "Epoch 20/100\n",
            "1/1 [==============================] - 0s 28ms/step - loss: 0.2546 - accuracy: 0.9375\n",
            "Epoch 21/100\n",
            "1/1 [==============================] - 0s 20ms/step - loss: 0.2183 - accuracy: 0.9375\n",
            "Epoch 22/100\n",
            "1/1 [==============================] - 0s 17ms/step - loss: 0.2262 - accuracy: 0.9375\n",
            "Epoch 23/100\n",
            "1/1 [==============================] - 0s 17ms/step - loss: 0.1602 - accuracy: 0.9688\n",
            "Epoch 24/100\n",
            "1/1 [==============================] - 0s 21ms/step - loss: 0.5941 - accuracy: 0.7500\n",
            "Epoch 25/100\n",
            "1/1 [==============================] - 0s 19ms/step - loss: 0.1006 - accuracy: 1.0000\n",
            "Epoch 26/100\n",
            "1/1 [==============================] - 0s 19ms/step - loss: 0.1905 - accuracy: 0.9688\n",
            "Epoch 27/100\n",
            "1/1 [==============================] - 0s 15ms/step - loss: 0.1556 - accuracy: 0.9688\n",
            "Epoch 28/100\n",
            "1/1 [==============================] - 0s 19ms/step - loss: 0.1534 - accuracy: 0.9688\n",
            "Epoch 29/100\n",
            "1/1 [==============================] - 0s 19ms/step - loss: 0.1701 - accuracy: 0.9688\n",
            "Epoch 30/100\n",
            "1/1 [==============================] - 0s 17ms/step - loss: 0.0953 - accuracy: 1.0000\n",
            "Epoch 31/100\n",
            "1/1 [==============================] - 0s 20ms/step - loss: 0.0886 - accuracy: 1.0000\n",
            "Epoch 32/100\n",
            "1/1 [==============================] - 0s 19ms/step - loss: 0.0643 - accuracy: 1.0000\n",
            "Epoch 33/100\n",
            "1/1 [==============================] - 0s 16ms/step - loss: 0.1284 - accuracy: 0.9375\n",
            "Epoch 34/100\n",
            "1/1 [==============================] - 0s 22ms/step - loss: 0.0841 - accuracy: 1.0000\n",
            "Epoch 35/100\n",
            "1/1 [==============================] - 0s 17ms/step - loss: 0.0561 - accuracy: 1.0000\n",
            "Epoch 36/100\n",
            "1/1 [==============================] - 0s 20ms/step - loss: 0.0401 - accuracy: 1.0000\n",
            "Epoch 37/100\n",
            "1/1 [==============================] - 0s 19ms/step - loss: 0.0281 - accuracy: 1.0000\n",
            "Epoch 38/100\n",
            "1/1 [==============================] - 0s 19ms/step - loss: 0.0359 - accuracy: 1.0000\n",
            "Epoch 39/100\n",
            "1/1 [==============================] - 0s 17ms/step - loss: 0.0499 - accuracy: 1.0000\n",
            "Epoch 40/100\n",
            "1/1 [==============================] - 0s 19ms/step - loss: 0.0570 - accuracy: 1.0000\n",
            "Epoch 41/100\n",
            "1/1 [==============================] - 0s 17ms/step - loss: 0.0363 - accuracy: 1.0000\n",
            "Epoch 42/100\n",
            "1/1 [==============================] - 0s 16ms/step - loss: 0.0335 - accuracy: 1.0000\n",
            "Epoch 43/100\n",
            "1/1 [==============================] - 0s 20ms/step - loss: 0.0479 - accuracy: 1.0000\n",
            "Epoch 44/100\n",
            "1/1 [==============================] - 0s 17ms/step - loss: 0.0451 - accuracy: 1.0000\n",
            "Epoch 45/100\n",
            "1/1 [==============================] - 0s 16ms/step - loss: 0.0206 - accuracy: 1.0000\n",
            "Epoch 46/100\n",
            "1/1 [==============================] - 0s 20ms/step - loss: 0.0590 - accuracy: 0.9688\n",
            "Epoch 47/100\n",
            "1/1 [==============================] - 0s 18ms/step - loss: 0.0226 - accuracy: 1.0000\n",
            "Epoch 48/100\n",
            "1/1 [==============================] - 0s 16ms/step - loss: 0.0186 - accuracy: 1.0000\n",
            "Epoch 49/100\n",
            "1/1 [==============================] - 0s 17ms/step - loss: 0.0159 - accuracy: 1.0000\n",
            "Epoch 50/100\n",
            "1/1 [==============================] - 0s 16ms/step - loss: 0.0167 - accuracy: 1.0000\n",
            "Epoch 51/100\n",
            "1/1 [==============================] - 0s 21ms/step - loss: 0.0229 - accuracy: 1.0000\n",
            "Epoch 52/100\n",
            "1/1 [==============================] - 0s 18ms/step - loss: 0.0179 - accuracy: 1.0000\n",
            "Epoch 53/100\n",
            "1/1 [==============================] - 0s 19ms/step - loss: 0.0172 - accuracy: 1.0000\n",
            "Epoch 54/100\n",
            "1/1 [==============================] - 0s 19ms/step - loss: 0.0153 - accuracy: 1.0000\n",
            "Epoch 55/100\n",
            "1/1 [==============================] - 0s 21ms/step - loss: 0.0174 - accuracy: 1.0000\n",
            "Epoch 56/100\n",
            "1/1 [==============================] - 0s 15ms/step - loss: 0.0132 - accuracy: 1.0000\n",
            "Epoch 57/100\n",
            "1/1 [==============================] - 0s 17ms/step - loss: 0.0127 - accuracy: 1.0000\n",
            "Epoch 58/100\n",
            "1/1 [==============================] - 0s 17ms/step - loss: 0.0178 - accuracy: 1.0000\n",
            "Epoch 59/100\n",
            "1/1 [==============================] - 0s 17ms/step - loss: 0.0122 - accuracy: 1.0000\n",
            "Epoch 60/100\n",
            "1/1 [==============================] - 0s 17ms/step - loss: 0.0096 - accuracy: 1.0000\n",
            "Epoch 61/100\n",
            "1/1 [==============================] - 0s 15ms/step - loss: 0.0130 - accuracy: 1.0000\n",
            "Epoch 62/100\n",
            "1/1 [==============================] - 0s 20ms/step - loss: 0.0108 - accuracy: 1.0000\n",
            "Epoch 63/100\n",
            "1/1 [==============================] - 0s 23ms/step - loss: 0.0125 - accuracy: 1.0000\n",
            "Epoch 64/100\n",
            "1/1 [==============================] - 0s 20ms/step - loss: 0.0132 - accuracy: 1.0000\n",
            "Epoch 65/100\n",
            "1/1 [==============================] - 0s 17ms/step - loss: 0.0107 - accuracy: 1.0000\n",
            "Epoch 66/100\n",
            "1/1 [==============================] - 0s 18ms/step - loss: 0.0152 - accuracy: 1.0000\n",
            "Epoch 67/100\n",
            "1/1 [==============================] - 0s 18ms/step - loss: 0.0111 - accuracy: 1.0000\n",
            "Epoch 68/100\n",
            "1/1 [==============================] - 0s 19ms/step - loss: 0.0103 - accuracy: 1.0000\n",
            "Epoch 69/100\n",
            "1/1 [==============================] - 0s 20ms/step - loss: 0.0082 - accuracy: 1.0000\n",
            "Epoch 70/100\n",
            "1/1 [==============================] - 0s 19ms/step - loss: 0.0083 - accuracy: 1.0000\n",
            "Epoch 71/100\n",
            "1/1 [==============================] - 0s 18ms/step - loss: 0.0093 - accuracy: 1.0000\n",
            "Epoch 72/100\n",
            "1/1 [==============================] - 0s 17ms/step - loss: 0.0085 - accuracy: 1.0000\n",
            "Epoch 73/100\n",
            "1/1 [==============================] - 0s 18ms/step - loss: 0.0091 - accuracy: 1.0000\n",
            "Epoch 74/100\n",
            "1/1 [==============================] - 0s 17ms/step - loss: 0.0109 - accuracy: 1.0000\n",
            "Epoch 75/100\n",
            "1/1 [==============================] - 0s 17ms/step - loss: 0.0100 - accuracy: 1.0000\n",
            "Epoch 76/100\n",
            "1/1 [==============================] - 0s 18ms/step - loss: 0.0081 - accuracy: 1.0000\n",
            "Epoch 77/100\n",
            "1/1 [==============================] - 0s 20ms/step - loss: 0.0077 - accuracy: 1.0000\n",
            "Epoch 78/100\n",
            "1/1 [==============================] - 0s 18ms/step - loss: 0.0097 - accuracy: 1.0000\n",
            "Epoch 79/100\n",
            "1/1 [==============================] - 0s 20ms/step - loss: 0.0095 - accuracy: 1.0000\n",
            "Epoch 80/100\n",
            "1/1 [==============================] - 0s 15ms/step - loss: 0.0116 - accuracy: 1.0000\n",
            "Epoch 81/100\n",
            "1/1 [==============================] - 0s 17ms/step - loss: 0.0069 - accuracy: 1.0000\n",
            "Epoch 82/100\n",
            "1/1 [==============================] - 0s 20ms/step - loss: 0.0073 - accuracy: 1.0000\n",
            "Epoch 83/100\n",
            "1/1 [==============================] - 0s 17ms/step - loss: 0.0069 - accuracy: 1.0000\n",
            "Epoch 84/100\n",
            "1/1 [==============================] - 0s 17ms/step - loss: 0.0084 - accuracy: 1.0000\n",
            "Epoch 85/100\n",
            "1/1 [==============================] - 0s 16ms/step - loss: 0.0075 - accuracy: 1.0000\n",
            "Epoch 86/100\n",
            "1/1 [==============================] - 0s 16ms/step - loss: 0.0062 - accuracy: 1.0000\n",
            "Epoch 87/100\n",
            "1/1 [==============================] - 0s 16ms/step - loss: 0.0071 - accuracy: 1.0000\n",
            "Epoch 88/100\n",
            "1/1 [==============================] - 0s 17ms/step - loss: 0.0075 - accuracy: 1.0000\n",
            "Epoch 89/100\n",
            "1/1 [==============================] - 0s 18ms/step - loss: 0.0065 - accuracy: 1.0000\n",
            "Epoch 90/100\n",
            "1/1 [==============================] - 0s 15ms/step - loss: 0.0066 - accuracy: 1.0000\n",
            "Epoch 91/100\n",
            "1/1 [==============================] - 0s 16ms/step - loss: 0.0060 - accuracy: 1.0000\n",
            "Epoch 92/100\n",
            "1/1 [==============================] - 0s 20ms/step - loss: 0.0074 - accuracy: 1.0000\n",
            "Epoch 93/100\n",
            "1/1 [==============================] - 0s 21ms/step - loss: 0.0070 - accuracy: 1.0000\n",
            "Epoch 94/100\n",
            "1/1 [==============================] - 0s 18ms/step - loss: 0.0064 - accuracy: 1.0000\n",
            "Epoch 95/100\n",
            "1/1 [==============================] - 0s 19ms/step - loss: 0.0070 - accuracy: 1.0000\n",
            "Epoch 96/100\n",
            "1/1 [==============================] - 0s 18ms/step - loss: 0.0070 - accuracy: 1.0000\n",
            "Epoch 97/100\n",
            "1/1 [==============================] - 0s 21ms/step - loss: 0.0080 - accuracy: 1.0000\n",
            "Epoch 98/100\n",
            "1/1 [==============================] - 0s 20ms/step - loss: 0.0067 - accuracy: 1.0000\n",
            "Epoch 99/100\n",
            "1/1 [==============================] - 0s 17ms/step - loss: 0.0060 - accuracy: 1.0000\n",
            "Epoch 100/100\n",
            "1/1 [==============================] - 0s 19ms/step - loss: 0.0051 - accuracy: 1.0000\n"
          ]
        }
      ]
    },
    {
      "cell_type": "code",
      "source": [
        "enc_dec_model.save('finalv_2_Model.h5') "
      ],
      "metadata": {
        "id": "e83TCeJXvbH-"
      },
      "execution_count": 48,
      "outputs": []
    },
    {
      "cell_type": "code",
      "source": [
        "\n",
        "x=[\"apprentissage profond est un type d'intelligence dérivé du apprentissage automatique\"]\n",
        "y=fra_text_tokenizer.texts_to_sequences(x)\n",
        "z=pad_sequences(y, 23, padding = \"post\")\n",
        "\n",
        "# print(y)\n",
        "z=np.reshape(z,(1,23,1))\n",
        "\n",
        "def logits_to_sentence(logits, tokenizer):\n",
        "\n",
        "    index_to_words = {idx: word for word, idx in tokenizer.word_index.items()}\n",
        "    index_to_words[0] = '' \n",
        "\n",
        "    return ' '.join([index_to_words[prediction] for prediction in np.argmax(logits, 1)]).rstrip()\n",
        "\n",
        "index = 8000\n",
        "# print(\"The english sentence is: {}\".format(english_sentences[index]))\n",
        "print(\"The french sentence is: {}\".format(x[0]))\n",
        "print('The predicted sentence is :')\n",
        "print(logits_to_sentence(enc_dec_model.predict(z)[0], eng_text_tokenizer))"
      ],
      "metadata": {
        "id": "21lHS2P5ynLH",
        "outputId": "63961896-6762-4f82-8153-4ccb205c94ec",
        "colab": {
          "base_uri": "https://localhost:8080/"
        }
      },
      "execution_count": 47,
      "outputs": [
        {
          "output_type": "stream",
          "name": "stdout",
          "text": [
            "The french sentence is: apprentissage profond est un type d'intelligence dérivé du apprentissage automatique\n",
            "The predicted sentence is :\n",
            "deep learning is a type of artificial intelligence derived from machine learning\n"
          ]
        }
      ]
    },
    {
      "cell_type": "code",
      "source": [
        "kldklsd"
      ],
      "metadata": {
        "id": "Lzz-hpsSWmVY"
      },
      "execution_count": null,
      "outputs": []
    }
  ]
}