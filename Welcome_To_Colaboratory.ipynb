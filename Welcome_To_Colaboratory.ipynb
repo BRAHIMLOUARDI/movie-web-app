{
  "cells": [
    {
      "cell_type": "markdown",
      "metadata": {
        "id": "view-in-github",
        "colab_type": "text"
      },
      "source": [
        "<a href=\"https://colab.research.google.com/github/BRAHIMLOUARDI/movie-web-app/blob/main/Welcome_To_Colaboratory.ipynb\" target=\"_parent\"><img src=\"https://colab.research.google.com/assets/colab-badge.svg\" alt=\"Open In Colab\"/></a>"
      ]
    },
    {
      "cell_type": "code",
      "source": [
        "import string\n",
        "import numpy as np\n",
        "\n",
        "from keras.preprocessing.text import Tokenizer\n",
        "from keras.preprocessing.sequence import pad_sequences\n",
        "from keras.models import Model\n",
        "from keras.layers import LSTM, Input, TimeDistributed, Dense, Activation, RepeatVector, Embedding\n",
        "from tensorflow.keras.optimizers import Adam\n",
        "from keras.losses import sparse_categorical_crossentropy\n",
        "\n",
        "# Path to translation file\n",
        "path_to_data = '/content/fra.txt'\n",
        "\n",
        "# Read file\n",
        "translation_file = open(path_to_data,\"r\", encoding='utf-8') \n",
        "raw_data = translation_file.read()\n",
        "translation_file.close()\n",
        "\n",
        "# Parse data\n",
        "raw_data = raw_data.split('\\n')\n",
        "pairs = [sentence.split('\\t') for sentence in  raw_data]\n",
        "pairs = pairs[1000:20000]\n"
      ],
      "metadata": {
        "id": "dl2gDN6AeCsh"
      },
      "execution_count": 31,
      "outputs": []
    },
    {
      "cell_type": "code",
      "source": [
        "def clean_sentence(sentence):\n",
        "    # Lower case the sentence\n",
        "    lower_case_sent = sentence.lower()\n",
        "    # Strip punctuation\n",
        "    string_punctuation = string.punctuation + \"¡\" + '¿'\n",
        "    clean_sentence = lower_case_sent.translate(str.maketrans('', '', string_punctuation))\n",
        "   \n",
        "    return clean_sentence"
      ],
      "metadata": {
        "id": "kppzLb79oYWj"
      },
      "execution_count": 40,
      "outputs": []
    },
    {
      "cell_type": "code",
      "source": [
        "def tokenize(sentences):\n",
        "    # Create tokenizer\n",
        "    text_tokenizer = Tokenizer()\n",
        "    # Fit texts\n",
        "    text_tokenizer.fit_on_texts(sentences)\n",
        "    return text_tokenizer.texts_to_sequences(sentences), text_tokenizer"
      ],
      "metadata": {
        "id": "FlMW2oEBpK1-"
      },
      "execution_count": 41,
      "outputs": []
    },
    {
      "cell_type": "code",
      "source": [
        "\n",
        "english_sentences = [clean_sentence(pair[0]) for pair in pairs]\n",
        "french_sentences = [clean_sentence(pair[1]) for pair in pairs]\n",
        "\n",
        "# Tokenize words\n",
        "fra_text_tokenized, fra_text_tokenizer = tokenize(french_sentences)\n",
        "eng_text_tokenized, eng_text_tokenizer = tokenize(english_sentences)\n",
        "\n",
        "print('Maximum length french sentence: {}'.format(len(max(fra_text_tokenized,key=len))))\n",
        "print('Maximum length english sentence: {}'.format(len(max(eng_text_tokenized,key=len))))\n",
        "\n",
        "\n",
        "# Check language length\n",
        "french_vocab = len(fra_text_tokenizer.word_index) + 1\n",
        "english_vocab = len(eng_text_tokenizer.word_index) + 1\n",
        "print(\"Spanish vocabulary is of {} unique words\".format(french_vocab))\n",
        "print(\"English vocabulary is of {} unique words\".format(english_vocab))"
      ],
      "metadata": {
        "colab": {
          "base_uri": "https://localhost:8080/"
        },
        "id": "FJd49T6VpQtn",
        "outputId": "2fffb7e6-21a7-44eb-b429-1ff55ea44a9f"
      },
      "execution_count": 43,
      "outputs": [
        {
          "output_type": "stream",
          "name": "stdout",
          "text": [
            "Maximum length spanish sentence: 11\n",
            "Maximum length english sentence: 5\n",
            "Spanish vocabulary is of 7575 unique words\n",
            "English vocabulary is of 3423 unique words\n"
          ]
        }
      ]
    },
    {
      "cell_type": "code",
      "source": [
        "max_french_len = int(len(max(fra_text_tokenized,key=len)))\n",
        "max_english_len = int(len(max(eng_text_tokenized,key=len)))\n",
        "\n",
        "fra_pad_sentence = pad_sequences(fra_text_tokenized, max_french_len, padding = \"post\")\n",
        "eng_pad_sentence = pad_sequences(eng_text_tokenized, max_english_len, padding = \"post\")\n",
        "\n",
        "fra_pad_sentence1 = pad_sequences(fra_text_tokenized, max_french_len, padding = \"post\")\n",
        "eng_pad_sentence1 = pad_sequences(eng_text_tokenized, max_english_len, padding = \"post\")\n",
        "\n",
        "# Reshape data\n",
        "fra_pad_sentence = fra_pad_sentence.reshape(*fra_pad_sentence.shape, 1)\n",
        "eng_pad_sentence = eng_pad_sentence.reshape(*eng_pad_sentence.shape, 1)"
      ],
      "metadata": {
        "id": "g6LIc2DpqRUl"
      },
      "execution_count": 62,
      "outputs": []
    },
    {
      "cell_type": "code",
      "source": [
        "input_sequence = Input(shape=(max_french_len,))\n",
        "embedding = Embedding(input_dim=french_vocab, output_dim=128,)(input_sequence)"
      ],
      "metadata": {
        "id": "mWBT4WhOutoR"
      },
      "execution_count": 68,
      "outputs": []
    },
    {
      "cell_type": "code",
      "source": [
        "encoder = LSTM(64, return_sequences=False)(embedding)\n",
        "r_vec = RepeatVector(max_english_len)(encoder)\n",
        "decoder = LSTM(64, return_sequences=True, dropout=0.2)(r_vec)\n",
        "logits = TimeDistributed(Dense(english_vocab))(decoder)\n"
      ],
      "metadata": {
        "id": "YFefu6Nf4hDa"
      },
      "execution_count": 69,
      "outputs": []
    },
    {
      "cell_type": "code",
      "source": [
        "enc_dec_model = Model(input_sequence, Activation('softmax')(logits))\n",
        "enc_dec_model.compile(loss=sparse_categorical_crossentropy,\n",
        "              optimizer=Adam(1e-3),\n",
        "              metrics=['accuracy'])\n",
        "enc_dec_model.summary()"
      ],
      "metadata": {
        "colab": {
          "base_uri": "https://localhost:8080/"
        },
        "id": "EdayUG1V4kUn",
        "outputId": "fc1830d9-5bbd-47b0-9f39-4061de596e47"
      },
      "execution_count": 70,
      "outputs": [
        {
          "output_type": "stream",
          "name": "stdout",
          "text": [
            "Model: \"model\"\n",
            "_________________________________________________________________\n",
            " Layer (type)                Output Shape              Param #   \n",
            "=================================================================\n",
            " input_1 (InputLayer)        [(None, 11)]              0         \n",
            "                                                                 \n",
            " embedding (Embedding)       (None, 11, 128)           969600    \n",
            "                                                                 \n",
            " lstm (LSTM)                 (None, 64)                49408     \n",
            "                                                                 \n",
            " repeat_vector (RepeatVector  (None, 5, 64)            0         \n",
            " )                                                               \n",
            "                                                                 \n",
            " lstm_1 (LSTM)               (None, 5, 64)             33024     \n",
            "                                                                 \n",
            " time_distributed (TimeDistr  (None, 5, 3423)          222495    \n",
            " ibuted)                                                         \n",
            "                                                                 \n",
            " activation (Activation)     (None, 5, 3423)           0         \n",
            "                                                                 \n",
            "=================================================================\n",
            "Total params: 1,274,527\n",
            "Trainable params: 1,274,527\n",
            "Non-trainable params: 0\n",
            "_________________________________________________________________\n"
          ]
        }
      ]
    },
    {
      "cell_type": "code",
      "source": [
        "model_results = enc_dec_model.fit(fra_pad_sentence, eng_pad_sentence, batch_size=30, epochs=100)\n"
      ],
      "metadata": {
        "colab": {
          "base_uri": "https://localhost:8080/"
        },
        "id": "-n0L3m3h4rAn",
        "outputId": "6198d952-c8da-4517-f12a-57865671974e"
      },
      "execution_count": 71,
      "outputs": [
        {
          "output_type": "stream",
          "name": "stdout",
          "text": [
            "Epoch 1/100\n",
            "634/634 [==============================] - 19s 26ms/step - loss: 4.2632 - accuracy: 0.4062\n",
            "Epoch 2/100\n",
            "634/634 [==============================] - 16s 26ms/step - loss: 3.6845 - accuracy: 0.4364\n",
            "Epoch 3/100\n",
            "634/634 [==============================] - 16s 26ms/step - loss: 3.6106 - accuracy: 0.4382\n",
            "Epoch 4/100\n",
            "634/634 [==============================] - 16s 25ms/step - loss: 3.5500 - accuracy: 0.4392\n",
            "Epoch 5/100\n",
            "634/634 [==============================] - 16s 25ms/step - loss: 3.3819 - accuracy: 0.4590\n",
            "Epoch 6/100\n",
            "634/634 [==============================] - 16s 25ms/step - loss: 3.2312 - accuracy: 0.4710\n",
            "Epoch 7/100\n",
            "634/634 [==============================] - 16s 26ms/step - loss: 3.0470 - accuracy: 0.4931\n",
            "Epoch 8/100\n",
            "634/634 [==============================] - 16s 26ms/step - loss: 2.8702 - accuracy: 0.5152\n",
            "Epoch 9/100\n",
            "634/634 [==============================] - 16s 25ms/step - loss: 2.7273 - accuracy: 0.5283\n",
            "Epoch 10/100\n",
            "634/634 [==============================] - 16s 25ms/step - loss: 2.6024 - accuracy: 0.5442\n",
            "Epoch 11/100\n",
            "634/634 [==============================] - 16s 26ms/step - loss: 2.4889 - accuracy: 0.5575\n",
            "Epoch 12/100\n",
            "634/634 [==============================] - 16s 26ms/step - loss: 2.3819 - accuracy: 0.5720\n",
            "Epoch 13/100\n",
            "634/634 [==============================] - 16s 26ms/step - loss: 2.2783 - accuracy: 0.5859\n",
            "Epoch 14/100\n",
            "634/634 [==============================] - 16s 26ms/step - loss: 2.1825 - accuracy: 0.5973\n",
            "Epoch 15/100\n",
            "634/634 [==============================] - 17s 26ms/step - loss: 2.0901 - accuracy: 0.6102\n",
            "Epoch 16/100\n",
            "634/634 [==============================] - 17s 26ms/step - loss: 2.0057 - accuracy: 0.6200\n",
            "Epoch 17/100\n",
            "634/634 [==============================] - 16s 25ms/step - loss: 1.9257 - accuracy: 0.6299\n",
            "Epoch 18/100\n",
            "634/634 [==============================] - 16s 25ms/step - loss: 1.8476 - accuracy: 0.6404\n",
            "Epoch 19/100\n",
            "634/634 [==============================] - 16s 25ms/step - loss: 1.7775 - accuracy: 0.6487\n",
            "Epoch 20/100\n",
            "634/634 [==============================] - 16s 25ms/step - loss: 1.7100 - accuracy: 0.6572\n",
            "Epoch 21/100\n",
            "634/634 [==============================] - 16s 26ms/step - loss: 1.6432 - accuracy: 0.6653\n",
            "Epoch 22/100\n",
            "634/634 [==============================] - 16s 26ms/step - loss: 1.5815 - accuracy: 0.6754\n",
            "Epoch 23/100\n",
            "634/634 [==============================] - 16s 26ms/step - loss: 1.5226 - accuracy: 0.6822\n",
            "Epoch 24/100\n",
            "634/634 [==============================] - 16s 26ms/step - loss: 1.4662 - accuracy: 0.6909\n",
            "Epoch 25/100\n",
            "634/634 [==============================] - 16s 26ms/step - loss: 1.4119 - accuracy: 0.6992\n",
            "Epoch 26/100\n",
            "634/634 [==============================] - 16s 26ms/step - loss: 1.3565 - accuracy: 0.7077\n",
            "Epoch 27/100\n",
            "634/634 [==============================] - 16s 25ms/step - loss: 1.3062 - accuracy: 0.7147\n",
            "Epoch 28/100\n",
            "634/634 [==============================] - 16s 26ms/step - loss: 1.2606 - accuracy: 0.7218\n",
            "Epoch 29/100\n",
            "634/634 [==============================] - 16s 25ms/step - loss: 1.2113 - accuracy: 0.7303\n",
            "Epoch 30/100\n",
            "634/634 [==============================] - 16s 25ms/step - loss: 1.1697 - accuracy: 0.7385\n",
            "Epoch 31/100\n",
            "634/634 [==============================] - 16s 25ms/step - loss: 1.1264 - accuracy: 0.7459\n",
            "Epoch 32/100\n",
            "634/634 [==============================] - 16s 26ms/step - loss: 1.0852 - accuracy: 0.7537\n",
            "Epoch 33/100\n",
            "634/634 [==============================] - 16s 26ms/step - loss: 1.0455 - accuracy: 0.7611\n",
            "Epoch 34/100\n",
            "634/634 [==============================] - 16s 25ms/step - loss: 1.0073 - accuracy: 0.7688\n",
            "Epoch 35/100\n",
            "634/634 [==============================] - 16s 25ms/step - loss: 0.9736 - accuracy: 0.7756\n",
            "Epoch 36/100\n",
            "634/634 [==============================] - 16s 26ms/step - loss: 0.9377 - accuracy: 0.7820\n",
            "Epoch 37/100\n",
            "634/634 [==============================] - 16s 26ms/step - loss: 0.9013 - accuracy: 0.7898\n",
            "Epoch 38/100\n",
            "634/634 [==============================] - 16s 25ms/step - loss: 0.8674 - accuracy: 0.7971\n",
            "Epoch 39/100\n",
            "634/634 [==============================] - 16s 25ms/step - loss: 0.8387 - accuracy: 0.8034\n",
            "Epoch 40/100\n",
            "634/634 [==============================] - 16s 25ms/step - loss: 0.8118 - accuracy: 0.8087\n",
            "Epoch 41/100\n",
            "634/634 [==============================] - 16s 26ms/step - loss: 0.7802 - accuracy: 0.8149\n",
            "Epoch 42/100\n",
            "634/634 [==============================] - 16s 26ms/step - loss: 0.7561 - accuracy: 0.8212\n",
            "Epoch 43/100\n",
            "634/634 [==============================] - 16s 26ms/step - loss: 0.7290 - accuracy: 0.8250\n",
            "Epoch 44/100\n",
            "634/634 [==============================] - 16s 26ms/step - loss: 0.7037 - accuracy: 0.8313\n",
            "Epoch 45/100\n",
            "634/634 [==============================] - 16s 25ms/step - loss: 0.6805 - accuracy: 0.8366\n",
            "Epoch 46/100\n",
            "634/634 [==============================] - 16s 25ms/step - loss: 0.6595 - accuracy: 0.8422\n",
            "Epoch 47/100\n",
            "634/634 [==============================] - 16s 26ms/step - loss: 0.6405 - accuracy: 0.8446\n",
            "Epoch 48/100\n",
            "634/634 [==============================] - 16s 25ms/step - loss: 0.6199 - accuracy: 0.8495\n",
            "Epoch 49/100\n",
            "634/634 [==============================] - 16s 25ms/step - loss: 0.5987 - accuracy: 0.8554\n",
            "Epoch 50/100\n",
            "634/634 [==============================] - 16s 25ms/step - loss: 0.5812 - accuracy: 0.8576\n",
            "Epoch 51/100\n",
            "634/634 [==============================] - 16s 25ms/step - loss: 0.5639 - accuracy: 0.8620\n",
            "Epoch 52/100\n",
            "634/634 [==============================] - 16s 25ms/step - loss: 0.5483 - accuracy: 0.8649\n",
            "Epoch 53/100\n",
            "634/634 [==============================] - 16s 25ms/step - loss: 0.5353 - accuracy: 0.8679\n",
            "Epoch 54/100\n",
            "634/634 [==============================] - 16s 25ms/step - loss: 0.5183 - accuracy: 0.8709\n",
            "Epoch 55/100\n",
            "634/634 [==============================] - 16s 25ms/step - loss: 0.5017 - accuracy: 0.8737\n",
            "Epoch 56/100\n",
            "634/634 [==============================] - 16s 25ms/step - loss: 0.4897 - accuracy: 0.8764\n",
            "Epoch 57/100\n",
            "634/634 [==============================] - 16s 25ms/step - loss: 0.4770 - accuracy: 0.8797\n",
            "Epoch 58/100\n",
            "634/634 [==============================] - 16s 25ms/step - loss: 0.4633 - accuracy: 0.8833\n",
            "Epoch 59/100\n",
            "634/634 [==============================] - 16s 25ms/step - loss: 0.4524 - accuracy: 0.8848\n",
            "Epoch 60/100\n",
            "634/634 [==============================] - 16s 25ms/step - loss: 0.4403 - accuracy: 0.8865\n",
            "Epoch 61/100\n",
            "634/634 [==============================] - 16s 25ms/step - loss: 0.4288 - accuracy: 0.8892\n",
            "Epoch 62/100\n",
            "634/634 [==============================] - 16s 25ms/step - loss: 0.4218 - accuracy: 0.8916\n",
            "Epoch 63/100\n",
            "634/634 [==============================] - 16s 25ms/step - loss: 0.4118 - accuracy: 0.8931\n",
            "Epoch 64/100\n",
            "634/634 [==============================] - 16s 25ms/step - loss: 0.4002 - accuracy: 0.8949\n",
            "Epoch 65/100\n",
            "634/634 [==============================] - 16s 25ms/step - loss: 0.3917 - accuracy: 0.8966\n",
            "Epoch 66/100\n",
            "634/634 [==============================] - 16s 26ms/step - loss: 0.3846 - accuracy: 0.8986\n",
            "Epoch 67/100\n",
            "634/634 [==============================] - 17s 26ms/step - loss: 0.3763 - accuracy: 0.8993\n",
            "Epoch 68/100\n",
            "634/634 [==============================] - 18s 28ms/step - loss: 0.3658 - accuracy: 0.9019\n",
            "Epoch 69/100\n",
            "634/634 [==============================] - 17s 27ms/step - loss: 0.3565 - accuracy: 0.9044\n",
            "Epoch 70/100\n",
            "634/634 [==============================] - 17s 27ms/step - loss: 0.3489 - accuracy: 0.9054\n",
            "Epoch 71/100\n",
            "634/634 [==============================] - 17s 26ms/step - loss: 0.3438 - accuracy: 0.9057\n",
            "Epoch 72/100\n",
            "634/634 [==============================] - 17s 27ms/step - loss: 0.3385 - accuracy: 0.9084\n",
            "Epoch 73/100\n",
            "634/634 [==============================] - 17s 27ms/step - loss: 0.3320 - accuracy: 0.9082\n",
            "Epoch 74/100\n",
            "634/634 [==============================] - 17s 26ms/step - loss: 0.3247 - accuracy: 0.9102\n",
            "Epoch 75/100\n",
            "634/634 [==============================] - 17s 26ms/step - loss: 0.3175 - accuracy: 0.9122\n",
            "Epoch 76/100\n",
            "634/634 [==============================] - 17s 27ms/step - loss: 0.3162 - accuracy: 0.9116\n",
            "Epoch 77/100\n",
            "634/634 [==============================] - 17s 27ms/step - loss: 0.3077 - accuracy: 0.9146\n",
            "Epoch 78/100\n",
            "634/634 [==============================] - 17s 27ms/step - loss: 0.3045 - accuracy: 0.9139\n",
            "Epoch 79/100\n",
            "634/634 [==============================] - 17s 26ms/step - loss: 0.2990 - accuracy: 0.9145\n",
            "Epoch 80/100\n",
            "634/634 [==============================] - 18s 28ms/step - loss: 0.2952 - accuracy: 0.9160\n",
            "Epoch 81/100\n",
            "634/634 [==============================] - 18s 28ms/step - loss: 0.2886 - accuracy: 0.9173\n",
            "Epoch 82/100\n",
            "634/634 [==============================] - 17s 27ms/step - loss: 0.2826 - accuracy: 0.9190\n",
            "Epoch 83/100\n",
            "634/634 [==============================] - 17s 27ms/step - loss: 0.2817 - accuracy: 0.9190\n",
            "Epoch 84/100\n",
            "634/634 [==============================] - 17s 27ms/step - loss: 0.2763 - accuracy: 0.9192\n",
            "Epoch 85/100\n",
            "634/634 [==============================] - 17s 27ms/step - loss: 0.2734 - accuracy: 0.9199\n",
            "Epoch 86/100\n",
            "634/634 [==============================] - 17s 27ms/step - loss: 0.2665 - accuracy: 0.9213\n",
            "Epoch 87/100\n",
            "634/634 [==============================] - 17s 27ms/step - loss: 0.2663 - accuracy: 0.9219\n",
            "Epoch 88/100\n",
            "634/634 [==============================] - 17s 27ms/step - loss: 0.2605 - accuracy: 0.9230\n",
            "Epoch 89/100\n",
            "634/634 [==============================] - 17s 27ms/step - loss: 0.2552 - accuracy: 0.9242\n",
            "Epoch 90/100\n",
            "634/634 [==============================] - 17s 27ms/step - loss: 0.2547 - accuracy: 0.9239\n",
            "Epoch 91/100\n",
            "634/634 [==============================] - 17s 26ms/step - loss: 0.2509 - accuracy: 0.9247\n",
            "Epoch 92/100\n",
            "634/634 [==============================] - 17s 27ms/step - loss: 0.2479 - accuracy: 0.9253\n",
            "Epoch 93/100\n",
            "634/634 [==============================] - 17s 27ms/step - loss: 0.2433 - accuracy: 0.9268\n",
            "Epoch 94/100\n",
            "634/634 [==============================] - 17s 27ms/step - loss: 0.2404 - accuracy: 0.9267\n",
            "Epoch 95/100\n",
            "634/634 [==============================] - 17s 27ms/step - loss: 0.2397 - accuracy: 0.9270\n",
            "Epoch 96/100\n",
            "634/634 [==============================] - 17s 27ms/step - loss: 0.2373 - accuracy: 0.9264\n",
            "Epoch 97/100\n",
            "634/634 [==============================] - 17s 27ms/step - loss: 0.2313 - accuracy: 0.9295\n",
            "Epoch 98/100\n",
            "634/634 [==============================] - 17s 27ms/step - loss: 0.2306 - accuracy: 0.9283\n",
            "Epoch 99/100\n",
            "634/634 [==============================] - 19s 30ms/step - loss: 0.2292 - accuracy: 0.9286\n",
            "Epoch 100/100\n",
            "634/634 [==============================] - 18s 29ms/step - loss: 0.2258 - accuracy: 0.9292\n"
          ]
        }
      ]
    },
    {
      "cell_type": "code",
      "source": [
        "enc_dec_model.save('my_model.h5')"
      ],
      "metadata": {
        "id": "oXIV3Yne_LRk"
      },
      "execution_count": 73,
      "outputs": []
    },
    {
      "cell_type": "code",
      "source": [
        "\n",
        "def logits_to_sentence(logits, tokenizer):\n",
        "\n",
        "    index_to_words = {idx: word for word, idx in tokenizer.word_index.items()}\n",
        "    index_to_words[0] = '<empty>' \n",
        "\n",
        "    return ' '.join([index_to_words[prediction] for prediction in np.argmax(logits, 1)])\n",
        "\n",
        "index = 14\n",
        "print(\"The english sentence is: {}\".format(english_sentences[index]))\n",
        "print(\"The spanish sentence is: {}\".format(french_sentences[index]))\n",
        "print('The predicted sentence is :')\n",
        "print(logits_to_sentence(enc_dec_model.predict(, eng_text_tokenizer))"
      ],
      "metadata": {
        "colab": {
          "base_uri": "https://localhost:8080/"
        },
        "id": "j4HuiLvl_6eA",
        "outputId": "cb0d623f-2060-4132-ea99-fc748cd81f5f"
      },
      "execution_count": 75,
      "outputs": [
        {
          "output_type": "stream",
          "name": "stdout",
          "text": [
            "The english sentence is: i crashed\n",
            "The spanish sentence is: je suis tombée\n",
            "The predicted sentence is :\n",
            "i crashed <empty> <empty> <empty>\n"
          ]
        }
      ]
    },
    {
      "cell_type": "code",
      "source": [
        "\n",
        "def logits_to_sentence(logits, tokenizer):\n",
        "\n",
        "    index_to_words = {idx: word for word, idx in tokenizer.word_index.items()}\n",
        "    index_to_words[0] = '<empty>' \n",
        "\n",
        "    return ' '.join([index_to_words[prediction] for prediction in np.argmax(logits, 1)])\n",
        "\n",
        "index = 14\n",
        "print(\"The english sentence is: {}\".format(english_sentences[index]))\n",
        "print(\"The spanish sentence is: {}\".format(french_sentences[index]))\n",
        "print('The predicted sentence is :')\n",
        "print(logits_to_sentence(enc_dec_model.predict(, eng_text_tokenizer))"
      ],
      "metadata": {
        "outputId": "cb0d623f-2060-4132-ea99-fc748cd81f5f",
        "colab": {
          "base_uri": "https://localhost:8080/"
        },
        "id": "cGT0ZGdyBMee"
      },
      "execution_count": null,
      "outputs": [
        {
          "output_type": "stream",
          "name": "stdout",
          "text": [
            "The english sentence is: i crashed\n",
            "The spanish sentence is: je suis tombée\n",
            "The predicted sentence is :\n",
            "i crashed <empty> <empty> <empty>\n"
          ]
        }
      ]
    },
    {
      "cell_type": "code",
      "source": [
        "\n",
        "def logits_to_sentence(logits, tokenizer):\n",
        "\n",
        "    index_to_words = {idx: word for word, idx in tokenizer.word_index.items()}\n",
        "    index_to_words[0] = '<empty>' \n",
        "\n",
        "    return ' '.join([index_to_words[prediction] for prediction in np.argmax(logits, 1)])\n",
        "\n",
        "index = 14\n",
        "print(\"The english sentence is: {}\".format(english_sentences[index]))\n",
        "print(\"The spanish sentence is: {}\".format(spanish_sentences[index]))\n",
        "print('The predicted sentence is :')\n",
        "print(logits_to_sentence(enc_dec_model.predict(spa_pad_sentence[index:index+1])[0], eng_text_tokenizer))\n",
        "print(\"rfrif\")\n",
        "print(spa_pad_sentence[index:index+1])[0])\n",
        "\n",
        "\n",
        "\n",
        "\n"
      ],
      "metadata": {
        "outputId": "50dc5ac6-527c-4355-d5f1-2c07adb213df",
        "colab": {
          "base_uri": "https://localhost:8080/",
          "height": 134
        },
        "id": "0BnIzzcgBQp9"
      },
      "execution_count": 78,
      "outputs": [
        {
          "output_type": "error",
          "ename": "SyntaxError",
          "evalue": "ignored",
          "traceback": [
            "\u001b[0;36m  File \u001b[0;32m\"<ipython-input-78-a7bf89b29ea6>\"\u001b[0;36m, line \u001b[0;32m15\u001b[0m\n\u001b[0;31m    print(fra_pad_sentence[index:index+1])[0])\u001b[0m\n\u001b[0m                                             ^\u001b[0m\n\u001b[0;31mSyntaxError\u001b[0m\u001b[0;31m:\u001b[0m invalid syntax\n"
          ]
        }
      ]
    }
  ],
  "metadata": {
    "colab": {
      "collapsed_sections": [],
      "name": "Welcome To Colaboratory",
      "provenance": [],
      "include_colab_link": true
    },
    "kernelspec": {
      "display_name": "Python 3",
      "name": "python3"
    }
  },
  "nbformat": 4,
  "nbformat_minor": 0
}