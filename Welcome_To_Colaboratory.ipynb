{
  "cells": [
    {
      "cell_type": "markdown",
      "metadata": {
        "id": "view-in-github",
        "colab_type": "text"
      },
      "source": [
        "<a href=\"https://colab.research.google.com/github/BRAHIMLOUARDI/movie-web-app/blob/main/Welcome_To_Colaboratory.ipynb\" target=\"_parent\"><img src=\"https://colab.research.google.com/assets/colab-badge.svg\" alt=\"Open In Colab\"/></a>"
      ]
    },
    {
      "cell_type": "code",
      "source": [
        "import string\n",
        "import numpy as np\n",
        "\n",
        "from keras.preprocessing.text import Tokenizer\n",
        "from keras.preprocessing.sequence import pad_sequences\n",
        "from keras.models import Model\n",
        "from keras.layers import LSTM, Input, TimeDistributed, Dense, Activation, RepeatVector, Embedding\n",
        "from tensorflow.keras.optimizers import Adam\n",
        "from keras.losses import sparse_categorical_crossentropy\n",
        "\n",
        "# Path to translation file\n",
        "path_to_data = '/content/fra.txt'\n",
        "\n",
        "# Read file\n",
        "translation_file = open(path_to_data,\"r\", encoding='utf-8') \n",
        "raw_data = translation_file.read()\n",
        "translation_file.close()\n",
        "\n",
        "# Parse data\n",
        "raw_data = raw_data.split('\\n')\n",
        "pairs = [sentence.split('\\t') for sentence in  raw_data]\n",
        "pairs=pairs[0:192341]\n",
        "\n"
      ],
      "metadata": {
        "id": "dl2gDN6AeCsh"
      },
      "execution_count": 41,
      "outputs": []
    },
    {
      "cell_type": "code",
      "source": [
        "# list_of_lists = [[1,2,3],[4,5,6],[7,8,9]]\n",
        "\n",
        "# import csv\n",
        "\n",
        "# with open(\"out.csv\", \"w\") as f:\n",
        "#     wr = csv.writer(f)\n",
        "   \n",
        "#     wr.writerows(exppairs)\n",
        "\n"
      ],
      "metadata": {
        "id": "C4ULIFzdR2Fw"
      },
      "execution_count": 43,
      "outputs": []
    },
    {
      "cell_type": "code",
      "source": [
        "exppairs=pairs[0:10]\n",
        "file = open(\"sample.py\", \"w+\")\n",
        "\n",
        "# Saving the array in a text file\n",
        "for pair in exppairs :\n",
        "   file.write(str(pair))\n",
        "   file.write(\"\\n\")\n",
        "file.close()\n",
        "\n",
        "\n",
        "\n"
      ],
      "metadata": {
        "id": "5XSSgdgDUL3D"
      },
      "execution_count": 59,
      "outputs": []
    },
    {
      "cell_type": "code",
      "source": [
        "def clean_sentence(sentence):\n",
        "    # Lower case the sentence\n",
        "    lower_case_sent = sentence.lower()\n",
        "    # Strip punctuation\n",
        "    string_punctuation = string.punctuation + \"¡\" + '¿'\n",
        "    clean_sentence = lower_case_sent.translate(str.maketrans('', '', string_punctuation))\n",
        "   \n",
        "    return clean_sentence"
      ],
      "metadata": {
        "id": "kppzLb79oYWj"
      },
      "execution_count": 13,
      "outputs": []
    },
    {
      "cell_type": "code",
      "source": [
        "def tokenize(sentences):\n",
        "    # Create tokenizer\n",
        "    text_tokenizer = Tokenizer()\n",
        "    # Fit texts\n",
        "    text_tokenizer.fit_on_texts(sentences)\n",
        "    return text_tokenizer.texts_to_sequences(sentences), text_tokenizer"
      ],
      "metadata": {
        "id": "FlMW2oEBpK1-"
      },
      "execution_count": 14,
      "outputs": []
    },
    {
      "cell_type": "code",
      "source": [
        "\n",
        "english_sentences = [clean_sentence(pair[0]) for pair in pairs]\n",
        "french_sentences = [clean_sentence(pair[1]) for pair in pairs]\n",
        "\n",
        "# Tokenize words\n",
        "fra_text_tokenized, fra_text_tokenizer = tokenize(french_sentences)\n",
        "eng_text_tokenized, eng_text_tokenizer = tokenize(english_sentences)\n",
        "\n",
        "print('Maximum length french sentence: {}'.format(len(max(fra_text_tokenized,key=len))))\n",
        "print('Maximum length english sentence: {}'.format(len(max(eng_text_tokenized,key=len))))\n",
        "\n",
        "\n",
        "# Check language length\n",
        "french_vocab = len(fra_text_tokenizer.word_index) + 1\n",
        "english_vocab = len(eng_text_tokenizer.word_index) + 1\n",
        "print(\"Spanish vocabulary is of {} unique words\".format(french_vocab))\n",
        "print(\"English vocabulary is of {} unique words\".format(english_vocab))"
      ],
      "metadata": {
        "id": "FJd49T6VpQtn"
      },
      "execution_count": null,
      "outputs": []
    },
    {
      "cell_type": "code",
      "source": [
        "max_french_len = int(len(max(fra_text_tokenized,key=len)))\n",
        "max_english_len = int(len(max(eng_text_tokenized,key=len)))\n",
        "\n",
        "fra_pad_sentence = pad_sequences(fra_text_tokenized, max_french_len, padding = \"post\")\n",
        "eng_pad_sentence = pad_sequences(eng_text_tokenized, max_english_len, padding = \"post\")\n",
        "\n",
        "fra_pad_sentence1 = pad_sequences(fra_text_tokenized, max_french_len, padding = \"post\")\n",
        "eng_pad_sentence1 = pad_sequences(eng_text_tokenized, max_english_len, padding = \"post\")\n",
        "\n",
        "# Reshape data\n",
        "fra_pad_sentence = fra_pad_sentence.reshape(*fra_pad_sentence.shape, 1)\n",
        "eng_pad_sentence = eng_pad_sentence.reshape(*eng_pad_sentence.shape, 1)"
      ],
      "metadata": {
        "id": "g6LIc2DpqRUl"
      },
      "execution_count": 91,
      "outputs": []
    },
    {
      "cell_type": "code",
      "source": [
        "input_sequence = Input(shape=(max_french_len,))\n",
        "embedding = Embedding(input_dim=french_vocab, output_dim=128,)(input_sequence)"
      ],
      "metadata": {
        "id": "mWBT4WhOutoR"
      },
      "execution_count": 92,
      "outputs": []
    },
    {
      "cell_type": "code",
      "source": [
        "encoder = LSTM(64, return_sequences=False)(embedding)\n",
        "r_vec = RepeatVector(max_english_len)(encoder)\n",
        "decoder = LSTM(64, return_sequences=True, dropout=0.2)(r_vec)\n",
        "logits = TimeDistributed(Dense(english_vocab))(decoder)\n"
      ],
      "metadata": {
        "id": "YFefu6Nf4hDa"
      },
      "execution_count": 94,
      "outputs": []
    },
    {
      "cell_type": "code",
      "source": [
        "enc_dec_model = Model(input_sequence, Activation('softmax')(logits))\n",
        "enc_dec_model.compile(loss=sparse_categorical_crossentropy,\n",
        "              optimizer=Adam(1e-3),\n",
        "              metrics=['accuracy'])\n",
        "enc_dec_model.summary()"
      ],
      "metadata": {
        "id": "EdayUG1V4kUn",
        "outputId": "852fe58f-741a-4231-8774-a38055ca8d33",
        "colab": {
          "base_uri": "https://localhost:8080/"
        }
      },
      "execution_count": 95,
      "outputs": [
        {
          "output_type": "stream",
          "name": "stdout",
          "text": [
            "Model: \"model\"\n",
            "_________________________________________________________________\n",
            " Layer (type)                Output Shape              Param #   \n",
            "=================================================================\n",
            " input_1 (InputLayer)        [(None, 55)]              0         \n",
            "                                                                 \n",
            " embedding (Embedding)       (None, 55, 128)           4551936   \n",
            "                                                                 \n",
            " lstm_1 (LSTM)               (None, 64)                49408     \n",
            "                                                                 \n",
            " repeat_vector (RepeatVector  (None, 47, 64)           0         \n",
            " )                                                               \n",
            "                                                                 \n",
            " lstm_2 (LSTM)               (None, 47, 64)            33024     \n",
            "                                                                 \n",
            " time_distributed (TimeDistr  (None, 47, 15850)        1030250   \n",
            " ibuted)                                                         \n",
            "                                                                 \n",
            " activation (Activation)     (None, 47, 15850)         0         \n",
            "                                                                 \n",
            "=================================================================\n",
            "Total params: 5,664,618\n",
            "Trainable params: 5,664,618\n",
            "Non-trainable params: 0\n",
            "_________________________________________________________________\n"
          ]
        }
      ]
    },
    {
      "cell_type": "code",
      "source": [
        "from keras.callbacks import ModelCheckpoint\n",
        "checkpoint = ModelCheckpoint(\"best_model.hdf5\", monitor='loss', verbose=1,\n",
        "    save_best_only=True, mode='auto', period=1)"
      ],
      "metadata": {
        "id": "wwSe7dqOgZfC",
        "outputId": "8da3bac9-1119-4c6c-fa5b-5d21c3351655",
        "colab": {
          "base_uri": "https://localhost:8080/"
        }
      },
      "execution_count": 98,
      "outputs": [
        {
          "output_type": "stream",
          "name": "stdout",
          "text": [
            "WARNING:tensorflow:`period` argument is deprecated. Please use `save_freq` to specify the frequency in number of batches seen.\n"
          ]
        }
      ]
    },
    {
      "cell_type": "code",
      "source": [
        "model_results = enc_dec_model.fit(fra_pad_sentence, eng_pad_sentence, batch_size=30, epochs=100,callbacks=[checkpoint])\n"
      ],
      "metadata": {
        "id": "-n0L3m3h4rAn",
        "outputId": "a37188b8-1216-4793-c4b2-b22a4b261030",
        "colab": {
          "base_uri": "https://localhost:8080/",
          "height": 417
        }
      },
      "execution_count": 99,
      "outputs": [
        {
          "output_type": "stream",
          "name": "stdout",
          "text": [
            "Epoch 1/100\n",
            " 276/6412 [>.............................] - ETA: 1:03:18 - loss: 1.6449 - accuracy: 0.8709"
          ]
        },
        {
          "output_type": "error",
          "ename": "KeyboardInterrupt",
          "evalue": "ignored",
          "traceback": [
            "\u001b[0;31m---------------------------------------------------------------------------\u001b[0m",
            "\u001b[0;31mKeyboardInterrupt\u001b[0m                         Traceback (most recent call last)",
            "\u001b[0;32m<ipython-input-99-b40fb5437e8d>\u001b[0m in \u001b[0;36m<module>\u001b[0;34m()\u001b[0m\n\u001b[0;32m----> 1\u001b[0;31m \u001b[0mmodel_results\u001b[0m \u001b[0;34m=\u001b[0m \u001b[0menc_dec_model\u001b[0m\u001b[0;34m.\u001b[0m\u001b[0mfit\u001b[0m\u001b[0;34m(\u001b[0m\u001b[0mfra_pad_sentence\u001b[0m\u001b[0;34m,\u001b[0m \u001b[0meng_pad_sentence\u001b[0m\u001b[0;34m,\u001b[0m \u001b[0mbatch_size\u001b[0m\u001b[0;34m=\u001b[0m\u001b[0;36m30\u001b[0m\u001b[0;34m,\u001b[0m \u001b[0mepochs\u001b[0m\u001b[0;34m=\u001b[0m\u001b[0;36m100\u001b[0m\u001b[0;34m,\u001b[0m\u001b[0mcallbacks\u001b[0m\u001b[0;34m=\u001b[0m\u001b[0;34m[\u001b[0m\u001b[0mcheckpoint\u001b[0m\u001b[0;34m]\u001b[0m\u001b[0;34m)\u001b[0m\u001b[0;34m\u001b[0m\u001b[0;34m\u001b[0m\u001b[0m\n\u001b[0m",
            "\u001b[0;32m/usr/local/lib/python3.7/dist-packages/keras/utils/traceback_utils.py\u001b[0m in \u001b[0;36merror_handler\u001b[0;34m(*args, **kwargs)\u001b[0m\n\u001b[1;32m     62\u001b[0m     \u001b[0mfiltered_tb\u001b[0m \u001b[0;34m=\u001b[0m \u001b[0;32mNone\u001b[0m\u001b[0;34m\u001b[0m\u001b[0;34m\u001b[0m\u001b[0m\n\u001b[1;32m     63\u001b[0m     \u001b[0;32mtry\u001b[0m\u001b[0;34m:\u001b[0m\u001b[0;34m\u001b[0m\u001b[0;34m\u001b[0m\u001b[0m\n\u001b[0;32m---> 64\u001b[0;31m       \u001b[0;32mreturn\u001b[0m \u001b[0mfn\u001b[0m\u001b[0;34m(\u001b[0m\u001b[0;34m*\u001b[0m\u001b[0margs\u001b[0m\u001b[0;34m,\u001b[0m \u001b[0;34m**\u001b[0m\u001b[0mkwargs\u001b[0m\u001b[0;34m)\u001b[0m\u001b[0;34m\u001b[0m\u001b[0;34m\u001b[0m\u001b[0m\n\u001b[0m\u001b[1;32m     65\u001b[0m     \u001b[0;32mexcept\u001b[0m \u001b[0mException\u001b[0m \u001b[0;32mas\u001b[0m \u001b[0me\u001b[0m\u001b[0;34m:\u001b[0m  \u001b[0;31m# pylint: disable=broad-except\u001b[0m\u001b[0;34m\u001b[0m\u001b[0;34m\u001b[0m\u001b[0m\n\u001b[1;32m     66\u001b[0m       \u001b[0mfiltered_tb\u001b[0m \u001b[0;34m=\u001b[0m \u001b[0m_process_traceback_frames\u001b[0m\u001b[0;34m(\u001b[0m\u001b[0me\u001b[0m\u001b[0;34m.\u001b[0m\u001b[0m__traceback__\u001b[0m\u001b[0;34m)\u001b[0m\u001b[0;34m\u001b[0m\u001b[0;34m\u001b[0m\u001b[0m\n",
            "\u001b[0;32m/usr/local/lib/python3.7/dist-packages/keras/engine/training.py\u001b[0m in \u001b[0;36mfit\u001b[0;34m(self, x, y, batch_size, epochs, verbose, callbacks, validation_split, validation_data, shuffle, class_weight, sample_weight, initial_epoch, steps_per_epoch, validation_steps, validation_batch_size, validation_freq, max_queue_size, workers, use_multiprocessing)\u001b[0m\n\u001b[1;32m   1382\u001b[0m                 _r=1):\n\u001b[1;32m   1383\u001b[0m               \u001b[0mcallbacks\u001b[0m\u001b[0;34m.\u001b[0m\u001b[0mon_train_batch_begin\u001b[0m\u001b[0;34m(\u001b[0m\u001b[0mstep\u001b[0m\u001b[0;34m)\u001b[0m\u001b[0;34m\u001b[0m\u001b[0;34m\u001b[0m\u001b[0m\n\u001b[0;32m-> 1384\u001b[0;31m               \u001b[0mtmp_logs\u001b[0m \u001b[0;34m=\u001b[0m \u001b[0mself\u001b[0m\u001b[0;34m.\u001b[0m\u001b[0mtrain_function\u001b[0m\u001b[0;34m(\u001b[0m\u001b[0miterator\u001b[0m\u001b[0;34m)\u001b[0m\u001b[0;34m\u001b[0m\u001b[0;34m\u001b[0m\u001b[0m\n\u001b[0m\u001b[1;32m   1385\u001b[0m               \u001b[0;32mif\u001b[0m \u001b[0mdata_handler\u001b[0m\u001b[0;34m.\u001b[0m\u001b[0mshould_sync\u001b[0m\u001b[0;34m:\u001b[0m\u001b[0;34m\u001b[0m\u001b[0;34m\u001b[0m\u001b[0m\n\u001b[1;32m   1386\u001b[0m                 \u001b[0mcontext\u001b[0m\u001b[0;34m.\u001b[0m\u001b[0masync_wait\u001b[0m\u001b[0;34m(\u001b[0m\u001b[0;34m)\u001b[0m\u001b[0;34m\u001b[0m\u001b[0;34m\u001b[0m\u001b[0m\n",
            "\u001b[0;32m/usr/local/lib/python3.7/dist-packages/tensorflow/python/util/traceback_utils.py\u001b[0m in \u001b[0;36merror_handler\u001b[0;34m(*args, **kwargs)\u001b[0m\n\u001b[1;32m    148\u001b[0m     \u001b[0mfiltered_tb\u001b[0m \u001b[0;34m=\u001b[0m \u001b[0;32mNone\u001b[0m\u001b[0;34m\u001b[0m\u001b[0;34m\u001b[0m\u001b[0m\n\u001b[1;32m    149\u001b[0m     \u001b[0;32mtry\u001b[0m\u001b[0;34m:\u001b[0m\u001b[0;34m\u001b[0m\u001b[0;34m\u001b[0m\u001b[0m\n\u001b[0;32m--> 150\u001b[0;31m       \u001b[0;32mreturn\u001b[0m \u001b[0mfn\u001b[0m\u001b[0;34m(\u001b[0m\u001b[0;34m*\u001b[0m\u001b[0margs\u001b[0m\u001b[0;34m,\u001b[0m \u001b[0;34m**\u001b[0m\u001b[0mkwargs\u001b[0m\u001b[0;34m)\u001b[0m\u001b[0;34m\u001b[0m\u001b[0;34m\u001b[0m\u001b[0m\n\u001b[0m\u001b[1;32m    151\u001b[0m     \u001b[0;32mexcept\u001b[0m \u001b[0mException\u001b[0m \u001b[0;32mas\u001b[0m \u001b[0me\u001b[0m\u001b[0;34m:\u001b[0m\u001b[0;34m\u001b[0m\u001b[0;34m\u001b[0m\u001b[0m\n\u001b[1;32m    152\u001b[0m       \u001b[0mfiltered_tb\u001b[0m \u001b[0;34m=\u001b[0m \u001b[0m_process_traceback_frames\u001b[0m\u001b[0;34m(\u001b[0m\u001b[0me\u001b[0m\u001b[0;34m.\u001b[0m\u001b[0m__traceback__\u001b[0m\u001b[0;34m)\u001b[0m\u001b[0;34m\u001b[0m\u001b[0;34m\u001b[0m\u001b[0m\n",
            "\u001b[0;32m/usr/local/lib/python3.7/dist-packages/tensorflow/python/eager/def_function.py\u001b[0m in \u001b[0;36m__call__\u001b[0;34m(self, *args, **kwds)\u001b[0m\n\u001b[1;32m    913\u001b[0m \u001b[0;34m\u001b[0m\u001b[0m\n\u001b[1;32m    914\u001b[0m       \u001b[0;32mwith\u001b[0m \u001b[0mOptionalXlaContext\u001b[0m\u001b[0;34m(\u001b[0m\u001b[0mself\u001b[0m\u001b[0;34m.\u001b[0m\u001b[0m_jit_compile\u001b[0m\u001b[0;34m)\u001b[0m\u001b[0;34m:\u001b[0m\u001b[0;34m\u001b[0m\u001b[0;34m\u001b[0m\u001b[0m\n\u001b[0;32m--> 915\u001b[0;31m         \u001b[0mresult\u001b[0m \u001b[0;34m=\u001b[0m \u001b[0mself\u001b[0m\u001b[0;34m.\u001b[0m\u001b[0m_call\u001b[0m\u001b[0;34m(\u001b[0m\u001b[0;34m*\u001b[0m\u001b[0margs\u001b[0m\u001b[0;34m,\u001b[0m \u001b[0;34m**\u001b[0m\u001b[0mkwds\u001b[0m\u001b[0;34m)\u001b[0m\u001b[0;34m\u001b[0m\u001b[0;34m\u001b[0m\u001b[0m\n\u001b[0m\u001b[1;32m    916\u001b[0m \u001b[0;34m\u001b[0m\u001b[0m\n\u001b[1;32m    917\u001b[0m       \u001b[0mnew_tracing_count\u001b[0m \u001b[0;34m=\u001b[0m \u001b[0mself\u001b[0m\u001b[0;34m.\u001b[0m\u001b[0mexperimental_get_tracing_count\u001b[0m\u001b[0;34m(\u001b[0m\u001b[0;34m)\u001b[0m\u001b[0;34m\u001b[0m\u001b[0;34m\u001b[0m\u001b[0m\n",
            "\u001b[0;32m/usr/local/lib/python3.7/dist-packages/tensorflow/python/eager/def_function.py\u001b[0m in \u001b[0;36m_call\u001b[0;34m(self, *args, **kwds)\u001b[0m\n\u001b[1;32m    945\u001b[0m       \u001b[0;31m# In this case we have created variables on the first call, so we run the\u001b[0m\u001b[0;34m\u001b[0m\u001b[0;34m\u001b[0m\u001b[0;34m\u001b[0m\u001b[0m\n\u001b[1;32m    946\u001b[0m       \u001b[0;31m# defunned version which is guaranteed to never create variables.\u001b[0m\u001b[0;34m\u001b[0m\u001b[0;34m\u001b[0m\u001b[0;34m\u001b[0m\u001b[0m\n\u001b[0;32m--> 947\u001b[0;31m       \u001b[0;32mreturn\u001b[0m \u001b[0mself\u001b[0m\u001b[0;34m.\u001b[0m\u001b[0m_stateless_fn\u001b[0m\u001b[0;34m(\u001b[0m\u001b[0;34m*\u001b[0m\u001b[0margs\u001b[0m\u001b[0;34m,\u001b[0m \u001b[0;34m**\u001b[0m\u001b[0mkwds\u001b[0m\u001b[0;34m)\u001b[0m  \u001b[0;31m# pylint: disable=not-callable\u001b[0m\u001b[0;34m\u001b[0m\u001b[0;34m\u001b[0m\u001b[0m\n\u001b[0m\u001b[1;32m    948\u001b[0m     \u001b[0;32melif\u001b[0m \u001b[0mself\u001b[0m\u001b[0;34m.\u001b[0m\u001b[0m_stateful_fn\u001b[0m \u001b[0;32mis\u001b[0m \u001b[0;32mnot\u001b[0m \u001b[0;32mNone\u001b[0m\u001b[0;34m:\u001b[0m\u001b[0;34m\u001b[0m\u001b[0;34m\u001b[0m\u001b[0m\n\u001b[1;32m    949\u001b[0m       \u001b[0;31m# Release the lock early so that multiple threads can perform the call\u001b[0m\u001b[0;34m\u001b[0m\u001b[0;34m\u001b[0m\u001b[0;34m\u001b[0m\u001b[0m\n",
            "\u001b[0;32m/usr/local/lib/python3.7/dist-packages/tensorflow/python/eager/function.py\u001b[0m in \u001b[0;36m__call__\u001b[0;34m(self, *args, **kwargs)\u001b[0m\n\u001b[1;32m   2955\u001b[0m        filtered_flat_args) = self._maybe_define_function(args, kwargs)\n\u001b[1;32m   2956\u001b[0m     return graph_function._call_flat(\n\u001b[0;32m-> 2957\u001b[0;31m         filtered_flat_args, captured_inputs=graph_function.captured_inputs)  # pylint: disable=protected-access\n\u001b[0m\u001b[1;32m   2958\u001b[0m \u001b[0;34m\u001b[0m\u001b[0m\n\u001b[1;32m   2959\u001b[0m   \u001b[0;34m@\u001b[0m\u001b[0mproperty\u001b[0m\u001b[0;34m\u001b[0m\u001b[0;34m\u001b[0m\u001b[0m\n",
            "\u001b[0;32m/usr/local/lib/python3.7/dist-packages/tensorflow/python/eager/function.py\u001b[0m in \u001b[0;36m_call_flat\u001b[0;34m(self, args, captured_inputs, cancellation_manager)\u001b[0m\n\u001b[1;32m   1852\u001b[0m       \u001b[0;31m# No tape is watching; skip to running the function.\u001b[0m\u001b[0;34m\u001b[0m\u001b[0;34m\u001b[0m\u001b[0;34m\u001b[0m\u001b[0m\n\u001b[1;32m   1853\u001b[0m       return self._build_call_outputs(self._inference_function.call(\n\u001b[0;32m-> 1854\u001b[0;31m           ctx, args, cancellation_manager=cancellation_manager))\n\u001b[0m\u001b[1;32m   1855\u001b[0m     forward_backward = self._select_forward_and_backward_functions(\n\u001b[1;32m   1856\u001b[0m         \u001b[0margs\u001b[0m\u001b[0;34m,\u001b[0m\u001b[0;34m\u001b[0m\u001b[0;34m\u001b[0m\u001b[0m\n",
            "\u001b[0;32m/usr/local/lib/python3.7/dist-packages/tensorflow/python/eager/function.py\u001b[0m in \u001b[0;36mcall\u001b[0;34m(self, ctx, args, cancellation_manager)\u001b[0m\n\u001b[1;32m    502\u001b[0m               \u001b[0minputs\u001b[0m\u001b[0;34m=\u001b[0m\u001b[0margs\u001b[0m\u001b[0;34m,\u001b[0m\u001b[0;34m\u001b[0m\u001b[0;34m\u001b[0m\u001b[0m\n\u001b[1;32m    503\u001b[0m               \u001b[0mattrs\u001b[0m\u001b[0;34m=\u001b[0m\u001b[0mattrs\u001b[0m\u001b[0;34m,\u001b[0m\u001b[0;34m\u001b[0m\u001b[0;34m\u001b[0m\u001b[0m\n\u001b[0;32m--> 504\u001b[0;31m               ctx=ctx)\n\u001b[0m\u001b[1;32m    505\u001b[0m         \u001b[0;32melse\u001b[0m\u001b[0;34m:\u001b[0m\u001b[0;34m\u001b[0m\u001b[0;34m\u001b[0m\u001b[0m\n\u001b[1;32m    506\u001b[0m           outputs = execute.execute_with_cancellation(\n",
            "\u001b[0;32m/usr/local/lib/python3.7/dist-packages/tensorflow/python/eager/execute.py\u001b[0m in \u001b[0;36mquick_execute\u001b[0;34m(op_name, num_outputs, inputs, attrs, ctx, name)\u001b[0m\n\u001b[1;32m     53\u001b[0m     \u001b[0mctx\u001b[0m\u001b[0;34m.\u001b[0m\u001b[0mensure_initialized\u001b[0m\u001b[0;34m(\u001b[0m\u001b[0;34m)\u001b[0m\u001b[0;34m\u001b[0m\u001b[0;34m\u001b[0m\u001b[0m\n\u001b[1;32m     54\u001b[0m     tensors = pywrap_tfe.TFE_Py_Execute(ctx._handle, device_name, op_name,\n\u001b[0;32m---> 55\u001b[0;31m                                         inputs, attrs, num_outputs)\n\u001b[0m\u001b[1;32m     56\u001b[0m   \u001b[0;32mexcept\u001b[0m \u001b[0mcore\u001b[0m\u001b[0;34m.\u001b[0m\u001b[0m_NotOkStatusException\u001b[0m \u001b[0;32mas\u001b[0m \u001b[0me\u001b[0m\u001b[0;34m:\u001b[0m\u001b[0;34m\u001b[0m\u001b[0;34m\u001b[0m\u001b[0m\n\u001b[1;32m     57\u001b[0m     \u001b[0;32mif\u001b[0m \u001b[0mname\u001b[0m \u001b[0;32mis\u001b[0m \u001b[0;32mnot\u001b[0m \u001b[0;32mNone\u001b[0m\u001b[0;34m:\u001b[0m\u001b[0;34m\u001b[0m\u001b[0;34m\u001b[0m\u001b[0m\n",
            "\u001b[0;31mKeyboardInterrupt\u001b[0m: "
          ]
        }
      ]
    },
    {
      "cell_type": "code",
      "source": [
        "enc_dec_model.save('my_model.h5')"
      ],
      "metadata": {
        "id": "oXIV3Yne_LRk"
      },
      "execution_count": null,
      "outputs": []
    },
    {
      "cell_type": "code",
      "source": [
        "\n",
        "def logits_to_sentence(logits, tokenizer):\n",
        "\n",
        "    index_to_words = {idx: word for word, idx in tokenizer.word_index.items()}\n",
        "    index_to_words[0] = '<empty>' \n",
        "\n",
        "    return ' '.join([index_to_words[prediction] for prediction in np.argmax(logits, 1)])\n",
        "\n",
        "index = 14\n",
        "print(\"The english sentence is: {}\".format(english_sentences[index]))\n",
        "print(\"The spanish sentence is: {}\".format(french_sentences[index]))\n",
        "print('The predicted sentence is :')\n",
        "print(logits_to_sentence(enc_dec_model.predict(, eng_text_tokenizer))"
      ],
      "metadata": {
        "id": "j4HuiLvl_6eA"
      },
      "execution_count": null,
      "outputs": []
    },
    {
      "cell_type": "code",
      "source": [
        "\n",
        "def logits_to_sentence(logits, tokenizer):\n",
        "\n",
        "    index_to_words = {idx: word for word, idx in tokenizer.word_index.items()}\n",
        "    index_to_words[0] = '<empty>' \n",
        "\n",
        "    return ' '.join([index_to_words[prediction] for prediction in np.argmax(logits, 1)])\n",
        "\n",
        "index = 14\n",
        "print(\"The english sentence is: {}\".format(english_sentences[index]))\n",
        "print(\"The spanish sentence is: {}\".format(french_sentences[index]))\n",
        "print('The predicted sentence is :')\n",
        "print(logits_to_sentence(enc_dec_model.predict(, eng_text_tokenizer))"
      ],
      "metadata": {
        "id": "cGT0ZGdyBMee"
      },
      "execution_count": null,
      "outputs": []
    },
    {
      "cell_type": "code",
      "source": [
        "\n",
        "def logits_to_sentence(logits, tokenizer):\n",
        "\n",
        "    index_to_words = {idx: word for word, idx in tokenizer.word_index.items()}\n",
        "    index_to_words[0] = '<empty>' \n",
        "\n",
        "    return ' '.join([index_to_words[prediction] for prediction in np.argmax(logits, 1)])\n",
        "\n",
        "index = 14\n",
        "print(\"The english sentence is: {}\".format(english_sentences[index]))\n",
        "print(\"The spanish sentence is: {}\".format(french_sentences[index]))\n",
        "print('The predicted sentence is :')\n",
        "print(logits_to_sentence(enc_dec_model.predict(fra_pad_sentence[index:index+1])[0], eng_text_tokenizer))\n",
        "print(\"rfrif\")\n",
        "print(fra_pad_sentence[index:index+1])\n",
        "\n",
        "\n",
        "\n",
        "\n"
      ],
      "metadata": {
        "id": "0BnIzzcgBQp9"
      },
      "execution_count": null,
      "outputs": []
    },
    {
      "cell_type": "code",
      "source": [
        "new_model = tf.keras.models.load_model('my_model.h5')\n",
        "index = 15\n",
        "\n",
        "\n",
        "print(fra_text_tokenized)\n",
        "\n",
        "print(fra_text_tokenizer.word_index)\n",
        "print(fra_text_tokenized)\n",
        "\n",
        "\n",
        "# fra_pad_sentence = pad_sequences(fra_text_tokenized, max_french_len, padding = \"post\")\n",
        "# eng_pad_sentence = pad_sequences(eng_text_tokenized, max_english_len, padding = \"post\")\n",
        "\n",
        "# fra_pad_sentence1 = pad_sequences(fra_text_tokenized, max_french_len, padding = \"post\")\n",
        "# eng_pad_sentence1 = pad_sequences(eng_text_tokenized, max_english_len, padding = \"post\")\n",
        "\n",
        "# # Reshape data\n",
        "# fra_pad_sentence = fra_pad_sentence.reshape(*fra_pad_sentence.shape, 1)\n",
        "# eng_pad_sentence = eng_pad_sentence.reshape(*eng_pad_sentence.shape, 1)\n",
        "\n",
        "\n",
        "print(fra_pad_sentence[0])\n",
        "\n"
      ],
      "metadata": {
        "id": "gyK75ot6DBSO"
      },
      "execution_count": null,
      "outputs": []
    },
    {
      "cell_type": "code",
      "source": [
        "new_model = tf.keras.models.load_model('my_model.h5')\n",
        "\n",
        "\n",
        "print(fra_text_tokenized)\n",
        "\n",
        "print(fra_text_tokenizer.word_index)\n",
        "print(fra_text_tokenized)\n",
        "\n",
        "\n",
        "# fra_pad_sentence = pad_sequences(fra_text_tokenized, max_french_len, padding = \"post\")\n",
        "# eng_pad_sentence = pad_sequences(eng_text_tokenized, max_english_len, padding = \"post\")\n",
        "\n",
        "# fra_pad_sentence1 = pad_sequences(fra_text_tokenized, max_french_len, padding = \"post\")\n",
        "# eng_pad_sentence1 = pad_sequences(eng_text_tokenized, max_english_len, padding = \"post\")\n",
        "\n",
        "# # Reshape data\n",
        "# fra_pad_sentence = fra_pad_sentence.reshape(*fra_pad_sentence.shape, 1)\n",
        "# eng_pad_sentence = eng_pad_sentence.reshape(*eng_pad_sentence.shape, 1)\n"
      ],
      "metadata": {
        "id": "Iqw6o_iTGjan"
      },
      "execution_count": null,
      "outputs": []
    },
    {
      "cell_type": "code",
      "source": [
        "from numpy.core.fromnumeric import shape\n",
        "fra_text = pad_sequences([[1,4,2404]], max_french_len, padding = \"post\")\n",
        "\n",
        "fra_text = fra_text.reshape(*fra_text.shape, 1)\n",
        "print(fra_text)\n",
        "index = 30\n",
        "print(\"The english sentence is: {}\".format(english_sentences[index]))\n",
        "print(\"The spanish sentence is: {}\".format(french_sentences[index]))\n",
        "print('The predicted sentence is :')\n",
        "hhh,jjjjj=enc_dec_model.predict(fra_pad_sentence[index:index+1])[0], eng_text_tokenizer\n",
        "\n",
        "\n",
        "\n",
        "print(np.argmax(hhh[1]))\n",
        "\n",
        "print(eng_text_tokenizer.word_index)"
      ],
      "metadata": {
        "id": "pU_WlImREKE9"
      },
      "execution_count": null,
      "outputs": []
    },
    {
      "cell_type": "markdown",
      "source": [
        "experment\n"
      ],
      "metadata": {
        "id": "_9obyY0-MfkP"
      }
    },
    {
      "cell_type": "code",
      "source": [
        "#exp\n",
        "\n",
        "input_sequence1 = Input(shape=(12,))\n",
        "embedding1 = Embedding(input_dim=7188, output_dim=128,)(input_sequence1)\n",
        "\n",
        "model1 = Model(inputs=input_sequence1 , outputs=embedding1, name=\"mnist_model\")\n",
        "model1.compile('rmsprop', 'mse')\n",
        "\n",
        "\n",
        "input_data = np.array([[1,2,4,5,18,0,0,0,4,10,12,13]])\n",
        "\n",
        "output_array = model1.predict(input_data)\n",
        "print(output_array[0][0])\n"
      ],
      "metadata": {
        "id": "gG7fqULtFbYh"
      },
      "execution_count": null,
      "outputs": []
    },
    {
      "cell_type": "code",
      "source": [
        "# for layer in model1.layers: print(layer.get_config(), layer.get_weights())\n",
        "#print(model1.layers[1].get_weights()[0].shape)"
      ],
      "metadata": {
        "id": "7ORwFcrrMpGC",
        "outputId": "053316d8-ff23-4644-99f0-a4272301fc0b",
        "colab": {
          "base_uri": "https://localhost:8080/"
        }
      },
      "execution_count": null,
      "outputs": [
        {
          "output_type": "stream",
          "name": "stdout",
          "text": [
            "(7188, 128)\n"
          ]
        }
      ]
    },
    {
      "cell_type": "code",
      "source": [
        "#exp\n",
        "lstm = LSTM(64, return_sequences=False)(embedding1)\n",
        "\n",
        "lstmrepeatvector = RepeatVector(6)(lstm)\n",
        "lstmdecoder = LSTM(64, return_sequences=True, dropout=0.2)(lstmrepeatvector)\n",
        "lstmlogits = TimeDistributed(Dense(3733))(lstmdecoder)\n",
        "modellstm = Model(inputs=input_sequence1 , outputs=lstmlogits, name=\"mnist_model\")"
      ],
      "metadata": {
        "id": "9QNmJKs9OCzK"
      },
      "execution_count": null,
      "outputs": []
    },
    {
      "cell_type": "code",
      "source": [
        "#exp\n",
        "modellstm.compile('rmsprop', 'mse')"
      ],
      "metadata": {
        "id": "rCPcJ5O3Oxak"
      },
      "execution_count": null,
      "outputs": []
    },
    {
      "cell_type": "code",
      "source": [
        "#EXP\n",
        "output_array = modellstm.predict(input_data)\n",
        "reshape_out=np.reshape(output_array[0][0],(3733,-1))\n",
        "print(reshape_out.shape)\n"
      ],
      "metadata": {
        "id": "D8j0gze5PCVv",
        "outputId": "88d57099-80f2-4978-e552-f21199dd89b4",
        "colab": {
          "base_uri": "https://localhost:8080/"
        }
      },
      "execution_count": null,
      "outputs": [
        {
          "output_type": "stream",
          "name": "stdout",
          "text": [
            "(3733, 1)\n"
          ]
        }
      ]
    }
  ],
  "metadata": {
    "colab": {
      "collapsed_sections": [],
      "name": "Welcome To Colaboratory",
      "provenance": [],
      "include_colab_link": true
    },
    "kernelspec": {
      "display_name": "Python 3",
      "name": "python3"
    }
  },
  "nbformat": 4,
  "nbformat_minor": 0
}